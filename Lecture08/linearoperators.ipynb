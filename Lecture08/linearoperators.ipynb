{
 "cells": [
  {
   "cell_type": "markdown",
   "metadata": {},
   "source": [
    "# Linear Operators"
   ]
  },
  {
   "cell_type": "code",
   "execution_count": 1,
   "metadata": {},
   "outputs": [
    {
     "name": "stdout",
     "output_type": "stream",
     "text": [
      "Populating the interactive namespace from numpy and matplotlib\n"
     ]
    }
   ],
   "source": [
    "%pylab inline\n",
    "import scipy as sp\n",
    "import scipy.sparse as sparse\n",
    "import scipy.sparse.linalg as sla"
   ]
  },
  {
   "cell_type": "markdown",
   "metadata": {},
   "source": [
    "In linear algebra, a linear transformation, linear operator, or linear map, is a map of vector spaces $T:V \\to W$ where \n",
    "$$T(\\alpha v_1 + \\beta v_2) = \\alpha T v_1 + \\beta T v_2$$\n",
    "\n",
    "If you choose bases for the vector spaces $V$ and $W$, you can represent $T$ using a (dense) matrix.  However, there are many situations where we may want to represent $T$ in some other format which will allow us to do faster matrix-vector and matrix-matrix multiplications.\n",
    "\n",
    "The case of a sparse matrix is handled by [special matrix formats](sparse.html), but there are also situations in which dense matrices can also be applied quickly.\n",
    "\n",
    "## Low Rank Matrices\n",
    "\n",
    "The easiest situation to describe is a low-rank matrix.  We saw an example of this when we first saw object-oriented programming in the [`LinearMap` class](https://caam37830.github.io/book/00_python/classes.html#class-inheritance). SciPy provides a very similar class which can be used to construct arbitrary linear operators, which is called `LinearOperator`.\n",
    "\n",
    "The `LinearOperator` class can be found in `scipy.sparse.linalg`.  The `aslinearoperator` function lets us to treat dense and sparse arrays as `LinearOperators`."
   ]
  },
  {
   "cell_type": "code",
   "execution_count": 2,
   "metadata": {},
   "outputs": [],
   "source": [
    "from scipy.sparse.linalg import LinearOperator, aslinearoperator"
   ]
  },
  {
   "cell_type": "markdown",
   "metadata": {},
   "source": [
    "As an example, let's construct a `LinearOperator` that acts as the matrix of all ones. This matrix is rank-1 and can be written as $11^T$, where $1$ is a vector of the appropriate dimension."
   ]
  },
  {
   "cell_type": "code",
   "execution_count": 3,
   "metadata": {},
   "outputs": [],
   "source": [
    "n = 20\n",
    "m = 10\n",
    "onesn = aslinearoperator(np.ones((n,1)))\n",
    "onesm = aslinearoperator(np.ones((m,1)))\n",
    "A = onesm @ onesn.T"
   ]
  },
  {
   "cell_type": "code",
   "execution_count": 4,
   "metadata": {},
   "outputs": [
    {
     "data": {
      "text/plain": [
       "array([6.68543888, 6.68543888, 6.68543888, 6.68543888, 6.68543888,\n",
       "       6.68543888, 6.68543888, 6.68543888, 6.68543888, 6.68543888])"
      ]
     },
     "execution_count": 4,
     "metadata": {},
     "output_type": "execute_result"
    }
   ],
   "source": [
    "v = np.random.randn(n)\n",
    "A @ v"
   ]
  },
  {
   "cell_type": "markdown",
   "metadata": {},
   "source": [
    "Let's do a timing comparison between the `LinearOperator` and a dense matrix."
   ]
  },
  {
   "cell_type": "code",
   "execution_count": 5,
   "metadata": {},
   "outputs": [],
   "source": [
    "n = 2000\n",
    "m = 1000\n",
    "onesn = aslinearoperator(np.ones((n,1)))\n",
    "onesm = aslinearoperator(np.ones((m,1)))\n",
    "Alo = onesm @ onesn.T\n",
    "Ad = np.ones((m,n)) # dense array of all ones"
   ]
  },
  {
   "cell_type": "code",
   "execution_count": 6,
   "metadata": {},
   "outputs": [
    {
     "name": "stdout",
     "output_type": "stream",
     "text": [
      "time for linear operator: 0.00013518333435058594 sec.\n",
      "time for dense: 0.0014600753784179688 sec.\n",
      "LinearOperator speedup = 10.800705467372135 x\n"
     ]
    }
   ],
   "source": [
    "import time\n",
    "\n",
    "x = np.random.randn(n)\n",
    "y = np.empty(m)\n",
    "\n",
    "t0 = time.time()\n",
    "y = Alo @ x\n",
    "t1 = time.time()\n",
    "print(\"time for linear operator: {} sec.\".format(t1 - t0))\n",
    "tlo = t1 - t0\n",
    "\n",
    "t0 = time.time()\n",
    "y = Ad @ x\n",
    "t1 = time.time()\n",
    "print(\"time for dense: {} sec.\".format(t1 - t0))\n",
    "td = t1 - t0\n",
    "\n",
    "print(\"LinearOperator speedup = {} x\".format(td / tlo))\n"
   ]
  },
  {
   "cell_type": "markdown",
   "metadata": {},
   "source": [
    "## Linear Operators from Functions\n",
    "\n",
    "We can also specify linear operators through functions.\n",
    "\n",
    "Another way to characterize the action of a matrix containing all 1s is that it sums up all the entries in a vector of length `n`, and repeats the sum in every entry in a vector of length `m`.  For simplicity, we'll assume that `m = n`."
   ]
  },
  {
   "cell_type": "code",
   "execution_count": 7,
   "metadata": {},
   "outputs": [],
   "source": [
    "# a function that sums the entries in a vector and repeats the sum in every entry of a vector of the same shape.\n",
    "# works on columns of matrices as well\n",
    "A = lambda X : np.sum(X, axis=0).reshape(1,-1).repeat(X.shape[0], axis=0)"
   ]
  },
  {
   "cell_type": "code",
   "execution_count": 8,
   "metadata": {},
   "outputs": [
    {
     "data": {
      "text/plain": [
       "array([[3.32723506],\n",
       "       [3.32723506],\n",
       "       [3.32723506],\n",
       "       [3.32723506],\n",
       "       [3.32723506]])"
      ]
     },
     "execution_count": 8,
     "metadata": {},
     "output_type": "execute_result"
    }
   ],
   "source": [
    "x = np.random.rand(5)\n",
    "A(x)"
   ]
  },
  {
   "cell_type": "code",
   "execution_count": 9,
   "metadata": {},
   "outputs": [
    {
     "data": {
      "text/plain": [
       "3.3272350624839993"
      ]
     },
     "execution_count": 9,
     "metadata": {},
     "output_type": "execute_result"
    }
   ],
   "source": [
    "np.sum(x)"
   ]
  },
  {
   "cell_type": "markdown",
   "metadata": {},
   "source": [
    "The problem is that this function doesn't play nicely with other linear operators.  In order to do that, we wrap the function in the `LinearOperator` class.  For a `LinearOperator` `A`, We define the functions\n",
    "* `matvec` (computes `A @ x`)\n",
    "* `rmatvec` (computes `A.T @ x`)\n",
    "* `matmat` (computes `A @ B`)\n",
    "* `rmatmat` (computes `A.T @ B`)\n",
    "as well as the shape of the operator.  Note that you don't need to define all the functions (`matvec` is most important), but you may get errors in certain situations (e.g. taking transpose) if you don't."
   ]
  },
  {
   "cell_type": "code",
   "execution_count": 10,
   "metadata": {},
   "outputs": [],
   "source": [
    "# works on square matrices\n",
    "Afun = lambda X : np.sum(X, axis=0).reshape(1,-1).repeat(X.shape[0], axis=0)\n",
    "\n",
    "m = 10 # linear operator of size 10\n",
    "\n",
    "A = LinearOperator(\n",
    "    shape   = (m,m),\n",
    "    matvec  = Afun,\n",
    "    rmatvec = Afun,\n",
    "    matmat  = Afun,\n",
    "    rmatmat = Afun,\n",
    "    dtype=float   \n",
    ")"
   ]
  },
  {
   "cell_type": "code",
   "execution_count": 11,
   "metadata": {},
   "outputs": [
    {
     "data": {
      "text/plain": [
       "array([6.06306004, 6.06306004, 6.06306004, 6.06306004, 6.06306004,\n",
       "       6.06306004, 6.06306004, 6.06306004, 6.06306004, 6.06306004])"
      ]
     },
     "execution_count": 11,
     "metadata": {},
     "output_type": "execute_result"
    }
   ],
   "source": [
    "A @ np.random.rand(m)"
   ]
  },
  {
   "cell_type": "markdown",
   "metadata": {},
   "source": [
    "## Composition\n",
    "\n",
    "Because of linearity, sums and products of Linear operators can also have nice properties.  This is encoded in the `LinearOperator` class:"
   ]
  },
  {
   "cell_type": "code",
   "execution_count": 12,
   "metadata": {},
   "outputs": [],
   "source": [
    "B1 = A + A # acts as the matrix with 2 in every entry\n",
    "B2 = A @ A # acts that the matrix with m in every entry"
   ]
  },
  {
   "cell_type": "code",
   "execution_count": 13,
   "metadata": {},
   "outputs": [
    {
     "data": {
      "text/plain": [
       "array([12.0390204, 12.0390204, 12.0390204, 12.0390204, 12.0390204,\n",
       "       12.0390204, 12.0390204, 12.0390204, 12.0390204, 12.0390204])"
      ]
     },
     "execution_count": 13,
     "metadata": {},
     "output_type": "execute_result"
    }
   ],
   "source": [
    "B1 @ np.random.rand(m)"
   ]
  },
  {
   "cell_type": "code",
   "execution_count": 14,
   "metadata": {},
   "outputs": [
    {
     "data": {
      "text/plain": [
       "array([51.19468737, 51.19468737, 51.19468737, 51.19468737, 51.19468737,\n",
       "       51.19468737, 51.19468737, 51.19468737, 51.19468737, 51.19468737])"
      ]
     },
     "execution_count": 14,
     "metadata": {},
     "output_type": "execute_result"
    }
   ],
   "source": [
    "B2 @ np.random.rand(m)"
   ]
  },
  {
   "cell_type": "markdown",
   "metadata": {},
   "source": [
    "## Exercises\n",
    "\n",
    "1. Define a `LinearOperator` that \"centers\" a vector: `A: x -> x - mean(x)`. i.e. we subtract the mean of the vector from every entry of the vector."
   ]
  },
  {
   "cell_type": "code",
   "execution_count": 15,
   "metadata": {},
   "outputs": [
    {
     "data": {
      "text/plain": [
       "1.1102230246251565e-16"
      ]
     },
     "execution_count": 15,
     "metadata": {},
     "output_type": "execute_result"
    }
   ],
   "source": [
    "## Your code here\n",
    "Afun = lambda x : x - np.sum(x)/np.size(x)\n",
    "\n",
    "\n",
    "m = 10 # linear operator of size 10\n",
    "\n",
    "A = LinearOperator(\n",
    "    shape   = (m,m),\n",
    "    matvec  = Afun,\n",
    "\n",
    "    dtype= float   \n",
    ")\n",
    "\n",
    "np.size(np.random.rand(m))\n",
    "\n",
    "np.sum(A @ np.random.rand(m))"
   ]
  },
  {
   "cell_type": "markdown",
   "metadata": {},
   "source": [
    "2. Define a `LinearOperator` that returns the differences in a vector.  i.e. `A` is a `n-1 x n` operator, where `(A @ x)[i]` is `x[i+1] - x[i]`.  You may want to look at `np.diff`."
   ]
  },
  {
   "cell_type": "code",
   "execution_count": 16,
   "metadata": {},
   "outputs": [],
   "source": [
    "## Your code here\n"
   ]
  },
  {
   "cell_type": "markdown",
   "metadata": {},
   "source": [
    "3. In both the above exercises, you could define these linear operators using either functions or a combination of dense/sparse matrices.  If you completed an exercise above using a function, write a second version which uses dense/sparse matrices.  If you completed an exercise above using dense/sparse matrices, write a second version that uses functions."
   ]
  },
  {
   "cell_type": "code",
   "execution_count": 17,
   "metadata": {},
   "outputs": [],
   "source": [
    "## Your code here\n"
   ]
  },
  {
   "cell_type": "markdown",
   "metadata": {},
   "source": [
    "4. Define a linear operator that applies $A^{-1}$ to a vector $b$ (i.e. $A^{-1} b$. Don't use matrix inverse!):"
   ]
  },
  {
   "cell_type": "code",
   "execution_count": 20,
   "metadata": {},
   "outputs": [
    {
     "data": {
      "text/plain": [
       "array([[ 0.47450663, -0.08634583,  0.15336575, -0.01344204,  0.14684916,\n",
       "         0.47171607,  0.46737918,  0.46426221, -0.04305705,  0.6266941 ],\n",
       "       [ 0.22969871,  0.57790199,  0.23740934,  0.24618601,  0.20442024,\n",
       "         0.2219935 ,  0.15752819,  0.12281025,  0.21517846, -0.0491611 ],\n",
       "       [ 0.18390889,  0.04779724,  0.20547745,  0.12346904,  0.27571138,\n",
       "         0.14180424,  0.0230146 ,  0.5737584 ,  0.03751337,  1.07821882],\n",
       "       [-0.11315195, -0.27121212, -0.40216917, -0.44990773, -0.27183837,\n",
       "        -0.16077701, -0.30286618, -0.41012491, -0.37327944, -0.42185135],\n",
       "       [-0.26926795, -0.14715563, -0.0791498 , -0.45419682, -0.35490079,\n",
       "        -0.34668126, -0.24076403, -0.24679995, -0.16737936, -0.08367607],\n",
       "       [-0.5308723 , -0.00583382, -0.40730556, -0.39952925, -0.50956389,\n",
       "        -0.33292204, -0.31752605, -0.98400867, -0.38529858, -1.32174258],\n",
       "       [-0.22124424, -0.27186632, -0.13400655, -0.25827762, -0.18090092,\n",
       "        -0.25119043, -0.28054817, -0.2258422 , -0.24327772,  0.0423316 ],\n",
       "       [ 0.21427081,  0.06065851,  0.00820271, -0.13262571, -0.14412737,\n",
       "         0.0022424 ,  0.22931323,  0.10737167, -0.0045936 , -0.3684833 ],\n",
       "       [-0.44122041, -0.09368237, -0.10672853, -0.24253094,  0.08642357,\n",
       "        -0.10703189, -0.60713359, -0.46306438, -0.56451399,  0.7611286 ],\n",
       "       [ 0.43820868,  0.0462375 ,  0.220557  ,  0.20806808,  0.36642228,\n",
       "         0.38492752,  0.13978513,  0.2862244 , -0.21353882,  0.55778024]])"
      ]
     },
     "execution_count": 20,
     "metadata": {},
     "output_type": "execute_result"
    }
   ],
   "source": [
    "import numpy.linalg as la\n",
    "\n",
    "m  = 10\n",
    "AA = np.random.randn(m, m)\n",
    "\n",
    "#def wrapsolve(A, x):\n",
    "#    return la.solve(A, x)\n",
    "\n",
    "## Your code here\n",
    "Afun  = lambda x : la.solve(AA, x)\n",
    "AfunT = lambda x : la.solve(AA.T, x)\n",
    "m = 10 # linear operator of size 10\n",
    "A = LinearOperator(\n",
    "    shape   = (m,m),\n",
    "    matvec  = Afun,\n",
    "    rmatvec = AfunT,\n",
    "    matmat  = Afun,\n",
    "    rmatmat = AfunT,\n",
    "    dtype= float\n",
    ")\n",
    "\n",
    "A @ np.random.rand(m,m)\n",
    "\n"
   ]
  },
  {
   "cell_type": "code",
   "execution_count": null,
   "metadata": {},
   "outputs": [],
   "source": []
  },
  {
   "cell_type": "code",
   "execution_count": null,
   "metadata": {},
   "outputs": [],
   "source": []
  }
 ],
 "metadata": {
  "kernelspec": {
   "display_name": "Python (pycourse)",
   "language": "python",
   "name": "pycourse"
  },
  "language_info": {
   "codemirror_mode": {
    "name": "ipython",
    "version": 3
   },
   "file_extension": ".py",
   "mimetype": "text/x-python",
   "name": "python",
   "nbconvert_exporter": "python",
   "pygments_lexer": "ipython3",
   "version": "3.8.11"
  }
 },
 "nbformat": 4,
 "nbformat_minor": 4
}
