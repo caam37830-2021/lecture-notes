{
 "cells": [
  {
   "cell_type": "markdown",
   "metadata": {},
   "source": [
    "# Root Finding"
   ]
  },
  {
   "cell_type": "code",
   "execution_count": 1,
   "metadata": {},
   "outputs": [
    {
     "name": "stdout",
     "output_type": "stream",
     "text": [
      "Populating the interactive namespace from numpy and matplotlib\n"
     ]
    }
   ],
   "source": [
    "%pylab inline"
   ]
  },
  {
   "cell_type": "markdown",
   "metadata": {},
   "source": [
    "One thing we want to be able to do compare two different algorithms that compute the same result.\n",
    "\n",
    "Many numerical algorithms operate through some sort of iterative process, where we get better and better approximations to the answer at each iteration.\n",
    "\n",
    "One example of this is [Newton's method](https://en.wikipedia.org/wiki/Newton%27s_method) for root finding.  A **root** of a continuous function $f$ is a value $x$ so that $f(x) = 0$.\n",
    "\n",
    "Given a function $f$, we would like to find some root $x$. Newton's method computes a sequence of iterations\n",
    "$$ x_{k+1} = x_{k} - \\frac{f(x_{k})}{f'(x_{k})}$$"
   ]
  },
  {
   "cell_type": "code",
   "execution_count": 19,
   "metadata": {},
   "outputs": [],
   "source": [
    "def newton_root(f, fp, x=1, tol=1e-4):\n",
    "    \"\"\"\n",
    "    numerically approximate a root of f using Newton's method\n",
    "    \n",
    "    inputs:\n",
    "        f - function\n",
    "        fp - derivative of function f\n",
    "        x - starting point (default 1)\n",
    "        tol - tolerance for terminating the algorithm (default 1e-4)\n",
    "    \n",
    "    returns:\n",
    "        x - the root\n",
    "        iters = a list of all x visited\n",
    "        fs - f(x) for each iteration\n",
    "    \"\"\"\n",
    "    fx = f(x)\n",
    "    iters = []\n",
    "    fs = []\n",
    "    while (abs(fx) > tol):\n",
    "        x = x - fx / fp(x)\n",
    "        fx = f(x)\n",
    "        iters.append(x)\n",
    "        fs.append(fx)\n",
    "        \n",
    "    return x, iters, fs"
   ]
  },
  {
   "cell_type": "markdown",
   "metadata": {},
   "source": [
    "The idea is that if we draw a straight line with slope $f'(x_k)$ through the point $(x_k, f(x_k))$, the intercept would be at $x_{k+1}$."
   ]
  },
  {
   "cell_type": "code",
   "execution_count": 20,
   "metadata": {},
   "outputs": [
    {
     "data": {
      "image/png": "[encoded data removed]",
      "text/plain": [
       "<Figure size 432x288 with 1 Axes>"
      ]
     },
     "metadata": {
      "needs_background": "light"
     },
     "output_type": "display_data"
    }
   ],
   "source": [
    "f = lambda x : x**2 - 2\n",
    "fp = lambda x : 2*x\n",
    "\n",
    "xmin, xmax = -2, 2\n",
    "xs = np.linspace(xmin, xmax, 100)\n",
    "x0 = 1\n",
    "plt.plot(xs, f(xs), 'k-', label='f') # plot the function\n",
    "plt.hlines(0, xmin, xmax, colors='gray', linestyles='dashed') # dashed line for y = 0\n",
    "plt.scatter(x0, f(x0), c='k')\n",
    "plt.text(x0 + 0.05, f(x0) - 0.1, r'$x_0$') # x0 label\n",
    "x1 = x0 - f(x0)/fp(x0)\n",
    "plt.plot(xs, fp(x0)*(xs - x1), 'k--', label='tangent')\n",
    "plt.scatter(x1, 0, c='k')\n",
    "plt.text(x1 + 0.05, -0.2, r'$x_1$') # x1 label\n",
    "plt.xlim(xmin, xmax)\n",
    "plt.ylim(xmin, xmax)\n",
    "plt.legend()\n",
    "plt.show()"
   ]
  },
  {
   "cell_type": "code",
   "execution_count": 21,
   "metadata": {},
   "outputs": [
    {
     "name": "stdout",
     "output_type": "stream",
     "text": [
      "1.4142156862745099\n",
      "1.4142135623730951\n",
      "-1.4142156862745099\n"
     ]
    }
   ],
   "source": [
    "f = lambda x : x**2 - 2\n",
    "fp = lambda x : 2*x\n",
    "\n",
    "x , ix, iy = newton_root(f, fp)\n",
    "print(x)\n",
    "\n",
    "print(np.sqrt(2)) # roots are +- sqrt(2)\n",
    "\n",
    "x, ix, iy = newton_root(f, fp, x=-1)\n",
    "print(x)"
   ]
  },
  {
   "cell_type": "markdown",
   "metadata": {},
   "source": [
    "Another root finding algorithm is the [bisection method](https://en.wikipedia.org/wiki/Bisection_method).  This operates by narrowing an interval which is known to contain a root.  Assuming $f$ is continuous, we can use the [intermediate value theorem](https://en.wikipedia.org/wiki/Intermediate_value_theorem). We know that if $f(a) < 0$, and $f(b) > 0$, there must be some $c\\in (a,b)$ so that $f(c) = 0$.  At each iteration, we narrow the interval by looking at the midpoint $c = (a + b)/2$ and then looking at the interval $(a,c)$ or the interval $(c,b)$ depending on which one contains a root based on the intermediate value theorem.\n",
    "\n",
    "### Exercise\n",
    "\n",
    "Implement the bisection method as a recursive function."
   ]
  },
  {
   "cell_type": "code",
   "execution_count": 5,
   "metadata": {},
   "outputs": [],
   "source": [
    "## Your code here\n"
   ]
  },
  {
   "cell_type": "markdown",
   "metadata": {},
   "source": [
    "Here's a sequential implementation which keeps track of the iterates."
   ]
  },
  {
   "cell_type": "code",
   "execution_count": 6,
   "metadata": {},
   "outputs": [],
   "source": [
    "def bisection_root(f, lb=-1, ub=1, tol=1e-4):\n",
    "    \"\"\"\n",
    "    numerically approximate a root of f using bisection method\n",
    "    \n",
    "    assume signs of f(inf), f(-inf) are different\n",
    "    \n",
    "    inputs:\n",
    "        f - function\n",
    "        lb - lower bound of interval containing root\n",
    "        ub - upper bound of interval containing root\n",
    "        tol - tolerance for terminating the algorithm (default 1e-4)\n",
    "    \n",
    "    returns\n",
    "        x - the root\n",
    "        iters = a list of all x visited\n",
    "        fs - f(x) for each iteration\n",
    "    \"\"\"\n",
    "    # first increase range until signs of f(lb), f(ub) are different\n",
    "    while f(lb) * f(ub) > 0:\n",
    "        lb *= 2\n",
    "        ub *= 2\n",
    "        \n",
    "        \n",
    "    iters = []\n",
    "    fs = []\n",
    "    \n",
    "    # see if we found a root with one of our bounds\n",
    "    if abs(f(lb)) < tol:\n",
    "        return lb, iters, fs\n",
    "    if abs(f(ub)) < tol:\n",
    "        return ub, iters, fs\n",
    "        \n",
    "    # make lb correspond to negative sign\n",
    "    if f(lb) > 0:\n",
    "        # swap upper and lower\n",
    "        lb, ub = ub, lb\n",
    "        \n",
    "    while True:\n",
    "        x = (ub + lb)/2.0 # mean\n",
    "        iters.append(x)\n",
    "        \n",
    "        fx = f(x)\n",
    "        fs.append(fx)\n",
    "        if abs(fx) < tol:\n",
    "            # found a root\n",
    "            return x, iters, fs\n",
    "        elif fx > 0:\n",
    "            # f(x) > 0\n",
    "            ub = x\n",
    "        else:\n",
    "            # f(x) < 0\n",
    "            lb = x"
   ]
  },
  {
   "cell_type": "code",
   "execution_count": 7,
   "metadata": {},
   "outputs": [
    {
     "data": {
      "text/plain": [
       "2"
      ]
     },
     "execution_count": 7,
     "metadata": {},
     "output_type": "execute_result"
    }
   ],
   "source": [
    "f = lambda x : (x - 2)*(x + 3)*(x + 5)\n",
    "x, ix, iy = bisection_root(f)\n",
    "x"
   ]
  },
  {
   "cell_type": "markdown",
   "metadata": {},
   "source": [
    "Let's test these two methods on the same function"
   ]
  },
  {
   "cell_type": "code",
   "execution_count": 8,
   "metadata": {},
   "outputs": [
    {
     "name": "stdout",
     "output_type": "stream",
     "text": [
      "-0.21675657195055742 -0.21675657108426094\n",
      "8.662964789962757e-10\n"
     ]
    }
   ],
   "source": [
    "f = lambda x : x**3 + 2*x**2 + 5*x + 1\n",
    "fp = lambda x : 3*x**2 + 4*x + 5\n",
    "\n",
    "tol = 1e-8\n",
    "\n",
    "x_newton, iter_newton, f_newton = newton_root(f, fp, tol=tol)\n",
    "x_bisect, iter_bisect, f_bisect = bisection_root(f, tol=tol)\n",
    "\n",
    "print(x_newton, x_bisect)\n",
    "print(np.abs(x_newton - x_bisect))"
   ]
  },
  {
   "cell_type": "markdown",
   "metadata": {},
   "source": [
    "Let's see how many iterations each method performed"
   ]
  },
  {
   "cell_type": "code",
   "execution_count": 9,
   "metadata": {},
   "outputs": [
    {
     "name": "stdout",
     "output_type": "stream",
     "text": [
      "5\n",
      "29\n"
     ]
    }
   ],
   "source": [
    "print(len(iter_newton))\n",
    "print(len(iter_bisect))"
   ]
  },
  {
   "cell_type": "markdown",
   "metadata": {},
   "source": [
    "It looks like one algorithm is converging faster than the other - let's track how close each iteration is to a root:"
   ]
  },
  {
   "cell_type": "code",
   "execution_count": 10,
   "metadata": {},
   "outputs": [
    {
     "data": {
      "image/png": "[encoded data removed]",
      "text/plain": [
       "<Figure size 432x288 with 1 Axes>"
      ]
     },
     "metadata": {
      "needs_background": "light"
     },
     "output_type": "display_data"
    }
   ],
   "source": [
    "plt.semilogy(np.abs(f_newton), label=\"newton\")\n",
    "plt.semilogy(np.abs(f_bisect), label=\"bisection\")\n",
    "plt.legend()\n",
    "plt.show()"
   ]
  },
  {
   "cell_type": "markdown",
   "metadata": {},
   "source": [
    "The below function comes from the section on [convergence](../01_analysis/convergence.ipynb):"
   ]
  },
  {
   "cell_type": "code",
   "execution_count": 11,
   "metadata": {},
   "outputs": [],
   "source": [
    "def estimate_q(eps):\n",
    "    \"\"\"\n",
    "    estimate rate of convergence q from sequence esp\n",
    "    \"\"\"\n",
    "    x = np.arange(len(eps) -1)\n",
    "    y = np.log(np.abs(np.diff(np.log(eps))))\n",
    "    line = np.polyfit(x, y, 1) # fit degree 1 polynomial\n",
    "    q = np.exp(line[0]) # find q\n",
    "    return q"
   ]
  },
  {
   "cell_type": "code",
   "execution_count": 12,
   "metadata": {},
   "outputs": [
    {
     "name": "stdout",
     "output_type": "stream",
     "text": [
      "1.97097165113398\n",
      "1.0000974769330462\n"
     ]
    }
   ],
   "source": [
    "print(estimate_q(np.abs(f_newton)))\n",
    "print(estimate_q(np.abs(f_bisect)))"
   ]
  },
  {
   "cell_type": "markdown",
   "metadata": {},
   "source": [
    "experimentally, we see that the bisection converges linearly, and Newton's method converges close to its theoretical guarantee of quadratically."
   ]
  },
  {
   "cell_type": "markdown",
   "metadata": {},
   "source": [
    "## Exercise\n",
    "\n",
    "Prove that the bisection method converges linearly."
   ]
  },
  {
   "cell_type": "markdown",
   "metadata": {},
   "source": [
    "```{admonition} Sketch of Answer\n",
    ":class: dropdown\n",
    "Let $L = |b - a|$ be the inital width of the interval that contains the root.  The maximum distance to the root from either $a$ or $b$ is $L$, so $\\epsilon_0 \\le L$. At each step of the algorithm, we look at the midpoint, and reduce the length of the interval we are looking at by 2.  This means $\\epsilon_k \\le L/2^k$. We now look at the ratio $\\epsilon_{k+1}/\\epsilon_k \\sim 1/2$, so the algorithm converges linearly. \n",
    "\n",
    "*Note you would need to be a bit more careful with the ratio to really prove convergence.*\n",
    "```"
   ]
  },
  {
   "cell_type": "markdown",
   "metadata": {},
   "source": [
    "## An Application of Decorators\n",
    "\n",
    "While Newton's method converges faster, it required us to provide the derivative of the function we're trying to find a root for.  This might not always be easy to implement.\n",
    "\n",
    "Instead, we might consider numerically approximating the derivative.  Recall\n",
    "$$f'(x) = \\lim_{h\\to 0^+} \\frac{f(x) - f(x + h)}{h}$$\n",
    "We'll use the symmetric definition\n",
    "$$f'(x) = \\lim_{h\\to 0^+} \\frac{f(x+h) - f(x - h)}{2h}$$\n",
    "\n",
    "Let's define a non-limit version\n",
    "$$\\Delta_h f(x) = \\frac{f(x + h) - f(x - h)}{2h}$$\n",
    "for fixed $x$, if $h$ is sufficiently small, then $\\Delta_h f \\approx f'$ near $x$.  $\\Delta_h f$ is known as *finite difference*."
   ]
  },
  {
   "cell_type": "markdown",
   "metadata": {},
   "source": [
    "We can explicitly define a numerical derivative of a function $f$ via"
   ]
  },
  {
   "cell_type": "code",
   "execution_count": 13,
   "metadata": {},
   "outputs": [],
   "source": [
    "def delta(f, h=1e-8):\n",
    "    \n",
    "    def wrapper(x):\n",
    "        return (f(x + h) - f(x - h))/(2*h)\n",
    "    \n",
    "    return wrapper"
   ]
  },
  {
   "cell_type": "code",
   "execution_count": 14,
   "metadata": {},
   "outputs": [],
   "source": [
    "f = lambda x : (x - np.sqrt(2))*np.exp(-x**2)\n",
    "fp = delta(f)"
   ]
  },
  {
   "cell_type": "code",
   "execution_count": 15,
   "metadata": {},
   "outputs": [],
   "source": [
    "x_newton, iter_newton, f_newton = newton_root(f, fp, tol=1e-6)"
   ]
  },
  {
   "cell_type": "code",
   "execution_count": 16,
   "metadata": {},
   "outputs": [
    {
     "data": {
      "text/plain": [
       "5"
      ]
     },
     "execution_count": 16,
     "metadata": {},
     "output_type": "execute_result"
    }
   ],
   "source": [
    "len(iter_newton)"
   ]
  },
  {
   "cell_type": "markdown",
   "metadata": {},
   "source": [
    "we might also consider defining a decorator that returns $f(x), \\Delta_h(x)$ from a function definition"
   ]
  },
  {
   "cell_type": "code",
   "execution_count": 17,
   "metadata": {},
   "outputs": [
    {
     "data": {
      "text/plain": [
       "(-0.7119902382706651, 1.4907910239614353)"
      ]
     },
     "execution_count": 17,
     "metadata": {},
     "output_type": "execute_result"
    }
   ],
   "source": [
    "from functools import wraps\n",
    "\n",
    "def add_numerical_derivative(f, default_h=1e-8):\n",
    "    \n",
    "    @wraps(f)\n",
    "    def wrapper(x, h=default_h):\n",
    "        ret = f(x)\n",
    "        deriv = (f(x + h) - f(x - h)) / (2*h)\n",
    "        return ret, deriv\n",
    "    \n",
    "    return wrapper\n",
    "        \n",
    "@add_numerical_derivative\n",
    "def f(x):\n",
    "    return (x - np.sqrt(2))*np.exp(-x**2)\n",
    "\n",
    "f(0.5) # returns value, numerical derivative"
   ]
  },
  {
   "cell_type": "code",
   "execution_count": 18,
   "metadata": {},
   "outputs": [
    {
     "data": {
      "text/plain": [
       "(-0.7119902382706651, 1.4907910206307662)"
      ]
     },
     "execution_count": 18,
     "metadata": {},
     "output_type": "execute_result"
    }
   ],
   "source": [
    "f(0.5, h=1e-7)"
   ]
  },
  {
   "cell_type": "markdown",
   "metadata": {},
   "source": [
    "## Exercise\n",
    "\n",
    "Estimate the rate of convergence for Newton's method when we use a finite difference to approximate the derivative.\n",
    "\n",
    "Does this change with the value of $h$?"
   ]
  },
  {
   "cell_type": "code",
   "execution_count": null,
   "metadata": {},
   "outputs": [],
   "source": []
  }
 ],
 "metadata": {
  "kernelspec": {
   "display_name": "Python (pycourse)",
   "language": "python",
   "name": "pycourse"
  },
  "language_info": {
   "codemirror_mode": {
    "name": "ipython",
    "version": 3
   },
   "file_extension": ".py",
   "mimetype": "text/x-python",
   "name": "python",
   "nbconvert_exporter": "python",
   "pygments_lexer": "ipython3",
   "version": "3.8.11"
  }
 },
 "nbformat": 4,
 "nbformat_minor": 4
}
