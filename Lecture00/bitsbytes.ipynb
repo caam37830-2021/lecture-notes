{
 "cells": [
  {
   "cell_type": "markdown",
   "metadata": {},
   "source": [
    "# Bits, Bytes, and Numbers\n",
    "\n",
    "\n",
    "In order to do math on a computer, you should have some idea of how computers represent numbers and do computations.\n",
    "\n",
    "Unlike strongly typed languages (e.g. C), you don't have to worry too much about type if you're just scripting.  However, you will have to think about this for most algorithms."
   ]
  },
  {
   "cell_type": "code",
   "execution_count": 1,
   "metadata": {},
   "outputs": [
    {
     "name": "stdout",
     "output_type": "stream",
     "text": [
      "<class 'int'>\n",
      "<class 'float'>\n"
     ]
    }
   ],
   "source": [
    "x = 5 # an integer type\n",
    "print(type(x))\n",
    "x = 5.0 # float type\n",
    "print(type(x))"
   ]
  },
  {
   "cell_type": "code",
   "execution_count": 2,
   "metadata": {},
   "outputs": [
    {
     "name": "stdout",
     "output_type": "stream",
     "text": [
      "1.3333333333333333\n",
      "1\n"
     ]
    }
   ],
   "source": [
    "print(4/3)  # division of ints -> float\n",
    "print(4//3) # integer division -> int"
   ]
  },
  {
   "cell_type": "markdown",
   "metadata": {},
   "source": [
    "## Bits and Bytes\n",
    "\n",
    "A bit is a 0/1 value, and a byte is 8 bits.  Most modern computers are 64-bit architectures on which Python 3 will use 64-bits to represent numbers.  Some computers may be 32-bit architectures, and Python may use 32-bits to represent numbers - beware!\n",
    "\n",
    "You can represent strings of bits using the `0b` prefix.  Be default, these will be interpreted as integers written in base-2.  For example, on a 32-bit system,\n",
    "```\n",
    "0b101 = 00000000000000000000000000000101 (base 2) = 5 (base 10)\n",
    "```"
   ]
  },
  {
   "cell_type": "code",
   "execution_count": 3,
   "metadata": {},
   "outputs": [
    {
     "name": "stdout",
     "output_type": "stream",
     "text": [
      "5\n"
     ]
    }
   ],
   "source": [
    "x = 0b101\n",
    "print(x)"
   ]
  },
  {
   "cell_type": "markdown",
   "metadata": {},
   "source": [
    "It is often easier to deal with hexadecimal (base-16), denoted with the `0x` prefix. It uses `0`-`9` to represent values 0-9, and `A`-`F` to represent values 10-15. For example one can represent the bits 1111111 as hexadecimal system as FF."
   ]
  },
  {
   "cell_type": "code",
   "execution_count": 4,
   "metadata": {
    "scrolled": true
   },
   "outputs": [
    {
     "name": "stdout",
     "output_type": "stream",
     "text": [
      "15\n"
     ]
    }
   ],
   "source": [
    "x = 0xF\n",
    "print(x)"
   ]
  },
  {
   "cell_type": "code",
   "execution_count": 5,
   "metadata": {},
   "outputs": [
    {
     "data": {
      "text/plain": [
       "True"
      ]
     },
     "execution_count": 5,
     "metadata": {},
     "output_type": "execute_result"
    }
   ],
   "source": [
    "0xF == 0b1111 == 15"
   ]
  },
  {
   "cell_type": "markdown",
   "metadata": {},
   "source": [
    "You can also use octal (base 8) if you'd like using the `0o` prefix"
   ]
  },
  {
   "cell_type": "code",
   "execution_count": 6,
   "metadata": {},
   "outputs": [
    {
     "name": "stdout",
     "output_type": "stream",
     "text": [
      "8\n"
     ]
    }
   ],
   "source": [
    "x = 0o10\n",
    "print(x)"
   ]
  },
  {
   "cell_type": "markdown",
   "metadata": {},
   "source": [
    "hexadecimal is often used because it breaks up bits into blocks of 4 (16 = 2^4).  So a 64-bit type has some representation as a length-16 string in hexadecimal"
   ]
  },
  {
   "cell_type": "markdown",
   "metadata": {},
   "source": [
    "## Integers\n",
    "\n",
    "Integers are represented in base-2 using bits.  Most modern computers are 64-bit architectures, and other programming languages like C++ can only store a 64-bit number.  However, Python will use arbitrary precision (until your memory is full) so you don't run into overflow errors:"
   ]
  },
  {
   "cell_type": "code",
   "execution_count": 7,
   "metadata": {},
   "outputs": [
    {
     "name": "stdout",
     "output_type": "stream",
     "text": [
      "36893488147419103232\n"
     ]
    }
   ],
   "source": [
    "print(2**65) # ** for exponentiation"
   ]
  },
  {
   "cell_type": "code",
   "execution_count": 8,
   "metadata": {},
   "outputs": [
    {
     "data": {
      "text/plain": [
       "36"
      ]
     },
     "execution_count": 8,
     "metadata": {},
     "output_type": "execute_result"
    }
   ],
   "source": [
    "import sys\n",
    "sys.getsizeof(2**65) # size in bytes"
   ]
  },
  {
   "cell_type": "markdown",
   "metadata": {},
   "source": [
    "However, when we call code written in C/C++ or fortran such as numpy (we will see this package later), you can run into overflow issues"
   ]
  },
  {
   "cell_type": "code",
   "execution_count": 13,
   "metadata": {},
   "outputs": [
    {
     "data": {
      "text/plain": [
       "-9223372036854775808"
      ]
     },
     "execution_count": 13,
     "metadata": {},
     "output_type": "execute_result"
    }
   ],
   "source": [
    "import numpy as np\n",
    "x = np.int64(2)\n",
    "x ** 63"
   ]
  },
  {
   "cell_type": "code",
   "execution_count": 10,
   "metadata": {},
   "outputs": [
    {
     "data": {
      "text/plain": [
       "0"
      ]
     },
     "execution_count": 10,
     "metadata": {},
     "output_type": "execute_result"
    }
   ],
   "source": [
    "x**65"
   ]
  },
  {
   "cell_type": "markdown",
   "metadata": {},
   "source": [
    "## Bitwise operations\n",
    "\n",
    "You can perform operations on bit strings in Python:"
   ]
  },
  {
   "cell_type": "code",
   "execution_count": 23,
   "metadata": {
    "scrolled": true
   },
   "outputs": [
    {
     "name": "stdout",
     "output_type": "stream",
     "text": [
      "This is 0100\n",
      "1101\n",
      "1001\n",
      "-003\n"
     ]
    }
   ],
   "source": [
    "print(\"This is {:04x}\".format(0x1100 & 0x0101)) # bitwise and\n",
    "print(\"{:04x}\".format(0x1100 | 0x0101)) # bitwise or\n",
    "print(\"{:04x}\".format(0x1100 ^ 0x0101)) # bitwise xor (addition modulo 2)\n",
    "print(\"{:04x}\".format(~0x2)) # negation"
   ]
  },
  {
   "cell_type": "markdown",
   "metadata": {},
   "source": [
    "## Floating Point Numbers\n",
    "\n",
    "Real numbers are represented as floating point numbers on a computer.  Almost all real numbers must be approximated, which means you can't always ask for exact equality"
   ]
  },
  {
   "cell_type": "code",
   "execution_count": 24,
   "metadata": {},
   "outputs": [
    {
     "data": {
      "text/plain": [
       "0.3333333333333333"
      ]
     },
     "execution_count": 24,
     "metadata": {},
     "output_type": "execute_result"
    }
   ],
   "source": [
    "1.0/3.0"
   ]
  },
  {
   "cell_type": "code",
   "execution_count": 25,
   "metadata": {},
   "outputs": [
    {
     "data": {
      "text/plain": [
       "0.19999999999999996"
      ]
     },
     "execution_count": 25,
     "metadata": {},
     "output_type": "execute_result"
    }
   ],
   "source": [
    "1.2 - 1.0"
   ]
  },
  {
   "cell_type": "code",
   "execution_count": 18,
   "metadata": {},
   "outputs": [
    {
     "data": {
      "text/plain": [
       "False"
      ]
     },
     "execution_count": 18,
     "metadata": {},
     "output_type": "execute_result"
    }
   ],
   "source": [
    "1.2 - 1.0 == 0.2"
   ]
  },
  {
   "cell_type": "markdown",
   "metadata": {},
   "source": [
    "The approximation error is called **machine precision**, typically denoted $\\epsilon$"
   ]
  },
  {
   "cell_type": "code",
   "execution_count": 19,
   "metadata": {},
   "outputs": [
    {
     "name": "stdout",
     "output_type": "stream",
     "text": [
      "0.000977\n",
      "1.1920929e-07\n",
      "2.220446049250313e-16\n",
      "1.084202172485504434e-19\n"
     ]
    }
   ],
   "source": [
    "import numpy as np\n",
    "print(np.finfo(np.float16).eps) # 16-bit float\n",
    "print(np.finfo(np.float32).eps) # 32-bit float\n",
    "print(np.finfo(np.float64).eps) # 64-bit float\n",
    "print(np.finfo(np.float128).eps) # 128-bit float"
   ]
  },
  {
   "cell_type": "markdown",
   "metadata": {},
   "source": [
    "32-bit floating point numbers corrsepond to a `float` in C, and are also known as **single precision** numbers.  64-bit floating point numbers correspond to a `double` in C, and are also known as **double precision** numbers.  16-bit floats are half-precision, and 128-bit floats are quad-precision.\n",
    "\n",
    "Double precision is the standard for numerical codes.  Quad- (or higher) precision is sometimes useful.  A big trend in deep learning is to use lower-precision formats.\n",
    "\n",
    "Floating point numbers are numbers written in scientific notation (in base-2).  E.g. $1.1 * 2^{10} = 1.5 * 2^2$ in base-10 = 6.  They contain a sign bit, a set of bits for the decimal (called the significand or mantissa), and a set of bits for the exponent.\n",
    "\n",
    "For further reading on potential considerations with floating point numbers, see [the Python documentation](https://docs.python.org/3/tutorial/floatingpoint.html)"
   ]
  },
  {
   "cell_type": "markdown",
   "metadata": {},
   "source": [
    "### Print Formatting\n",
    "\n",
    "It is often convenient to format floating point numbers for printing without showing full precision.  An explanation of available options can be found in the [format specification mini-language documentation](https://docs.python.org/3/library/string.html#format-specification-mini-language).  We'll cover a few examples.\n",
    "\n",
    "When formatting a floating point number with `format`, you put format specification in the curly braces `{}`, as in `\"{:width.precision}}`\n",
    "\n",
    "The *width* denotes the total field width.\n",
    "\n",
    "The *precision* denotes how many digits should be displayed after the decimal."
   ]
  },
  {
   "cell_type": "code",
   "execution_count": 20,
   "metadata": {},
   "outputs": [
    {
     "name": "stdout",
     "output_type": "stream",
     "text": [
      "Example of pi 3.141593e+00\n",
      "3.14e+00\n",
      "3.141593\n",
      "3.14\n",
      "  3.14\n",
      " -3.14\n",
      "003.14\n",
      " 3.14\n",
      "-3.14\n"
     ]
    }
   ],
   "source": [
    "pi = np.pi\n",
    "print(\"Example of pi {:e}\".format(pi))      # exponential notation\n",
    "print(\"{:.2e}\".format(pi))    # exponential, precision 2\n",
    "print(\"{:f}\".format(pi))      # fixed-point notation\n",
    "print(\"{:.2f}\".format(pi))    # fixed-point, precision 2\n",
    "print(\"{:6.2f}\".format(pi))   # minimum field width of 5\n",
    "print(\"{:+6.2f}\".format(-pi))  # minimum field width of 5, explicit sign\n",
    "print(\"{:06.2f}\".format(pi))  # 0-pad to to fill width\n",
    "print(\"{: .2f}\".format(pi))   # use space for sign alignment\n",
    "print(\"{: .2f}\".format(-pi))  # use space for sign alignment"
   ]
  },
  {
   "cell_type": "markdown",
   "metadata": {},
   "source": [
    "## Exercise\n",
    "1. What is $\\log_2(\\epsilon)$ for 32 and 64-bit floats?  (hint: use `np.log2`)\n",
    "2. What is the largest exponent you can have for 32- and 64-bit floats? Keep in mind that you should have an equal number of positive and negative expoenents. Design an experiment to check your answer.\n",
    "\n",
    "Hint: `np.finfo(np.float32).max)`"
   ]
  },
  {
   "cell_type": "code",
   "execution_count": null,
   "metadata": {},
   "outputs": [],
   "source": [
    "# Your code here\n"
   ]
  },
  {
   "cell_type": "code",
   "execution_count": null,
   "metadata": {
    "tags": [
     "hide-cell"
    ]
   },
   "outputs": [],
   "source": [
    "# Part 1\n",
    "np.log2(np.finfo(np.float32).eps)"
   ]
  },
  {
   "cell_type": "code",
   "execution_count": null,
   "metadata": {
    "tags": [
     "hide-cell"
    ]
   },
   "outputs": [],
   "source": [
    "# part 2\n",
    "print(np.log2(np.finfo(np.float32).max))\n",
    "print(np.float32(2.0**127))\n",
    "print(np.float32(2.0**128))"
   ]
  },
  {
   "cell_type": "code",
   "execution_count": null,
   "metadata": {},
   "outputs": [],
   "source": []
  }
 ],
 "metadata": {
  "celltoolbar": "Raw Cell Format",
  "kernelspec": {
   "display_name": "Python (pycourse)",
   "language": "python",
   "name": "pycourse"
  },
  "language_info": {
   "codemirror_mode": {
    "name": "ipython",
    "version": 3
   },
   "file_extension": ".py",
   "mimetype": "text/x-python",
   "name": "python",
   "nbconvert_exporter": "python",
   "pygments_lexer": "ipython3",
   "version": "3.8.11"
  }
 },
 "nbformat": 4,
 "nbformat_minor": 4
}
