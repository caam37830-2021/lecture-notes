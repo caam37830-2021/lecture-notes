{
 "cells": [
  {
   "cell_type": "markdown",
   "metadata": {},
   "source": [
    "# Object-Oriented Programming\n",
    "\n",
    "Object-oriented programming is a style of programming that bundles data into **objects** and defines things that might be done to objects using **methods**.  \n",
    "\n",
    "Programs written in an object-oriented style may look very different from programs written in a procedural or funtctional style.  If you're coming to Python from Matlab, Fortran, or C, this can take some time to get used to.\n",
    "\n",
    "## Classes\n",
    "\n",
    "A Python `class` is a recipe for creating objects of a certain type.  An object created from a class is an **instantiation** of the class.\n",
    "\n",
    "Typically, there are operations you may like to perform on objects in a certain class.  You can define these operations as functions declared within the class, called **methods**.\n",
    "\n",
    "Classes typically hold some sort of data.  The `__init__()` method defines how this data is stored.  To allow an object to refer to its own data, we typically use `self`"
   ]
  },
  {
   "cell_type": "code",
   "execution_count": 1,
   "metadata": {},
   "outputs": [
    {
     "name": "stdout",
     "output_type": "stream",
     "text": [
      "<__main__.Rational object at 0x10903a880>\n",
      "x = 1 / 2\n"
     ]
    }
   ],
   "source": [
    "class Rational(object):\n",
    "    \"\"\"\n",
    "    A class for rational numbers p / q\n",
    "    \"\"\"\n",
    "    \n",
    "    def __init__(self, p, q):\n",
    "        \"\"\"\n",
    "        initialize a Rational object with numerator p, denominator q\n",
    "        \"\"\"\n",
    "        self.p = p # store p as a parameter\n",
    "        self.q = q # store q as a parameter\n",
    "        \n",
    "        \n",
    "x = Rational(1, 2)\n",
    "print(x)\n",
    "print(f\"x = {x.p} / {x.q}\")"
   ]
  },
  {
   "cell_type": "markdown",
   "metadata": {},
   "source": [
    "Clearly, we might like to have a method that turns a `Rational` into a nicely formatted string.  We might accomplish by adding a method `tostring`"
   ]
  },
  {
   "cell_type": "code",
   "execution_count": 2,
   "metadata": {},
   "outputs": [],
   "source": [
    "class Rational(object):\n",
    "    \"\"\"\n",
    "    A class for rational numbers p / q\n",
    "    \"\"\"\n",
    "    \n",
    "    def __init__(self, p, q):\n",
    "        \"\"\"\n",
    "        initialize a Rational object with numerator p, denominator q\n",
    "        \"\"\"\n",
    "        self.p = p # store p as a parameter\n",
    "        self.q = q # store q as a parameter\n",
    "        \n",
    "    def tostring(self):\n",
    "        return f\"I am {self.p} / {self.q}\""
   ]
  },
  {
   "cell_type": "code",
   "execution_count": 3,
   "metadata": {},
   "outputs": [
    {
     "name": "stdout",
     "output_type": "stream",
     "text": [
      "I am 1 / 2\n",
      "<__main__.Rational object at 0x10903a6a0>\n"
     ]
    }
   ],
   "source": [
    "x = Rational(1, 2)\n",
    "print(x.tostring())\n",
    "print(x)"
   ]
  },
  {
   "cell_type": "markdown",
   "metadata": {},
   "source": [
    "However, the `tostring` method doesn't play nicely with things like `print`.  The solution is to use one of Python's [dunder (\"magic\") methods](https://www.geeksforgeeks.org/dunder-magic-methods-python/).  These are special methods, always surrounded by a double underscore (like `__init__`), which Python knows to look for in certain situations.\n",
    "\n",
    "The magic method to turn an object into a string is the `__str__()` method.\n",
    "\n",
    "The [`__repr__()` method](https://docs.python.org/3/reference/datamodel.html#object.__repr__) is the official representation of the object. You always want to have this when defining a class."
   ]
  },
  {
   "cell_type": "code",
   "execution_count": 4,
   "metadata": {},
   "outputs": [
    {
     "name": "stdout",
     "output_type": "stream",
     "text": [
      "I amount to 1 / 2\n"
     ]
    },
    {
     "data": {
      "text/plain": [
       "Rational(1, 2)"
      ]
     },
     "execution_count": 4,
     "metadata": {},
     "output_type": "execute_result"
    }
   ],
   "source": [
    "class Rational(object):\n",
    "    \"\"\"\n",
    "    A class for rational numbers p / q\n",
    "    \"\"\"\n",
    "    \n",
    "    def __init__(self, p, q):\n",
    "        \"\"\"\n",
    "        initialize a Rational object with numerator p, denominator q\n",
    "        \"\"\"\n",
    "        self.p = p # store p as a parameter\n",
    "        self.q = q # store q as a parameter\n",
    "        \n",
    "    def __str__(self):\n",
    "        return f\"I amount to {self.p} / {self.q}\"\n",
    "    \n",
    "    def __repr__(self):\n",
    "        return f\"Rational({self.p}, {self.q})\"\n",
    "    \n",
    "\n",
    "x = Rational(1, 2)\n",
    "print(x)\n",
    "x"
   ]
  },
  {
   "cell_type": "markdown",
   "metadata": {},
   "source": [
    "You can find documentation on the different magic methods you might use [in the Python documentation here](https://docs.python.org/3/reference/datamodel.html#special-method-names).\n",
    "\n",
    "One of the things we would often like to do in scientific computing is define types of mathematical objects and do operations on them in a natural way."
   ]
  },
  {
   "cell_type": "code",
   "execution_count": 5,
   "metadata": {},
   "outputs": [
    {
     "name": "stdout",
     "output_type": "stream",
     "text": [
      "6 / 8\n"
     ]
    }
   ],
   "source": [
    "class Rational(object):\n",
    "    \"\"\"\n",
    "    A class for rational numbers p / q\n",
    "    \"\"\"\n",
    "    \n",
    "    def __init__(self, p, q):\n",
    "        \"\"\"\n",
    "        initialize a Rational object with numerator p, denominator q\n",
    "        \"\"\"\n",
    "        self.p = p # store p as a parameter\n",
    "        self.q = q # store q as a parameter\n",
    "        \n",
    "    def __str__(self):\n",
    "        return f\"{self.p} / {self.q}\"\n",
    "    \n",
    "    def __repr__(self):\n",
    "        return f\"Rational({self.p}, {self.q})\"\n",
    "    \n",
    "    def __add__(self, other):\n",
    "        \"\"\"\n",
    "        Rational addition\n",
    "        \"\"\"\n",
    "        return Rational(self.p * other.q + self.q * other.p, self.q * other.q)\n",
    "    \n",
    "\n",
    "x = Rational(1,2)\n",
    "y = Rational(1,4)\n",
    "z = x + y\n",
    "print(z)"
   ]
  },
  {
   "cell_type": "markdown",
   "metadata": {},
   "source": [
    "we might want to add a new method that simplifies the fraction by removing any common divisors from the numerator and denominator, and ensuring that the denominator is positive."
   ]
  },
  {
   "cell_type": "code",
   "execution_count": null,
   "metadata": {},
   "outputs": [],
   "source": [
    "from math import gcd\n",
    "\n",
    "class Rational(object):\n",
    "    \"\"\"\n",
    "    A class for rational numbers p / q\n",
    "    \"\"\"\n",
    "    \n",
    "    def __init__(self, p, q):\n",
    "        \"\"\"\n",
    "        initialize a Rational object with numerator p, denominator q\n",
    "        \"\"\"\n",
    "        self.p = p # store p as a parameter\n",
    "        self.q = q # store q as a parameter\n",
    "        self.simplify()\n",
    "        \n",
    "    def __str__(self):\n",
    "        return f\"{self.p} / {self.q}\"\n",
    "    \n",
    "    def __repr__(self):\n",
    "        return f\"Rational({self.p}, {self.q})\"\n",
    "    \n",
    "    def __add__(self, other):\n",
    "        \"\"\"\n",
    "        Rational addition\n",
    "        \"\"\"\n",
    "        return Rational(self.p * other.q + self.q * other.p, self.q * other.q)\n",
    "    \n",
    "    def simplify(self):\n",
    "        \"\"\"\n",
    "        simplify fraction to lowest terms, and ensure denominator is positive\n",
    "        \"\"\"\n",
    "        g = gcd(self.p, self.q)\n",
    "        sgn = 1 if self.q > 0 else -1 # ternary expression in Python\n",
    "        self.p = sgn * self.p // g\n",
    "        self.q = sgn * self.q // g\n",
    "        \n",
    "    \n",
    "x = Rational(1,2)\n",
    "y = Rational(1,4)\n",
    "z = x + y\n",
    "print(z)\n",
    "w = Rational(1,-2)\n",
    "print(w)"
   ]
  },
  {
   "cell_type": "markdown",
   "metadata": {},
   "source": [
    "We should also check that the inputs to our `Rational` class are valid.\n",
    "1. We should only allow `Rational` to be constructed from integers\n",
    "2. The denominator should not be zero\n",
    "\n",
    "we can use the `isinstance` function to determine if a variable is of a certain class."
   ]
  },
  {
   "cell_type": "code",
   "execution_count": 6,
   "metadata": {},
   "outputs": [],
   "source": [
    "from math import gcd\n",
    "\n",
    "class Rational(object):\n",
    "    \"\"\"\n",
    "    A class for rational numbers p / q\n",
    "    \"\"\"\n",
    "    \n",
    "    def __init__(self, p, q):\n",
    "        \"\"\"\n",
    "        initialize a Rational object with numerator p, denominator q\n",
    "        \"\"\"\n",
    "        \n",
    "        if q == 0:\n",
    "            raise ValueError('Denominator must not be zero')\n",
    "        if not isinstance(p, int):\n",
    "            raise ValueError('Numerator must be an integer')\n",
    "        if not isinstance(q, int):\n",
    "            raise ValueError('Denominator must be an integer')\n",
    "        \n",
    "        self.p = p # store p as a parameter\n",
    "        self.q = q # store q as a parameter\n",
    "        self.simplify()\n",
    "        \n",
    "    def __str__(self):\n",
    "        return f\"{self.p} / {self.q}\"\n",
    "    \n",
    "    def __repr__(self):\n",
    "        return f\"Rational({self.p}, {self.q})\"\n",
    "    \n",
    "    def __add__(self, other):\n",
    "        \"\"\"\n",
    "        Rational addition\n",
    "        \"\"\"\n",
    "        return Rational(self.p * other.q + self.q * other.p, self.q * other.q)\n",
    "    \n",
    "    def simplify(self):\n",
    "        \"\"\"\n",
    "        simplify fraction to lowest terms, and ensure denominator is positive\n",
    "        \"\"\"\n",
    "        g = gcd(self.p, self.q)\n",
    "        sgn = 1 if self.q > 0 else -1 # ternary expression in Python\n",
    "        self.p = sgn * self.p // g\n",
    "        self.q = sgn * self.q // g"
   ]
  },
  {
   "cell_type": "code",
   "execution_count": 7,
   "metadata": {
    "scrolled": true,
    "tags": [
     "raises-exception"
    ]
   },
   "outputs": [
    {
     "ename": "ValueError",
     "evalue": "Numerator must be an integer",
     "output_type": "error",
     "traceback": [
      "\u001b[0;31m---------------------------------------------------------------------------\u001b[0m",
      "\u001b[0;31mValueError\u001b[0m                                Traceback (most recent call last)",
      "\u001b[0;32m/var/folders/6w/3k9kdsgn2mz6rkmvhbzm3snm0000gn/T/ipykernel_21626/3753878741.py\u001b[0m in \u001b[0;36m<module>\u001b[0;34m\u001b[0m\n\u001b[0;32m----> 1\u001b[0;31m \u001b[0mRational\u001b[0m\u001b[0;34m(\u001b[0m\u001b[0;36m1.0\u001b[0m\u001b[0;34m,\u001b[0m \u001b[0;36m2.0\u001b[0m\u001b[0;34m)\u001b[0m\u001b[0;34m\u001b[0m\u001b[0;34m\u001b[0m\u001b[0m\n\u001b[0m",
      "\u001b[0;32m/var/folders/6w/3k9kdsgn2mz6rkmvhbzm3snm0000gn/T/ipykernel_21626/2273747676.py\u001b[0m in \u001b[0;36m__init__\u001b[0;34m(self, p, q)\u001b[0m\n\u001b[1;32m     14\u001b[0m             \u001b[0;32mraise\u001b[0m \u001b[0mValueError\u001b[0m\u001b[0;34m(\u001b[0m\u001b[0;34m'Denominator must not be zero'\u001b[0m\u001b[0;34m)\u001b[0m\u001b[0;34m\u001b[0m\u001b[0;34m\u001b[0m\u001b[0m\n\u001b[1;32m     15\u001b[0m         \u001b[0;32mif\u001b[0m \u001b[0;32mnot\u001b[0m \u001b[0misinstance\u001b[0m\u001b[0;34m(\u001b[0m\u001b[0mp\u001b[0m\u001b[0;34m,\u001b[0m \u001b[0mint\u001b[0m\u001b[0;34m)\u001b[0m\u001b[0;34m:\u001b[0m\u001b[0;34m\u001b[0m\u001b[0;34m\u001b[0m\u001b[0m\n\u001b[0;32m---> 16\u001b[0;31m             \u001b[0;32mraise\u001b[0m \u001b[0mValueError\u001b[0m\u001b[0;34m(\u001b[0m\u001b[0;34m'Numerator must be an integer'\u001b[0m\u001b[0;34m)\u001b[0m\u001b[0;34m\u001b[0m\u001b[0;34m\u001b[0m\u001b[0m\n\u001b[0m\u001b[1;32m     17\u001b[0m         \u001b[0;32mif\u001b[0m \u001b[0;32mnot\u001b[0m \u001b[0misinstance\u001b[0m\u001b[0;34m(\u001b[0m\u001b[0mq\u001b[0m\u001b[0;34m,\u001b[0m \u001b[0mint\u001b[0m\u001b[0;34m)\u001b[0m\u001b[0;34m:\u001b[0m\u001b[0;34m\u001b[0m\u001b[0;34m\u001b[0m\u001b[0m\n\u001b[1;32m     18\u001b[0m             \u001b[0;32mraise\u001b[0m \u001b[0mValueError\u001b[0m\u001b[0;34m(\u001b[0m\u001b[0;34m'Denominator must be an integer'\u001b[0m\u001b[0;34m)\u001b[0m\u001b[0;34m\u001b[0m\u001b[0;34m\u001b[0m\u001b[0m\n",
      "\u001b[0;31mValueError\u001b[0m: Numerator must be an integer"
     ]
    }
   ],
   "source": [
    "Rational(1.0, 2.0)"
   ]
  },
  {
   "cell_type": "code",
   "execution_count": 8,
   "metadata": {
    "tags": [
     "raises-exception"
    ]
   },
   "outputs": [
    {
     "ename": "ValueError",
     "evalue": "Denominator must not be zero",
     "output_type": "error",
     "traceback": [
      "\u001b[0;31m---------------------------------------------------------------------------\u001b[0m",
      "\u001b[0;31mValueError\u001b[0m                                Traceback (most recent call last)",
      "\u001b[0;32m/var/folders/6w/3k9kdsgn2mz6rkmvhbzm3snm0000gn/T/ipykernel_21626/4229889826.py\u001b[0m in \u001b[0;36m<module>\u001b[0;34m\u001b[0m\n\u001b[0;32m----> 1\u001b[0;31m \u001b[0mRational\u001b[0m\u001b[0;34m(\u001b[0m\u001b[0;36m1\u001b[0m\u001b[0;34m,\u001b[0m\u001b[0;36m0\u001b[0m\u001b[0;34m)\u001b[0m\u001b[0;34m\u001b[0m\u001b[0;34m\u001b[0m\u001b[0m\n\u001b[0m",
      "\u001b[0;32m/var/folders/6w/3k9kdsgn2mz6rkmvhbzm3snm0000gn/T/ipykernel_21626/2273747676.py\u001b[0m in \u001b[0;36m__init__\u001b[0;34m(self, p, q)\u001b[0m\n\u001b[1;32m     12\u001b[0m \u001b[0;34m\u001b[0m\u001b[0m\n\u001b[1;32m     13\u001b[0m         \u001b[0;32mif\u001b[0m \u001b[0mq\u001b[0m \u001b[0;34m==\u001b[0m \u001b[0;36m0\u001b[0m\u001b[0;34m:\u001b[0m\u001b[0;34m\u001b[0m\u001b[0;34m\u001b[0m\u001b[0m\n\u001b[0;32m---> 14\u001b[0;31m             \u001b[0;32mraise\u001b[0m \u001b[0mValueError\u001b[0m\u001b[0;34m(\u001b[0m\u001b[0;34m'Denominator must not be zero'\u001b[0m\u001b[0;34m)\u001b[0m\u001b[0;34m\u001b[0m\u001b[0;34m\u001b[0m\u001b[0m\n\u001b[0m\u001b[1;32m     15\u001b[0m         \u001b[0;32mif\u001b[0m \u001b[0;32mnot\u001b[0m \u001b[0misinstance\u001b[0m\u001b[0;34m(\u001b[0m\u001b[0mp\u001b[0m\u001b[0;34m,\u001b[0m \u001b[0mint\u001b[0m\u001b[0;34m)\u001b[0m\u001b[0;34m:\u001b[0m\u001b[0;34m\u001b[0m\u001b[0;34m\u001b[0m\u001b[0m\n\u001b[1;32m     16\u001b[0m             \u001b[0;32mraise\u001b[0m \u001b[0mValueError\u001b[0m\u001b[0;34m(\u001b[0m\u001b[0;34m'Numerator must be an integer'\u001b[0m\u001b[0;34m)\u001b[0m\u001b[0;34m\u001b[0m\u001b[0;34m\u001b[0m\u001b[0m\n",
      "\u001b[0;31mValueError\u001b[0m: Denominator must not be zero"
     ]
    }
   ],
   "source": [
    "Rational(1,0)"
   ]
  },
  {
   "cell_type": "markdown",
   "metadata": {},
   "source": [
    "### Exercise\n",
    "\n",
    "Implement the following magic methods for the Rational class\n",
    "1. `__float__` to return the floating point representation of a Rational\n",
    "2. `__mul__` to overload the multiplication operator `x * y`\n",
    "3. `__truediv__` to overload the division operator `x / y`\n",
    "4. `__sub__` to overload the subtraction operator `x - y`\n",
    "5. `__neg__` to overload the negation operator `-x`\n",
    "6. `__abs__` to return the absolute value `abs(x)`\n",
    "\n",
    "Implement some checks to make everything works.\n",
    "\n",
    "Now, you can do rational arithmetic!"
   ]
  },
  {
   "cell_type": "code",
   "execution_count": null,
   "metadata": {},
   "outputs": [],
   "source": [
    "# Your code here\n"
   ]
  },
  {
   "cell_type": "code",
   "execution_count": 21,
   "metadata": {
    "tags": [
     "hide-cell"
    ]
   },
   "outputs": [],
   "source": [
    "class Rational(object):\n",
    "    \"\"\"\n",
    "    A class for rational numbers p / q\n",
    "    \"\"\"\n",
    "    \n",
    "    def __init__(self, p, q):\n",
    "        \"\"\"\n",
    "        initialize a Rational object with numerator p, denominator q\n",
    "        \"\"\"\n",
    "        \n",
    "        if q == 0:\n",
    "            raise ValueError('Denominator must not be zero')\n",
    "        if not isinstance(p, int):\n",
    "            raise ValueError('Numerator must be an integer')\n",
    "        if not isinstance(q, int):\n",
    "            raise ValueError('Denominator must be an integer')\n",
    "        \n",
    "        self.p = p # store p as a parameter\n",
    "        self.q = q # store q as a parameter\n",
    "        self.simplify()\n",
    "        \n",
    "    def __str__(self):\n",
    "        return f\"{self.p} / {self.q}\"\n",
    "    \n",
    "    \n",
    "    def __repr__(self):\n",
    "        return f\"Rational({self.p}, {self.q})\"\n",
    "    \n",
    "    def __add__(self, other):\n",
    "        \"\"\"\n",
    "        Rational addition\n",
    "        \"\"\"\n",
    "        return Rational(self.p * other.q + self.q * other.p, self.q * other.q)\n",
    "    \n",
    "    def __float__(self):\n",
    "        return self.p / self.q\n",
    "    \n",
    "    def __mul__(self, other):\n",
    "        return Rational(self.p * other.p, self.q * other.q)\n",
    "    \n",
    "    def __truediv__(self, other):\n",
    "        return Rational(self.p * other.q, self.q * other.p)\n",
    "    \n",
    "    def __sub__(self, other):\n",
    "        return Rational(self.p * other.q - self.q * other.p, self.q * other.q)\n",
    "    \n",
    "    def __neg__(self):\n",
    "        return Rational(-self.p, self.q)\n",
    "    \n",
    "    def __abs__(self):\n",
    "        return Rational(abs(self.p), self.q)\n",
    "    \n",
    "    def simplify(self):\n",
    "        \"\"\"\n",
    "        simplify fraction to lowest terms, and ensure denominator is positive\n",
    "        \"\"\"\n",
    "        g = gcd(self.p, self.q)\n",
    "        sgn = 1 if self.q > 0 else -1 # ternary expression in Python\n",
    "        self.p = sgn * self.p // g\n",
    "        self.q = sgn * self.q // g\n",
    "        \n",
    "\n"
   ]
  },
  {
   "cell_type": "code",
   "execution_count": 23,
   "metadata": {},
   "outputs": [
    {
     "name": "stdout",
     "output_type": "stream",
     "text": [
      "-1 / 2\n"
     ]
    }
   ],
   "source": [
    "x = Rational(1,2)\n",
    "print(-x)"
   ]
  },
  {
   "cell_type": "markdown",
   "metadata": {},
   "source": [
    "## Class Inheritance\n",
    "\n",
    "Sometimes, multiple classes are related even though they have different data.  In mathematics, we might say that the objects are in the same group/ring etc.\n",
    "\n",
    "One example is a class of linear maps $f: \\mathbb{R}^m \\to \\mathbb{R}^n$.  Linear maps can be added, scaled, or composed (multiplied).\n",
    "\n",
    "Linear maps can generally be defined using a dense matrix, but that isn't always the most efficient representation.\n",
    "\n",
    "We'll define a **base class** (also called a parent class) which will define how linear maps behave."
   ]
  },
  {
   "cell_type": "code",
   "execution_count": 13,
   "metadata": {},
   "outputs": [],
   "source": [
    "import numpy as np\n",
    "import numbers\n",
    "\n",
    "class LinearMap(object):\n",
    "    \"\"\"\n",
    "    A Linear Map from R^m -> R^n\n",
    "    \"\"\"\n",
    "    \n",
    "    def __init__(self, data=None):\n",
    "        self.data = data\n",
    "        \n",
    "    def __repr__(self):\n",
    "        return f\"LinearMap({type(self.data)})\"\n",
    "    \n",
    "    def __add__(self, other):\n",
    "        \"\"\"\n",
    "        Addition of linear maps\n",
    "        \"\"\"\n",
    "        if isinstance(other, LinearMap) or isinstance(other, numbers.Number):\n",
    "            return SumMap(self, other)\n",
    "        else:\n",
    "            raise ValueError('other type must be LinearMap!')\n",
    "    \n",
    "    def __mul__(self, other):\n",
    "        \"\"\"\n",
    "        Multiplication of linear maps\n",
    "        \"\"\"\n",
    "        if isinstance(other, LinearMap):\n",
    "            return ProdMap(self, other)\n",
    "        elif isinstance(other, numbers.Number):\n",
    "            # other is a scalar\n",
    "            return ProdMap(other, self)\n",
    "        elif isinstance(other, np.ndarray):\n",
    "            # other is a vector\n",
    "            return self.matmul(other)\n",
    "        else:\n",
    "            raise ValueError('unsupported type for multiplication')\n",
    "            \n",
    "    def __rmul__(self, other):\n",
    "        \"\"\"\n",
    "        This is called if the other type is multiplied on the left\n",
    "        \"\"\"\n",
    "        if isinstance(other, numbers.Number):\n",
    "            # other is a scalar\n",
    "            return ProdMap(other, self)\n",
    "        else:\n",
    "            raise ValueError('unsupported type for multiplication')\n",
    "            \n",
    "    def matmul(self, x):\n",
    "        \"\"\"\n",
    "        Implements action of the LinearMap on a vector\n",
    "        \"\"\"\n",
    "        if self.data is not None:\n",
    "            return self.data @ x # numpy matrix-vector multiplication\n",
    "        else:\n",
    "            raise NotImplementedError(\"matmul\")\n",
    "    \n",
    "x = LinearMap()"
   ]
  },
  {
   "cell_type": "markdown",
   "metadata": {},
   "source": [
    "You'll see above that we use several classes above: `ProdMap`, and `SumMap`.  We also define a `matmul` function, but we haven't implemented it, unless we pass in a `data` parameter."
   ]
  },
  {
   "cell_type": "code",
   "execution_count": 14,
   "metadata": {
    "scrolled": false,
    "tags": [
     "raises-exception"
    ]
   },
   "outputs": [
    {
     "ename": "NotImplementedError",
     "evalue": "matmul",
     "output_type": "error",
     "traceback": [
      "\u001b[0;31m---------------------------------------------------------------------------\u001b[0m",
      "\u001b[0;31mNotImplementedError\u001b[0m                       Traceback (most recent call last)",
      "\u001b[0;32m/var/folders/6w/3k9kdsgn2mz6rkmvhbzm3snm0000gn/T/ipykernel_21626/2928634510.py\u001b[0m in \u001b[0;36m<module>\u001b[0;34m\u001b[0m\n\u001b[1;32m      1\u001b[0m \u001b[0mA\u001b[0m \u001b[0;34m=\u001b[0m \u001b[0mLinearMap\u001b[0m\u001b[0;34m(\u001b[0m\u001b[0;34m)\u001b[0m\u001b[0;34m\u001b[0m\u001b[0;34m\u001b[0m\u001b[0m\n\u001b[1;32m      2\u001b[0m \u001b[0mx\u001b[0m \u001b[0;34m=\u001b[0m \u001b[0mnp\u001b[0m\u001b[0;34m.\u001b[0m\u001b[0mrandom\u001b[0m\u001b[0;34m.\u001b[0m\u001b[0mrand\u001b[0m\u001b[0;34m(\u001b[0m\u001b[0;36m2\u001b[0m\u001b[0;34m)\u001b[0m\u001b[0;34m\u001b[0m\u001b[0;34m\u001b[0m\u001b[0m\n\u001b[0;32m----> 3\u001b[0;31m \u001b[0mA\u001b[0m \u001b[0;34m*\u001b[0m \u001b[0mx\u001b[0m\u001b[0;34m\u001b[0m\u001b[0;34m\u001b[0m\u001b[0m\n\u001b[0m",
      "\u001b[0;32m/var/folders/6w/3k9kdsgn2mz6rkmvhbzm3snm0000gn/T/ipykernel_21626/2210818406.py\u001b[0m in \u001b[0;36m__mul__\u001b[0;34m(self, other)\u001b[0m\n\u001b[1;32m     33\u001b[0m         \u001b[0;32melif\u001b[0m \u001b[0misinstance\u001b[0m\u001b[0;34m(\u001b[0m\u001b[0mother\u001b[0m\u001b[0;34m,\u001b[0m \u001b[0mnp\u001b[0m\u001b[0;34m.\u001b[0m\u001b[0mndarray\u001b[0m\u001b[0;34m)\u001b[0m\u001b[0;34m:\u001b[0m\u001b[0;34m\u001b[0m\u001b[0;34m\u001b[0m\u001b[0m\n\u001b[1;32m     34\u001b[0m             \u001b[0;31m# other is a vector\u001b[0m\u001b[0;34m\u001b[0m\u001b[0;34m\u001b[0m\u001b[0;34m\u001b[0m\u001b[0m\n\u001b[0;32m---> 35\u001b[0;31m             \u001b[0;32mreturn\u001b[0m \u001b[0mself\u001b[0m\u001b[0;34m.\u001b[0m\u001b[0mmatmul\u001b[0m\u001b[0;34m(\u001b[0m\u001b[0mother\u001b[0m\u001b[0;34m)\u001b[0m\u001b[0;34m\u001b[0m\u001b[0;34m\u001b[0m\u001b[0m\n\u001b[0m\u001b[1;32m     36\u001b[0m         \u001b[0;32melse\u001b[0m\u001b[0;34m:\u001b[0m\u001b[0;34m\u001b[0m\u001b[0;34m\u001b[0m\u001b[0m\n\u001b[1;32m     37\u001b[0m             \u001b[0;32mraise\u001b[0m \u001b[0mValueError\u001b[0m\u001b[0;34m(\u001b[0m\u001b[0;34m'unsupported type for multiplication'\u001b[0m\u001b[0;34m)\u001b[0m\u001b[0;34m\u001b[0m\u001b[0;34m\u001b[0m\u001b[0m\n",
      "\u001b[0;32m/var/folders/6w/3k9kdsgn2mz6rkmvhbzm3snm0000gn/T/ipykernel_21626/2210818406.py\u001b[0m in \u001b[0;36mmatmul\u001b[0;34m(self, x)\u001b[0m\n\u001b[1;32m     54\u001b[0m             \u001b[0;32mreturn\u001b[0m \u001b[0mself\u001b[0m\u001b[0;34m.\u001b[0m\u001b[0mdata\u001b[0m \u001b[0;34m@\u001b[0m \u001b[0mx\u001b[0m \u001b[0;31m# numpy matrix-vector multiplication\u001b[0m\u001b[0;34m\u001b[0m\u001b[0;34m\u001b[0m\u001b[0m\n\u001b[1;32m     55\u001b[0m         \u001b[0;32melse\u001b[0m\u001b[0;34m:\u001b[0m\u001b[0;34m\u001b[0m\u001b[0;34m\u001b[0m\u001b[0m\n\u001b[0;32m---> 56\u001b[0;31m             \u001b[0;32mraise\u001b[0m \u001b[0mNotImplementedError\u001b[0m\u001b[0;34m(\u001b[0m\u001b[0;34m\"matmul\"\u001b[0m\u001b[0;34m)\u001b[0m\u001b[0;34m\u001b[0m\u001b[0;34m\u001b[0m\u001b[0m\n\u001b[0m\u001b[1;32m     57\u001b[0m \u001b[0;34m\u001b[0m\u001b[0m\n\u001b[1;32m     58\u001b[0m \u001b[0mx\u001b[0m \u001b[0;34m=\u001b[0m \u001b[0mLinearMap\u001b[0m\u001b[0;34m(\u001b[0m\u001b[0;34m)\u001b[0m\u001b[0;34m\u001b[0m\u001b[0;34m\u001b[0m\u001b[0m\n",
      "\u001b[0;31mNotImplementedError\u001b[0m: matmul"
     ]
    }
   ],
   "source": [
    "A = LinearMap()\n",
    "x = np.random.rand(2)\n",
    "A * x"
   ]
  },
  {
   "cell_type": "code",
   "execution_count": 15,
   "metadata": {},
   "outputs": [
    {
     "name": "stdout",
     "output_type": "stream",
     "text": [
      "LinearMap(<class 'numpy.ndarray'>)\n"
     ]
    },
    {
     "data": {
      "text/plain": [
       "array([0.89580631, 0.6340823 ])"
      ]
     },
     "execution_count": 15,
     "metadata": {},
     "output_type": "execute_result"
    }
   ],
   "source": [
    "A = LinearMap(np.random.rand(2,2))\n",
    "print(A)\n",
    "A * x"
   ]
  },
  {
   "cell_type": "markdown",
   "metadata": {},
   "source": [
    "What we need to do is define some *derived classes* (child classes) that inherit from our `LinearMap` parent class."
   ]
  },
  {
   "cell_type": "code",
   "execution_count": 16,
   "metadata": {},
   "outputs": [],
   "source": [
    "class ProdMap(LinearMap):\n",
    "    \"\"\"\n",
    "    Product of Linear Maps (A * B)\n",
    "    \"\"\"\n",
    "    def __init__(self, A, B):\n",
    "        self.A = A\n",
    "        self.B = B\n",
    "        \n",
    "    def __repr__(self):\n",
    "        return f\"ProdMap({self.A}, {self.B})\"\n",
    "        \n",
    "    def matmul(self, x):\n",
    "        return self.A * (self.B * x)\n",
    "    \n",
    "\n",
    "class SumMap(LinearMap):\n",
    "    \"\"\"\n",
    "    Sum of Linear Maps (A + B)\n",
    "    \"\"\"\n",
    "    def __init__(self, A, B):\n",
    "        self.A = A\n",
    "        self.B = B\n",
    "        \n",
    "    def __repr__(self):\n",
    "        return f\"SumMap({self.A}, {self.B})\"\n",
    "        \n",
    "    def matmul(self, x):\n",
    "        return (self.A * x) + (self.B * x)\n",
    "    "
   ]
  },
  {
   "cell_type": "code",
   "execution_count": 17,
   "metadata": {},
   "outputs": [
    {
     "data": {
      "text/plain": [
       "array([5., 5.])"
      ]
     },
     "execution_count": 17,
     "metadata": {},
     "output_type": "execute_result"
    }
   ],
   "source": [
    "A = SumMap(3,2)\n",
    "x = np.ones(2)\n",
    "A * x"
   ]
  },
  {
   "cell_type": "markdown",
   "metadata": {},
   "source": [
    "Note that we can do arithmetic on `SumMap` and `ProdMap`"
   ]
  },
  {
   "cell_type": "code",
   "execution_count": 18,
   "metadata": {},
   "outputs": [
    {
     "name": "stdout",
     "output_type": "stream",
     "text": [
      "ProdMap(SumMap(3, 2), SumMap(3, 2))\n"
     ]
    },
    {
     "data": {
      "text/plain": [
       "array([25., 25.])"
      ]
     },
     "execution_count": 18,
     "metadata": {},
     "output_type": "execute_result"
    }
   ],
   "source": [
    "B = A * A\n",
    "print(B)\n",
    "B * x"
   ]
  },
  {
   "cell_type": "markdown",
   "metadata": {},
   "source": [
    "Because `SumMap` and `ProdMap` are derived classes of `LinearMap`, they inherit all the methods of `LinearMap` by default.  This means that we can automatically multiply two `SumMap` objects without needing to define `__mul__` in the derived class.\n",
    "\n",
    "Note, that if we define a method in both the base class and derived class that the derived class method is called.  This happens for the `__init__`, `__repr__` and `matmul` methods above."
   ]
  },
  {
   "cell_type": "markdown",
   "metadata": {},
   "source": [
    "One of the things we get with our `LinearMap` class is a cheap way to construct low-rank matrices"
   ]
  },
  {
   "cell_type": "code",
   "execution_count": 26,
   "metadata": {},
   "outputs": [
    {
     "data": {
      "text/plain": [
       "True"
      ]
     },
     "execution_count": 26,
     "metadata": {},
     "output_type": "execute_result"
    }
   ],
   "source": [
    "n = 2000\n",
    "k = 10\n",
    "A = np.random.randn(n, k)\n",
    "B = np.random.randn(k, n)\n",
    "\n",
    "AB = A @ B # dense product\n",
    "\n",
    "AB2 = LinearMap(A) * LinearMap(B)\n",
    "AB2\n",
    "isinstance(AB2, LinearMap)"
   ]
  },
  {
   "cell_type": "code",
   "execution_count": null,
   "metadata": {},
   "outputs": [],
   "source": [
    "from time import time"
   ]
  },
  {
   "cell_type": "code",
   "execution_count": null,
   "metadata": {},
   "outputs": [],
   "source": [
    "x = np.random.randn(n)\n",
    "t0 = time()\n",
    "for i in range(10):\n",
    "    y = AB @ x\n",
    "t1 = time()\n",
    "print(\"time elapsed: {} sec.\".format(t1 - t0))\n",
    "\n",
    "t0 = time()\n",
    "for i in range(10):\n",
    "    y = AB2 * x\n",
    "t1 = time()\n",
    "print(\"time elapsed: {} sec.\".format(t1 - t0))"
   ]
  },
  {
   "cell_type": "markdown",
   "metadata": {},
   "source": [
    "### Exercise\n",
    "\n",
    "#### Part 1 - More Derived Classes\n",
    "\n",
    "1. Implement a derived class of `LinearMap` for the identity map $I: x\\to x$, called `IdentityMap`\n",
    "2. Implement a derived class of `LinearMap` called `SymmetricMap` which has as data a matrix $A$, and implements the linear map $A * A^T$\n",
    "\n",
    "#### Part 2 - Power method\n",
    "\n",
    "Recall an eigenvector of a linear map $A$ is a vector $x$ so that $A x = x * \\lambda$.  The scalar $\\lambda$ is the *eigenvalue*, and the pair $(\\lambda, x)$ is called the *eigenpair*.\n",
    "\n",
    "Now we'll implement [power method](https://en.wikipedia.org/wiki/Power_iteration) to find the largest eigenpair of a symmetric (hermetian) matrix $A$.  In pseudo-code, the algorithm is\n",
    "```\n",
    "Inputs:\n",
    "    A: a symmetric n x n matrix\n",
    "    x: a vector of length n\n",
    "while not converged:\n",
    "    x = A * x\n",
    "    x = x / ||x||_2\n",
    "```\n",
    "\n",
    "The vector `x` will converge to the eigenvector with largest magnitude eigenvalue, and the eigenvalue can be computed as the [Rayleigh quotient](https://en.wikipedia.org/wiki/Rayleigh_quotient)\n",
    "$$R(A, x) = \\frac{x^T A x}{x^T x}$$\n",
    "\n",
    "If $x_k$ is the value of $x$ at iteration $k$, we'll say the algorithm has converged if\n",
    "$$|R(A, x_k)  - R(A, x_{k+1}| < \\mathsf{tol}$$\n",
    "where `tol` is some tolerance.\n",
    "\n",
    "Write a function that will use the power method to compute the largest eigenpair.  You should be able to call the function as\n",
    "```python\n",
    "x, lam = PowerMethod(A, x0, tol=1e-8) # default parameters provided\n",
    "```\n",
    "where `x0` is the inital vector used in the iteration.\n",
    "\n",
    "You may want to consider writing a helper function to compute the Rayleigh quotient.\n",
    "\n",
    "Test your function on a matrix $A = I + x x^T$ where $x$ is a randomly generated unit vector.  How does the top eigenvector relate to $x$?  What is the top eigenvalue?  You can answer this either with your knowledge of linear algebra, or experimentally.\n"
   ]
  },
  {
   "cell_type": "code",
   "execution_count": null,
   "metadata": {},
   "outputs": [],
   "source": [
    "# Your code here\n"
   ]
  },
  {
   "cell_type": "code",
   "execution_count": null,
   "metadata": {
    "tags": [
     "hide-cell"
    ]
   },
   "outputs": [],
   "source": [
    "class IdentityMap(LinearMap):\n",
    "    \"\"\"\n",
    "    The identity map I : x -> x\n",
    "    \"\"\"\n",
    "    \n",
    "    def __init__(self):\n",
    "        pass\n",
    "    \n",
    "    def __repr__(self):\n",
    "        return \"IdentityMap()\"\n",
    "    \n",
    "    def matmul(self, x):\n",
    "        return x\n",
    "\n",
    "    \n",
    "class SymmetricMap(LinearMap):\n",
    "    \"\"\"\n",
    "    A map A * A.T()\n",
    "    \"\"\"\n",
    "    def __init__(self, A):\n",
    "        self.A = A\n",
    "        \n",
    "    def __repr__(self):\n",
    "        return \"SymmetricMap({})\".format(type(A))\n",
    "    \n",
    "    def matmul(self, x):\n",
    "        return self.A @ (self.A.T @ x)"
   ]
  },
  {
   "cell_type": "code",
   "execution_count": null,
   "metadata": {
    "tags": [
     "hide-cell"
    ]
   },
   "outputs": [],
   "source": [
    "def RayleighQuotient(A, x):\n",
    "    \"\"\"\n",
    "    computes Rayleigh quotient\n",
    "    R(A, x) = x^T A x / x^T x\n",
    "    \"\"\"\n",
    "    return x.dot(A * x) / x.dot(x)\n",
    "\n",
    "            \n",
    "def PowerMethod(A, x0, tol=1e-8):\n",
    "    \"\"\"\n",
    "    compute top eigenpair of A using power method.  Start with vector x0\n",
    "    \"\"\"\n",
    "    x = x0\n",
    "    r = [RayleighQuotient(A, x)]\n",
    "    while True:\n",
    "        x = A * x\n",
    "        x = x / np.linalg.norm(x)\n",
    "        r.append(RayleighQuotient(A, x))\n",
    "        if abs(r[-1] - r[-2]) < tol:\n",
    "            break\n",
    "            \n",
    "    return x, r[-1]\n",
    "    "
   ]
  },
  {
   "cell_type": "code",
   "execution_count": null,
   "metadata": {
    "tags": [
     "hide-cell"
    ]
   },
   "outputs": [],
   "source": [
    "n = 100\n",
    "x = np.random.randn(n)\n",
    "x = x.reshape(n, -1)\n",
    "x = x / np.linalg.norm(x)\n",
    "\n",
    "A = IdentityMap() + SymmetricMap(x)"
   ]
  },
  {
   "cell_type": "code",
   "execution_count": null,
   "metadata": {
    "tags": [
     "hide-cell"
    ]
   },
   "outputs": [],
   "source": [
    "x0 = np.random.randn(n)\n",
    "RayleighQuotient(A, x0)"
   ]
  },
  {
   "cell_type": "code",
   "execution_count": null,
   "metadata": {
    "tags": [
     "hide-cell"
    ]
   },
   "outputs": [],
   "source": [
    "x1, lam = PowerMethod(A, x0)"
   ]
  },
  {
   "cell_type": "code",
   "execution_count": null,
   "metadata": {},
   "outputs": [],
   "source": []
  }
 ],
 "metadata": {
  "kernelspec": {
   "display_name": "Python (pycourse)",
   "language": "python",
   "name": "pycourse"
  },
  "language_info": {
   "codemirror_mode": {
    "name": "ipython",
    "version": 3
   },
   "file_extension": ".py",
   "mimetype": "text/x-python",
   "name": "python",
   "nbconvert_exporter": "python",
   "pygments_lexer": "ipython3",
   "version": "3.8.11"
  }
 },
 "nbformat": 4,
 "nbformat_minor": 2
}
