{
 "cells": [
  {
   "cell_type": "markdown",
   "metadata": {},
   "source": [
    "# PyTorch Neural Networks\n",
    "\n",
    "[PyTorch](https://pytorch.org/) is a Python package for defining and training neural networks.  Neural networks and deep learning have been a hot topic for several years, and are the tools underlying many state-of-the art machine learning tasks.  There are many industrial applications (e.g. at your favorite or least favorite companies in Silicon Valley), but also many scientific applications including\n",
    "* Processing data in particle detectors\n",
    "* Seismic imaging / medical imaging\n",
    "* Accelerating simulations of physical phenomena\n",
    "* ...\n",
    "\n",
    "A (deep) feed-forward neural network is the composition of functions\n",
    "\\begin{equation}\n",
    "f_N(x; w_N, b_N) \\circ f_{N-1}(x; w_{N-1}, b_{N-1}) \\circ \\dots f_0(x; w_0, b_0)\n",
    "\\end{equation}\n",
    "where each $f_i(x; w_i, b_i)$ is a (non-linear) function with learnable parameters $w_i, b_i$.  There are many choices for what the exact function is.  A common and simple one to describe is an (affine) linear transformation followed by a non-linearity.\n",
    "\\begin{equation}\n",
    "f_i(x; w_i, b_i) = (w_i \\cdot x + b_i)_+\n",
    "\\end{equation}\n",
    "\n",
    "where $w_i \\cdot x$ is matrix-vector multiplication, and $(\\cdot)_+$ is the ReLU operation (Rectified Linear Unit)\n",
    "\\begin{equation}\n",
    "x_+ = \\begin{cases}\n",
    "x & x > 0\\\\\n",
    "0 & x \\le 0\n",
    "\\end{cases}\n",
    "\\end{equation}\n",
    "\n",
    "If you take the composition of several functions like this, you have a multilayer perceptron (MLP).\n"
   ]
  },
  {
   "cell_type": "markdown",
   "metadata": {},
   "source": [
    "## Deep Learning Libraries\n",
    "\n",
    "There are many deep learning libraries available, the most common ones for python are\n",
    "\n",
    "- TensorFlow, Keras\n",
    "- PyTorch\n",
    "\n",
    "Working with tensorflow requires going into lot of details of the contruction of the computation graph, whereas Keras is a higher level interface for tensorflow. Tensorflow is very popular in the industry and good for production code.\n",
    "\n",
    "PyTorch can be used as low level interface, but is much more user-friendly than tensorflow, but it also has a higher level interface. Pytorch is more popular in the research community."
   ]
  },
  {
   "cell_type": "markdown",
   "metadata": {},
   "source": [
    "### Main features that any deep learning library should provide\n",
    "\n",
    "No matter what library or language you use, the main features provided by a deep learning library are \n",
    "1. Use the GPU to speed up computation \n",
    "2. Ability to do automatic differentiation\n",
    "3. Useful library functions for common architectures and optimization algorithms\n",
    "\n",
    "### PyTorch\n",
    "We will look at all of the above in pytorch.\n",
    "The best way to think about pytorch is that its numpy + GPU + autograd.\n",
    "\n",
    "You can install it with\n",
    "\n",
    "```conda install pytorch```.\n",
    "\n",
    "Alternatively (and recommended), run this notebook in Google Colab-- it provides an environment with all of the PyTorch dependencies plus a GPU free of charge."
   ]
  },
  {
   "cell_type": "code",
   "execution_count": 188,
   "metadata": {},
   "outputs": [
    {
     "data": {
      "text/plain": [
       "'1.4.0'"
      ]
     },
     "execution_count": 188,
     "metadata": {},
     "output_type": "execute_result"
    }
   ],
   "source": [
    "import torch\n",
    "import numpy as np\n",
    "import matplotlib.pyplot as plt\n",
    "torch.__version__"
   ]
  },
  {
   "cell_type": "markdown",
   "metadata": {},
   "source": [
    "## Automatic Differentiation\n",
    "\n",
    "[Automatic differentiation](https://en.wikipedia.org/wiki/Automatic_differentiation) is different from numerical differentiation, which requires a choice of step size, and symbolic differentiation which creates a single expression for a derivative.  Instead it performs chain rule repeatedly.\n",
    "\n",
    "PyTorch uses dynamic computation graphs to compute the gradients of the parameters."
   ]
  },
  {
   "cell_type": "code",
   "execution_count": 189,
   "metadata": {},
   "outputs": [],
   "source": [
    "x = torch.tensor([2.0])\n",
    "m = torch.tensor([5.0], requires_grad = True)\n",
    "c = torch.tensor([2.0], requires_grad = True)"
   ]
  },
  {
   "cell_type": "code",
   "execution_count": 190,
   "metadata": {},
   "outputs": [
    {
     "data": {
      "text/plain": [
       "tensor([12.], grad_fn=<AddBackward0>)"
      ]
     },
     "execution_count": 190,
     "metadata": {},
     "output_type": "execute_result"
    }
   ],
   "source": [
    "y = m*x + c\n",
    "y"
   ]
  },
  {
   "cell_type": "markdown",
   "metadata": {},
   "source": [
    "Define an error for your function"
   ]
  },
  {
   "cell_type": "code",
   "execution_count": 191,
   "metadata": {},
   "outputs": [
    {
     "data": {
      "text/plain": [
       "tensor(1., grad_fn=<NormBackward0>)"
      ]
     },
     "execution_count": 191,
     "metadata": {},
     "output_type": "execute_result"
    }
   ],
   "source": [
    "loss = torch.norm( y - 13)\n",
    "loss"
   ]
  },
  {
   "cell_type": "code",
   "execution_count": 194,
   "metadata": {},
   "outputs": [],
   "source": [
    "m.grad"
   ]
  },
  {
   "cell_type": "markdown",
   "metadata": {},
   "source": [
    "Calling `x.backward()` on any tensor forces pytorch to compute all the gradients of the tensors used to compute `x` which had the `requires_grad` flag set to `True`. The computed gradient will be stored in the `.grad` property of the tensors"
   ]
  },
  {
   "cell_type": "code",
   "execution_count": 195,
   "metadata": {},
   "outputs": [],
   "source": [
    "loss.backward()"
   ]
  },
  {
   "cell_type": "code",
   "execution_count": 196,
   "metadata": {},
   "outputs": [
    {
     "data": {
      "text/plain": [
       "tensor([-2.])"
      ]
     },
     "execution_count": 196,
     "metadata": {},
     "output_type": "execute_result"
    }
   ],
   "source": [
    "m.grad"
   ]
  },
  {
   "cell_type": "code",
   "execution_count": 200,
   "metadata": {},
   "outputs": [
    {
     "data": {
      "text/plain": [
       "tensor([-1.])"
      ]
     },
     "execution_count": 200,
     "metadata": {},
     "output_type": "execute_result"
    }
   ],
   "source": [
    "c.grad"
   ]
  },
  {
   "cell_type": "code",
   "execution_count": 202,
   "metadata": {},
   "outputs": [],
   "source": [
    "with torch.no_grad():\n",
    "    m -= 0.01 * m.grad\n",
    "    c -= 0.3 * c.grad"
   ]
  },
  {
   "cell_type": "code",
   "execution_count": 203,
   "metadata": {},
   "outputs": [
    {
     "data": {
      "text/plain": [
       "(tensor([5.0400], requires_grad=True), tensor([2.6000], requires_grad=True))"
      ]
     },
     "execution_count": 203,
     "metadata": {},
     "output_type": "execute_result"
    }
   ],
   "source": [
    "m,c"
   ]
  },
  {
   "cell_type": "code",
   "execution_count": 204,
   "metadata": {},
   "outputs": [
    {
     "data": {
      "text/plain": [
       "(tensor([-2.]), tensor([-1.]))"
      ]
     },
     "execution_count": 204,
     "metadata": {},
     "output_type": "execute_result"
    }
   ],
   "source": [
    "m.grad, c.grad"
   ]
  },
  {
   "cell_type": "code",
   "execution_count": 206,
   "metadata": {},
   "outputs": [
    {
     "data": {
      "text/plain": [
       "(tensor([0.]), tensor([0.]))"
      ]
     },
     "execution_count": 206,
     "metadata": {},
     "output_type": "execute_result"
    }
   ],
   "source": [
    "m.grad.zero_()\n",
    "c.grad.zero_()\n",
    "\n",
    "m.grad, c.grad"
   ]
  },
  {
   "cell_type": "code",
   "execution_count": 207,
   "metadata": {},
   "outputs": [
    {
     "data": {
      "text/plain": [
       "tensor([12.6800], grad_fn=<AddBackward0>)"
      ]
     },
     "execution_count": 207,
     "metadata": {},
     "output_type": "execute_result"
    }
   ],
   "source": [
    "y = m*x + c\n",
    "y"
   ]
  },
  {
   "cell_type": "code",
   "execution_count": 208,
   "metadata": {},
   "outputs": [
    {
     "data": {
      "text/plain": [
       "tensor(0.3200, grad_fn=<NormBackward0>)"
      ]
     },
     "execution_count": 208,
     "metadata": {},
     "output_type": "execute_result"
    }
   ],
   "source": [
    "loss = torch.norm( y - 13)\n",
    "loss"
   ]
  },
  {
   "cell_type": "code",
   "execution_count": 209,
   "metadata": {},
   "outputs": [
    {
     "data": {
      "text/plain": [
       "(tensor([-2.]), tensor([-1.]))"
      ]
     },
     "execution_count": 209,
     "metadata": {},
     "output_type": "execute_result"
    }
   ],
   "source": [
    "loss.backward()\n",
    "m.grad, c.grad"
   ]
  },
  {
   "cell_type": "markdown",
   "metadata": {},
   "source": [
    "### Making it more compact"
   ]
  },
  {
   "cell_type": "code",
   "execution_count": 210,
   "metadata": {},
   "outputs": [],
   "source": [
    "def model_fn(x,m,c):\n",
    "    return m*x + c\n",
    "\n",
    "def loss_fn(y,yt):\n",
    "    return torch.norm(y-yt)"
   ]
  },
  {
   "cell_type": "code",
   "execution_count": 211,
   "metadata": {},
   "outputs": [],
   "source": [
    "m = torch.tensor([5.0], requires_grad = True)\n",
    "c = torch.tensor([2.0], requires_grad = True)"
   ]
  },
  {
   "cell_type": "code",
   "execution_count": 212,
   "metadata": {},
   "outputs": [],
   "source": [
    "x = torch.tensor([2.0])\n",
    "yt = torch.tensor([13.0])"
   ]
  },
  {
   "cell_type": "code",
   "execution_count": 213,
   "metadata": {},
   "outputs": [
    {
     "name": "stdout",
     "output_type": "stream",
     "text": [
      " m = tensor([5.1000], requires_grad=True)\n",
      " c = tensor([2.0500], requires_grad=True)\n",
      " y = tensor([12.], grad_fn=<AddBackward0>)\n",
      " loss = 1.0\n"
     ]
    }
   ],
   "source": [
    "y = model_fn(x,m,c)\n",
    "loss = loss_fn(y,yt)\n",
    "loss.backward()\n",
    "with torch.no_grad():\n",
    "    m -= 0.05 * m.grad\n",
    "    c -= 0.05 * c.grad\n",
    "m.grad.zero_()\n",
    "c.grad.zero_()\n",
    "\n",
    "print( f\" m = {m}\\n c = {c}\\n y = {y}\\n loss = {loss}\")\n",
    "#note that 'loss' indicates the loss for the previous m,c values"
   ]
  },
  {
   "cell_type": "markdown",
   "metadata": {},
   "source": [
    "Here's an explicit loop:"
   ]
  },
  {
   "cell_type": "code",
   "execution_count": 214,
   "metadata": {},
   "outputs": [
    {
     "name": "stdout",
     "output_type": "stream",
     "text": [
      "loss = 135.52967834472656\n",
      "loss = 106.52214050292969\n",
      "loss = 78.19770050048828\n",
      "loss = 51.47962951660156\n",
      "loss = 29.748573303222656\n",
      "loss = 22.29718017578125\n",
      "loss = 22.245311737060547\n",
      "loss = 22.24411392211914\n",
      "loss = 22.24404525756836\n",
      "loss = 22.24402618408203\n",
      "loss = 22.24403190612793\n",
      "loss = 22.244029998779297\n",
      "loss = 22.24403190612793\n",
      "loss = 22.24403190612793\n",
      "loss = 22.24403190612793\n",
      "loss = 22.244028091430664\n",
      "loss = 22.244035720825195\n",
      "loss = 22.244033813476562\n",
      "loss = 22.244035720825195\n",
      "loss = 22.244035720825195\n",
      "loss = 22.244035720825195\n",
      "loss = 22.244035720825195\n",
      "loss = 22.244033813476562\n",
      "loss = 22.244035720825195\n",
      "loss = 22.244035720825195\n",
      "loss = 22.244035720825195\n",
      "loss = 22.244035720825195\n",
      "loss = 22.244035720825195\n",
      "loss = 22.244033813476562\n",
      "loss = 22.244035720825195\n",
      "loss = 22.244035720825195\n",
      "loss = 22.244033813476562\n",
      "loss = 22.244035720825195\n",
      "loss = 22.244035720825195\n",
      "loss = 22.244033813476562\n",
      "loss = 22.244035720825195\n",
      "loss = 22.244033813476562\n",
      "loss = 22.244035720825195\n",
      "loss = 22.244035720825195\n",
      "loss = 22.244033813476562\n",
      "loss = 22.244035720825195\n",
      "loss = 22.244033813476562\n",
      "loss = 22.244035720825195\n",
      "loss = 22.244035720825195\n",
      "loss = 22.244033813476562\n",
      "loss = 22.244035720825195\n",
      "loss = 22.244033813476562\n",
      "loss = 22.244035720825195\n",
      "loss = 22.244035720825195\n",
      "loss = 22.244033813476562\n",
      "loss = 22.244035720825195\n",
      "loss = 22.244033813476562\n",
      "loss = 22.244035720825195\n",
      "loss = 22.244035720825195\n",
      "loss = 22.244033813476562\n",
      "loss = 22.244035720825195\n",
      "loss = 22.244033813476562\n",
      "loss = 22.244035720825195\n",
      "loss = 22.244035720825195\n",
      "loss = 22.244033813476562\n",
      "loss = 22.244035720825195\n",
      "loss = 22.244033813476562\n",
      "loss = 22.244035720825195\n",
      "loss = 22.244035720825195\n",
      "loss = 22.244033813476562\n",
      "loss = 22.244035720825195\n",
      "loss = 22.244033813476562\n",
      "loss = 22.244035720825195\n",
      "loss = 22.244035720825195\n",
      "loss = 22.244033813476562\n",
      "loss = 22.244035720825195\n",
      "loss = 22.244033813476562\n",
      "loss = 22.244035720825195\n",
      "loss = 22.244035720825195\n",
      "loss = 22.244033813476562\n",
      "loss = 22.244035720825195\n",
      "loss = 22.244033813476562\n",
      "loss = 22.244035720825195\n",
      "loss = 22.244035720825195\n",
      "loss = 22.244033813476562\n",
      "loss = 22.244035720825195\n",
      "loss = 22.244033813476562\n",
      "loss = 22.244035720825195\n",
      "loss = 22.244035720825195\n",
      "loss = 22.244033813476562\n",
      "loss = 22.244035720825195\n",
      "loss = 22.244033813476562\n",
      "loss = 22.244035720825195\n",
      "loss = 22.244035720825195\n",
      "loss = 22.244033813476562\n",
      "loss = 22.244035720825195\n",
      "loss = 22.244033813476562\n",
      "loss = 22.244035720825195\n",
      "loss = 22.244035720825195\n",
      "loss = 22.244033813476562\n",
      "loss = 22.244035720825195\n",
      "loss = 22.244033813476562\n",
      "loss = 22.244035720825195\n",
      "loss = 22.244035720825195\n",
      "loss = 22.244033813476562\n"
     ]
    },
    {
     "data": {
      "image/png": "[encoded data removed]",
      "text/plain": [
       "<Figure size 432x288 with 1 Axes>"
      ]
     },
     "metadata": {
      "needs_background": "light"
     },
     "output_type": "display_data"
    }
   ],
   "source": [
    "x = torch.randn(5,100)\n",
    "yt = torch.randn(1,100)\n",
    "losses = []\n",
    "\n",
    "for i in range(100):\n",
    "    y = model_fn(x,m,c)\n",
    "    loss = loss_fn(y,yt)\n",
    "    loss.backward()\n",
    "    with torch.no_grad():\n",
    "        m -= 0.05 * m.grad\n",
    "        c -= 0.05 * c.grad\n",
    "    m.grad.zero_()\n",
    "    c.grad.zero_()\n",
    "\n",
    "    losses+=[loss.item()]\n",
    "    print( f\"loss = {loss}\")\n",
    "\n",
    "plt.plot(losses);"
   ]
  },
  {
   "cell_type": "markdown",
   "metadata": {},
   "source": [
    "## Using Library functions\n",
    "\n",
    "The subpackage `torch.nn` provides an object-oriented library of functions that can be composed together.\n"
   ]
  },
  {
   "cell_type": "code",
   "execution_count": 216,
   "metadata": {},
   "outputs": [],
   "source": [
    "model = torch.nn.Sequential(\n",
    "    torch.nn.Linear(5, 5), # 5 x 5 matrix\n",
    "    torch.nn.ReLU(),       # ReLU nonlinearity\n",
    "    torch.nn.Linear(5, 5), # 5 x 5 matrix\n",
    ")"
   ]
  },
  {
   "cell_type": "code",
   "execution_count": 224,
   "metadata": {},
   "outputs": [
    {
     "data": {
      "text/plain": [
       "[Parameter containing:\n",
       " tensor([[-0.0670, -0.2266,  0.2436, -0.1265,  0.3359],\n",
       "         [ 0.2764, -0.0563,  0.3112,  0.3026, -0.1334],\n",
       "         [-0.2847, -0.0901, -0.3842,  0.1007, -0.0701],\n",
       "         [ 0.1516, -0.1606,  0.3589,  0.0789, -0.0376],\n",
       "         [-0.3211,  0.2877, -0.3530,  0.3246,  0.3301]], requires_grad=True),\n",
       " Parameter containing:\n",
       " tensor([-0.0167,  0.2621,  0.0565,  0.2851, -0.2834], requires_grad=True),\n",
       " Parameter containing:\n",
       " tensor([[ 0.1517, -0.1053, -0.3044, -0.0560, -0.1072],\n",
       "         [-0.1624,  0.3813, -0.2169, -0.1347,  0.2819],\n",
       "         [ 0.2953,  0.1252,  0.4313, -0.0116, -0.2964],\n",
       "         [ 0.2774, -0.1723,  0.1838,  0.4383, -0.0009],\n",
       "         [ 0.0171, -0.3358,  0.2332, -0.0717,  0.0412]], requires_grad=True),\n",
       " Parameter containing:\n",
       " tensor([-0.3518,  0.1369, -0.2293, -0.3390, -0.0978], requires_grad=True)]"
      ]
     },
     "execution_count": 224,
     "metadata": {},
     "output_type": "execute_result"
    }
   ],
   "source": [
    "list(model.parameters())"
   ]
  },
  {
   "cell_type": "code",
   "execution_count": 221,
   "metadata": {},
   "outputs": [],
   "source": [
    "loss_fn = torch.nn.MSELoss(reduction='sum')"
   ]
  },
  {
   "cell_type": "markdown",
   "metadata": {},
   "source": [
    "In this case, we'll just fit the model to random data."
   ]
  },
  {
   "cell_type": "code",
   "execution_count": 223,
   "metadata": {},
   "outputs": [],
   "source": [
    "x = torch.randn(100,5)\n",
    "yt = torch.randn(100,5)\n",
    "losses = []"
   ]
  },
  {
   "cell_type": "markdown",
   "metadata": {},
   "source": [
    "Optimizers in `torch.optim` implement a variety of optimization strategies.  Almost all are based on gradient descent, since forming Hessians is prohibitive."
   ]
  },
  {
   "cell_type": "code",
   "execution_count": 227,
   "metadata": {},
   "outputs": [],
   "source": [
    "optimizer = torch.optim.Adam(model.parameters(), lr=0.03)"
   ]
  },
  {
   "cell_type": "code",
   "execution_count": 228,
   "metadata": {},
   "outputs": [
    {
     "name": "stdout",
     "output_type": "stream",
     "text": [
      "loss = 555.8739624023438\n",
      "loss = 531.7855834960938\n",
      "loss = 520.6388549804688\n",
      "loss = 514.991943359375\n",
      "loss = 512.298583984375\n",
      "loss = 511.4376220703125\n",
      "loss = 511.6736755371094\n",
      "loss = 512.5502319335938\n",
      "loss = 513.7633056640625\n",
      "loss = 515.0668334960938\n",
      "loss = 516.3837890625\n",
      "loss = 517.6197509765625\n",
      "loss = 518.6918334960938\n",
      "loss = 519.589599609375\n",
      "loss = 520.2914428710938\n",
      "loss = 520.7738647460938\n",
      "loss = 521.036865234375\n",
      "loss = 521.1044311523438\n",
      "loss = 520.9827880859375\n",
      "loss = 520.7198486328125\n",
      "loss = 520.3363037109375\n",
      "loss = 519.8252563476562\n",
      "loss = 519.2021484375\n",
      "loss = 518.48876953125\n",
      "loss = 517.704833984375\n",
      "loss = 516.869384765625\n",
      "loss = 515.986083984375\n",
      "loss = 515.0643310546875\n",
      "loss = 514.1414794921875\n",
      "loss = 513.2467651367188\n",
      "loss = 512.3675537109375\n",
      "loss = 511.4700927734375\n",
      "loss = 510.5550842285156\n",
      "loss = 509.6373291015625\n",
      "loss = 508.71240234375\n",
      "loss = 507.7746887207031\n",
      "loss = 506.8238830566406\n",
      "loss = 505.8692626953125\n",
      "loss = 504.9159851074219\n",
      "loss = 503.96893310546875\n",
      "loss = 503.0345764160156\n",
      "loss = 502.11309814453125\n",
      "loss = 501.2060852050781\n",
      "loss = 500.31591796875\n",
      "loss = 499.4455871582031\n",
      "loss = 498.60235595703125\n",
      "loss = 497.7822570800781\n",
      "loss = 496.9970397949219\n",
      "loss = 496.2363586425781\n",
      "loss = 495.497802734375\n",
      "loss = 494.802734375\n",
      "loss = 494.1298522949219\n",
      "loss = 493.4796142578125\n",
      "loss = 492.85205078125\n",
      "loss = 492.248046875\n",
      "loss = 491.6654052734375\n",
      "loss = 491.11175537109375\n",
      "loss = 490.5822448730469\n",
      "loss = 490.07421875\n",
      "loss = 489.5877380371094\n",
      "loss = 489.1268310546875\n",
      "loss = 488.6883544921875\n",
      "loss = 488.26837158203125\n",
      "loss = 487.876220703125\n",
      "loss = 487.5036926269531\n",
      "loss = 487.1495666503906\n",
      "loss = 486.8094482421875\n",
      "loss = 486.4767761230469\n",
      "loss = 486.1563720703125\n",
      "loss = 485.847412109375\n",
      "loss = 485.5467834472656\n",
      "loss = 485.2539367675781\n",
      "loss = 484.9693298339844\n",
      "loss = 484.6900329589844\n",
      "loss = 484.4172668457031\n",
      "loss = 484.15423583984375\n",
      "loss = 483.8976135253906\n",
      "loss = 483.64794921875\n",
      "loss = 483.4036560058594\n",
      "loss = 483.1669921875\n",
      "loss = 482.92205810546875\n",
      "loss = 482.67926025390625\n",
      "loss = 482.4358215332031\n",
      "loss = 482.1932678222656\n",
      "loss = 481.95477294921875\n",
      "loss = 481.7191467285156\n",
      "loss = 481.48583984375\n",
      "loss = 481.2664794921875\n",
      "loss = 481.0543212890625\n",
      "loss = 480.84393310546875\n",
      "loss = 480.6366882324219\n",
      "loss = 480.4374694824219\n",
      "loss = 480.2404479980469\n",
      "loss = 480.0449523925781\n",
      "loss = 479.8575744628906\n",
      "loss = 479.68206787109375\n",
      "loss = 479.50921630859375\n",
      "loss = 479.3403625488281\n",
      "loss = 479.17486572265625\n",
      "loss = 479.0125427246094\n"
     ]
    },
    {
     "data": {
      "image/png": "[encoded data removed]",
      "text/plain": [
       "<Figure size 432x288 with 1 Axes>"
      ]
     },
     "metadata": {
      "needs_background": "light"
     },
     "output_type": "display_data"
    }
   ],
   "source": [
    "for i in range(100):\n",
    "    y = model(x)\n",
    "    loss = loss_fn(y,yt)\n",
    "    loss.backward()\n",
    "\n",
    "    optimizer.step()\n",
    "    optimizer.zero_grad()\n",
    "\n",
    "    losses+=[loss.item()]\n",
    "    print( f\"loss = {loss}\")\n",
    "    \n",
    "plt.plot(losses);"
   ]
  },
  {
   "cell_type": "markdown",
   "metadata": {},
   "source": [
    "## MNIST Example\n",
    "\n",
    "First, you'll want to install the `torchvision` package - this is a package for PyTorch that provides a variety of computer vision functionality.\n",
    "\n",
    "The [MNIST data set](http://yann.lecun.com/exdb/mnist/) consists of a collection of handwritten digits (0-9).  Our goal is to train a neural net which will classify the image of each digit as the correct digit\n",
    "\n",
    "```\n",
    "conda install torchvision -c pytorch\n",
    "```"
   ]
  },
  {
   "cell_type": "code",
   "execution_count": 229,
   "metadata": {},
   "outputs": [],
   "source": [
    "import torchvision"
   ]
  },
  {
   "cell_type": "code",
   "execution_count": 145,
   "metadata": {},
   "outputs": [],
   "source": [
    "from torchvision.datasets import MNIST"
   ]
  },
  {
   "cell_type": "code",
   "execution_count": 146,
   "metadata": {},
   "outputs": [
    {
     "name": "stderr",
     "output_type": "stream",
     "text": [
      "6.6%"
     ]
    },
    {
     "name": "stdout",
     "output_type": "stream",
     "text": [
      "Downloading http://yann.lecun.com/exdb/mnist/train-images-idx3-ubyte.gz to ./MNIST/raw/train-images-idx3-ubyte.gz\n"
     ]
    },
    {
     "name": "stderr",
     "output_type": "stream",
     "text": [
      "100.1%"
     ]
    },
    {
     "name": "stdout",
     "output_type": "stream",
     "text": [
      "Extracting ./MNIST/raw/train-images-idx3-ubyte.gz to ./MNIST/raw\n"
     ]
    },
    {
     "name": "stderr",
     "output_type": "stream",
     "text": [
      "68.6%%"
     ]
    },
    {
     "name": "stdout",
     "output_type": "stream",
     "text": [
      "Downloading http://yann.lecun.com/exdb/mnist/train-labels-idx1-ubyte.gz to ./MNIST/raw/train-labels-idx1-ubyte.gz\n",
      "Extracting ./MNIST/raw/train-labels-idx1-ubyte.gz to ./MNIST/raw\n",
      "Downloading http://yann.lecun.com/exdb/mnist/t10k-images-idx3-ubyte.gz to ./MNIST/raw/t10k-images-idx3-ubyte.gz\n"
     ]
    },
    {
     "name": "stderr",
     "output_type": "stream",
     "text": [
      "180.4%"
     ]
    },
    {
     "name": "stdout",
     "output_type": "stream",
     "text": [
      "Extracting ./MNIST/raw/t10k-images-idx3-ubyte.gz to ./MNIST/raw\n",
      "Downloading http://yann.lecun.com/exdb/mnist/t10k-labels-idx1-ubyte.gz to ./MNIST/raw/t10k-labels-idx1-ubyte.gz\n",
      "Extracting ./MNIST/raw/t10k-labels-idx1-ubyte.gz to ./MNIST/raw\n",
      "Processing...\n",
      "Done!\n"
     ]
    }
   ],
   "source": [
    "data = MNIST(\".\",download=True)"
   ]
  },
  {
   "cell_type": "code",
   "execution_count": 147,
   "metadata": {},
   "outputs": [
    {
     "data": {
      "text/plain": [
       "60000"
      ]
     },
     "execution_count": 147,
     "metadata": {},
     "output_type": "execute_result"
    }
   ],
   "source": [
    "len(data)"
   ]
  },
  {
   "cell_type": "code",
   "execution_count": 168,
   "metadata": {},
   "outputs": [
    {
     "name": "stdout",
     "output_type": "stream",
     "text": [
      "4\n"
     ]
    },
    {
     "data": {
      "image/png": "[encoded data removed]",
      "text/plain": [
       "<PIL.Image.Image image mode=L size=28x28 at 0x11D344460>"
      ]
     },
     "execution_count": 168,
     "metadata": {},
     "output_type": "execute_result"
    }
   ],
   "source": [
    "import numpy as np\n",
    "img,y = data[2]\n",
    "print(y)\n",
    "img"
   ]
  },
  {
   "cell_type": "code",
   "execution_count": 169,
   "metadata": {},
   "outputs": [
    {
     "data": {
      "text/plain": [
       "torch.Size([28, 28])"
      ]
     },
     "execution_count": 169,
     "metadata": {},
     "output_type": "execute_result"
    }
   ],
   "source": [
    "data.train_data[2].shape"
   ]
  },
  {
   "cell_type": "code",
   "execution_count": 170,
   "metadata": {},
   "outputs": [
    {
     "data": {
      "text/plain": [
       "tensor(4)"
      ]
     },
     "execution_count": 170,
     "metadata": {},
     "output_type": "execute_result"
    }
   ],
   "source": [
    "data.train_labels[2]"
   ]
  },
  {
   "cell_type": "markdown",
   "metadata": {},
   "source": [
    "### MNIST Training"
   ]
  },
  {
   "cell_type": "code",
   "execution_count": 178,
   "metadata": {},
   "outputs": [],
   "source": [
    "model = torch.nn.Sequential(\n",
    "    torch.nn.Linear(784, 100),\n",
    "    torch.nn.ReLU(),\n",
    "    torch.nn.Linear(100, 100),\n",
    "    torch.nn.ReLU(),\n",
    "    torch.nn.Linear(100, 10),\n",
    ")"
   ]
  },
  {
   "cell_type": "code",
   "execution_count": 176,
   "metadata": {},
   "outputs": [],
   "source": [
    "loss_fn = torch.nn.CrossEntropyLoss()"
   ]
  },
  {
   "cell_type": "code",
   "execution_count": 179,
   "metadata": {},
   "outputs": [],
   "source": [
    "sample = np.random.choice(range(len(data.train_data)),1000)\n",
    "x = data.train_data[sample].reshape(1000,-1).float()/255\n",
    "yt = data.train_labels[sample]"
   ]
  },
  {
   "cell_type": "code",
   "execution_count": 180,
   "metadata": {},
   "outputs": [
    {
     "data": {
      "text/plain": [
       "(torch.Size([1000, 784]), torch.Size([1000]))"
      ]
     },
     "execution_count": 180,
     "metadata": {},
     "output_type": "execute_result"
    }
   ],
   "source": [
    "x.shape,yt.shape"
   ]
  },
  {
   "cell_type": "code",
   "execution_count": 181,
   "metadata": {},
   "outputs": [],
   "source": [
    "optimizer = torch.optim.Adam(model.parameters(), lr=0.03)\n",
    "losses = []"
   ]
  },
  {
   "cell_type": "code",
   "execution_count": 182,
   "metadata": {},
   "outputs": [
    {
     "data": {
      "image/png": "[encoded data removed]",
      "text/plain": [
       "<Figure size 432x288 with 1 Axes>"
      ]
     },
     "metadata": {
      "needs_background": "light"
     },
     "output_type": "display_data"
    }
   ],
   "source": [
    "for i in range(100):\n",
    "    \n",
    "    sample = np.random.choice(range(len(data.train_data)),1000)\n",
    "    x = data.train_data[sample].reshape(1000,-1).float()/255\n",
    "    yt = data.train_labels[sample]\n",
    "    \n",
    "    y = model(x)\n",
    "    loss = loss_fn(y,yt)\n",
    "    loss.backward()\n",
    "\n",
    "    optimizer.step()\n",
    "    optimizer.zero_grad()\n",
    "\n",
    "    losses+=[loss.item()]\n",
    "    #print( f\"loss = {loss}\")\n",
    "plt.plot(losses);"
   ]
  },
  {
   "cell_type": "code",
   "execution_count": 183,
   "metadata": {},
   "outputs": [],
   "source": [
    "x_test = data.train_data[-1000:].reshape(1000,-1).float()/255\n",
    "y_test = data.train_labels[-1000:]"
   ]
  },
  {
   "cell_type": "code",
   "execution_count": 184,
   "metadata": {},
   "outputs": [],
   "source": [
    "with torch.no_grad():\n",
    "    y_pred = model(x_test)"
   ]
  },
  {
   "cell_type": "code",
   "execution_count": 185,
   "metadata": {},
   "outputs": [
    {
     "name": "stdout",
     "output_type": "stream",
     "text": [
      "Accuracy =  0.98\n"
     ]
    }
   ],
   "source": [
    "print(\"Accuracy = \", (y_pred.argmax(dim=1) == y_test).sum().float().item()/1000.0)"
   ]
  },
  {
   "cell_type": "markdown",
   "metadata": {},
   "source": [
    "### Credits\n",
    "\n",
    "This notebook was adapted from a notebook from [CME 193 at Stanford](https://github.com/icme/cme193)"
   ]
  },
  {
   "cell_type": "code",
   "execution_count": null,
   "metadata": {},
   "outputs": [],
   "source": []
  }
 ],
 "metadata": {
  "kernelspec": {
   "display_name": "Python (pycourse)",
   "language": "python",
   "name": "pycourse"
  },
  "language_info": {
   "codemirror_mode": {
    "name": "ipython",
    "version": 3
   },
   "file_extension": ".py",
   "mimetype": "text/x-python",
   "name": "python",
   "nbconvert_exporter": "python",
   "pygments_lexer": "ipython3",
   "version": "3.8.11"
  }
 },
 "nbformat": 4,
 "nbformat_minor": 4
}
