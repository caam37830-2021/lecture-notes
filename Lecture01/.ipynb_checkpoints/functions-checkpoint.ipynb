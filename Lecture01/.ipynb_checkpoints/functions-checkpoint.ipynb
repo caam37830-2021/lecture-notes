{
 "cells": [
  {
   "cell_type": "markdown",
   "metadata": {},
   "source": [
    "# Functions"
   ]
  },
  {
   "cell_type": "markdown",
   "metadata": {},
   "source": [
    "A function takes some number of inputs, and returns some number of outputs.  Recall the keywords `def`, and `return`"
   ]
  },
  {
   "cell_type": "code",
   "execution_count": 1,
   "metadata": {},
   "outputs": [
    {
     "name": "stdout",
     "output_type": "stream",
     "text": [
      "0.27611226177776715\n",
      "3\n",
      "(5, 6)\n"
     ]
    }
   ],
   "source": [
    "import numpy as np\n",
    "\n",
    "# function with no inputs\n",
    "def random_float():\n",
    "    return np.random.rand()\n",
    "\n",
    "print(random_float())\n",
    "\n",
    "# function with 1 input\n",
    "def plus1(x):\n",
    "    return x + 1\n",
    "\n",
    "print(plus1(2))\n",
    "\n",
    "# function with 2 outputs\n",
    "def plus_times(a, b):\n",
    "    return a + b, a * b\n",
    "\n",
    "print(plus_times(2,3))"
   ]
  },
  {
   "cell_type": "markdown",
   "metadata": {},
   "source": [
    "You can look up a function call signature and documentation with `help()`"
   ]
  },
  {
   "cell_type": "code",
   "execution_count": null,
   "metadata": {},
   "outputs": [],
   "source": [
    "help(plus_times)"
   ]
  },
  {
   "cell_type": "markdown",
   "metadata": {},
   "source": [
    "You can also use `?` in ipython"
   ]
  },
  {
   "cell_type": "code",
   "execution_count": null,
   "metadata": {},
   "outputs": [],
   "source": [
    "?plus_times"
   ]
  },
  {
   "cell_type": "markdown",
   "metadata": {},
   "source": [
    "If we want to provide a docstring, we can do so in the function declaration"
   ]
  },
  {
   "cell_type": "code",
   "execution_count": null,
   "metadata": {},
   "outputs": [],
   "source": [
    "# function with 2 outputs\n",
    "def plus_times(a, b):\n",
    "    \"\"\"\n",
    "    returns a + b, a * b\n",
    "    \"\"\"\n",
    "    return a + b, a * b"
   ]
  },
  {
   "cell_type": "code",
   "execution_count": null,
   "metadata": {},
   "outputs": [],
   "source": [
    "?plus_times"
   ]
  },
  {
   "cell_type": "markdown",
   "metadata": {},
   "source": [
    "## Keyword Arguments\n",
    "\n",
    "You can provide keyword arguments by setting a default value"
   ]
  },
  {
   "cell_type": "code",
   "execution_count": null,
   "metadata": {},
   "outputs": [],
   "source": [
    "def kw_example(a, b=5):\n",
    "    \"\"\"\n",
    "    returns a + b\n",
    "    \"\"\"\n",
    "    return a + b\n",
    "\n",
    "print(kw_example(3))\n",
    "\n",
    "print(kw_example(3, b=4))"
   ]
  },
  {
   "cell_type": "code",
   "execution_count": null,
   "metadata": {},
   "outputs": [],
   "source": [
    "?kw_example"
   ]
  },
  {
   "cell_type": "markdown",
   "metadata": {},
   "source": [
    "keyword arguments must come **after** regular arguments"
   ]
  },
  {
   "cell_type": "code",
   "execution_count": null,
   "metadata": {
    "tags": [
     "raises-exception"
    ]
   },
   "outputs": [],
   "source": [
    "def kw_example(b=5, a):\n",
    "    return a + b"
   ]
  },
  {
   "cell_type": "markdown",
   "metadata": {},
   "source": [
    "## Unpacking\n",
    "\n",
    "In Python, it is common to see function calls of the form"
   ]
  },
  {
   "cell_type": "code",
   "execution_count": 10,
   "metadata": {},
   "outputs": [],
   "source": [
    "def myfun(*args, **kwargs):\n",
    "    \"\"\"\n",
    "    Function that prints arguments and keyword arguments\n",
    "    \"\"\"\n",
    "    print(args)\n",
    "    print(kwargs)\n",
    "    return"
   ]
  },
  {
   "cell_type": "markdown",
   "metadata": {},
   "source": [
    "`args` is a tuple containing the arguments\n",
    "\n",
    "`kwargs` is a dict containing keyword arguments"
   ]
  },
  {
   "cell_type": "code",
   "execution_count": 11,
   "metadata": {},
   "outputs": [
    {
     "name": "stdout",
     "output_type": "stream",
     "text": [
      "(1, 2)\n",
      "{'c': 3, 'dog': 'cat'}\n"
     ]
    }
   ],
   "source": [
    "myfun(1,2, c=3, dog='cat')"
   ]
  },
  {
   "cell_type": "markdown",
   "metadata": {},
   "source": [
    "You can also unpack containers in other contexts"
   ]
  },
  {
   "cell_type": "code",
   "execution_count": 12,
   "metadata": {},
   "outputs": [
    {
     "name": "stdout",
     "output_type": "stream",
     "text": [
      "unpacked list:\n",
      "(1, 2, 3)\n",
      "{}\n",
      "list:\n",
      "([1, 2, 3],)\n",
      "{}\n"
     ]
    }
   ],
   "source": [
    "a = [1,2,3]\n",
    "print(\"unpacked list:\")\n",
    "myfun(*a)\n",
    "print(\"list:\")\n",
    "myfun(a)"
   ]
  },
  {
   "cell_type": "markdown",
   "metadata": {},
   "source": [
    "This is very useful for passing along arguments to other functions without having to even know what the possibilities are."
   ]
  },
  {
   "cell_type": "code",
   "execution_count": 15,
   "metadata": {},
   "outputs": [
    {
     "data": {
      "image/png": "[encoded data removed]",
      "text/plain": [
       "<Figure size 432x288 with 1 Axes>"
      ]
     },
     "metadata": {
      "needs_background": "light"
     },
     "output_type": "display_data"
    }
   ],
   "source": [
    "import matplotlib.pyplot as plt\n",
    "\n",
    "def plot_f(f, x, **kwargs):\n",
    "    \"\"\"\n",
    "    plots f(x)\n",
    "    \n",
    "    passes keyword arguments to plt.plot()\n",
    "    \"\"\"\n",
    "    y = f(x)\n",
    "    return plt.plot(x, y, **kwargs)\n",
    "\n",
    "def f(x):\n",
    "    return x**2\n",
    "\n",
    "x = np.linspace(-1,1,100)\n",
    "\n",
    "plot_f(f, x, color='g')\n",
    "plt.show()"
   ]
  },
  {
   "cell_type": "markdown",
   "metadata": {},
   "source": [
    "A good way to extract keyword arguments from `kwargs` is to use the `get` method for Python dictionaries"
   ]
  },
  {
   "cell_type": "code",
   "execution_count": 16,
   "metadata": {},
   "outputs": [],
   "source": [
    "dict.get?"
   ]
  },
  {
   "cell_type": "code",
   "execution_count": 17,
   "metadata": {},
   "outputs": [
    {
     "name": "stdout",
     "output_type": "stream",
     "text": [
      "hello\n",
      "goodbye\n"
     ]
    },
    {
     "data": {
      "text/plain": [
       "'goodbye'"
      ]
     },
     "execution_count": 17,
     "metadata": {},
     "output_type": "execute_result"
    }
   ],
   "source": [
    "def myfun(*args, **kwargs):\n",
    "    \"\"\"\n",
    "    extract the \"message\" keyword\n",
    "    \"\"\"\n",
    "    m = kwargs.get(\"message\", \"hello\")\n",
    "    print(m)\n",
    "    return m\n",
    "\n",
    "myfun()\n",
    "\n",
    "myfun(message=\"goodbye\")"
   ]
  },
  {
   "cell_type": "markdown",
   "metadata": {},
   "source": [
    "## Helper Functions\n",
    "\n",
    "You can define helper functions inside the definition of a function"
   ]
  },
  {
   "cell_type": "code",
   "execution_count": 18,
   "metadata": {},
   "outputs": [
    {
     "name": "stdout",
     "output_type": "stream",
     "text": [
      "+0\n",
      "-1\n",
      "+2\n",
      "-3\n",
      "+4\n"
     ]
    }
   ],
   "source": [
    "def alternate(x):\n",
    "    \"\"\"\n",
    "    returns -x if x is odd, x if x is even\n",
    "    \"\"\"\n",
    "    def is_odd(x):\n",
    "        \"\"\"\n",
    "        returns true if x is odd\n",
    "        \"\"\"\n",
    "        return x % 2 == 1 # % is mod operator\n",
    "    \n",
    "    # we now return to the function alternate\n",
    "    if is_odd(x):\n",
    "        return -x\n",
    "    else:\n",
    "        return x\n",
    "    \n",
    "for i in range(5):\n",
    "    print(\"{:+d}\".format(alternate(i)))\n",
    "    "
   ]
  },
  {
   "cell_type": "markdown",
   "metadata": {},
   "source": [
    "## Lambda Functions\n",
    "\n",
    "A Lambda Function is an [anonymous function](https://en.wikipedia.org/wiki/Anonymous_function), meaning you don't give it a name e.g. by declaring it in a `def` block."
   ]
  },
  {
   "cell_type": "code",
   "execution_count": 19,
   "metadata": {},
   "outputs": [
    {
     "data": {
      "text/plain": [
       "4"
      ]
     },
     "execution_count": 19,
     "metadata": {},
     "output_type": "execute_result"
    }
   ],
   "source": [
    "f = lambda x : x*x\n",
    "f(2)"
   ]
  },
  {
   "cell_type": "markdown",
   "metadata": {},
   "source": [
    "lambda functions (and the [lambda calculus](https://en.wikipedia.org/wiki/Lambda_calculus)) play an important role in the theory of computing.  They can be found in a many languages other than Python.\n",
    "\n",
    "The semantics of a lambda function are very similar to a function declared using `def`:\n",
    "\n",
    "`lambda *args : outputs`"
   ]
  },
  {
   "cell_type": "code",
   "execution_count": 20,
   "metadata": {},
   "outputs": [
    {
     "data": {
      "text/plain": [
       "(5, 6)"
      ]
     },
     "execution_count": 20,
     "metadata": {},
     "output_type": "execute_result"
    }
   ],
   "source": [
    "# here's the plus_times function we defined earlier\n",
    "(lambda x, y : (x + y, x * y))(3,2)"
   ]
  },
  {
   "cell_type": "code",
   "execution_count": 21,
   "metadata": {},
   "outputs": [
    {
     "data": {
      "image/png": "[encoded data removed]",
      "text/plain": [
       "<Figure size 432x288 with 1 Axes>"
      ]
     },
     "metadata": {
      "needs_background": "light"
     },
     "output_type": "display_data"
    }
   ],
   "source": [
    "# using a lambda function in our plotting function\n",
    "plot_f(lambda x: x**3, np.linspace(-1,1,100))\n",
    "plt.show()"
   ]
  },
  {
   "cell_type": "markdown",
   "metadata": {},
   "source": [
    "## Exercises\n",
    "\n",
    "1. Define a lambda function that acts as the identity on input arguments"
   ]
  },
  {
   "cell_type": "code",
   "execution_count": null,
   "metadata": {},
   "outputs": [],
   "source": [
    "## your code here\n"
   ]
  },
  {
   "cell_type": "code",
   "execution_count": null,
   "metadata": {
    "tags": [
     "hide-cell"
    ]
   },
   "outputs": [],
   "source": [
    "I = lambda *args : args"
   ]
  },
  {
   "cell_type": "markdown",
   "metadata": {},
   "source": [
    "2. Define a function that plots a 2-dimensionsional function using `plt.imshow`.  Pass along keyword arguments to the `imshow` function"
   ]
  },
  {
   "cell_type": "code",
   "execution_count": null,
   "metadata": {},
   "outputs": [],
   "source": [
    "# your code here\n"
   ]
  },
  {
   "cell_type": "markdown",
   "metadata": {},
   "source": [
    "3. Define a function that computes the sum of its arguments"
   ]
  },
  {
   "cell_type": "code",
   "execution_count": null,
   "metadata": {},
   "outputs": [],
   "source": [
    "# your code here\n"
   ]
  },
  {
   "cell_type": "code",
   "execution_count": null,
   "metadata": {
    "tags": [
     "hide-cell"
    ]
   },
   "outputs": [],
   "source": [
    "def sumfun(*args):\n",
    "    return sum(args)\n",
    "\n",
    "sumfun(1,2,3)"
   ]
  },
  {
   "cell_type": "code",
   "execution_count": null,
   "metadata": {},
   "outputs": [],
   "source": []
  }
 ],
 "metadata": {
  "kernelspec": {
   "display_name": "Python (pycourse)",
   "language": "python",
   "name": "pycourse"
  },
  "language_info": {
   "codemirror_mode": {
    "name": "ipython",
    "version": 3
   },
   "file_extension": ".py",
   "mimetype": "text/x-python",
   "name": "python",
   "nbconvert_exporter": "python",
   "pygments_lexer": "ipython3",
   "version": "3.8.11"
  }
 },
 "nbformat": 4,
 "nbformat_minor": 4
}
