{
 "cells": [
  {
   "cell_type": "markdown",
   "metadata": {},
   "source": [
    "# Decorators"
   ]
  },
  {
   "cell_type": "markdown",
   "metadata": {},
   "source": [
    "Today, we'll briefly cover [decorators](https://www.geeksforgeeks.org/decorators-in-python/), which are functions that wrap functions, and come with [syntactic sugar](https://en.wikipedia.org/wiki/Syntactic_sugar) which lets you write things like\n",
    "\n",
    "```python\n",
    "@time_wrapper\n",
    "def my_function(x):\n",
    "    ...\n",
    "    \n",
    "y = my_function(x)\n",
    "```\n",
    "```\n",
    "> 1.1 seconds elapsed.\n",
    "```"
   ]
  },
  {
   "cell_type": "markdown",
   "metadata": {},
   "source": [
    "Again, we want to write a function that wraps another function.  We can define this as"
   ]
  },
  {
   "cell_type": "code",
   "execution_count": 2,
   "metadata": {},
   "outputs": [],
   "source": [
    "from time import time\n",
    "\n",
    "def time_wrapper(f):\n",
    "    \n",
    "    def inner_wrapper(*args, **kwargs):\n",
    "        t0 = time()\n",
    "        ret = f(*args, **kwargs)\n",
    "        t1 = time()\n",
    "        print(\"{} sec. elapsed\".format(t1 - t0))\n",
    "        return ret\n",
    "    \n",
    "    return inner_wrapper"
   ]
  },
  {
   "cell_type": "markdown",
   "metadata": {},
   "source": [
    "Here's how we might use our wrapper:"
   ]
  },
  {
   "cell_type": "code",
   "execution_count": 3,
   "metadata": {},
   "outputs": [
    {
     "name": "stdout",
     "output_type": "stream",
     "text": [
      "0.0021889209747314453 sec. elapsed\n"
     ]
    },
    {
     "data": {
      "text/plain": [
       "array([0.24671109, 0.39224309, 0.82490506, ..., 0.34970352, 0.12396696,\n",
       "       0.40322369])"
      ]
     },
     "execution_count": 3,
     "metadata": {},
     "output_type": "execute_result"
    }
   ],
   "source": [
    "def generate_random(n):\n",
    "    \"\"\"\n",
    "    return a random numpy vector\n",
    "    \"\"\"\n",
    "    return np.random.rand(n)\n",
    "\n",
    "generate_random = time_wrapper(generate_random)\n",
    "\n",
    "generate_random(100000)"
   ]
  },
  {
   "cell_type": "markdown",
   "metadata": {},
   "source": [
    "one problem with this is that we had to go through the trouble of wrapping the function. Instead, we can just write"
   ]
  },
  {
   "cell_type": "code",
   "execution_count": 4,
   "metadata": {},
   "outputs": [
    {
     "name": "stdout",
     "output_type": "stream",
     "text": [
      "0.0018007755279541016 sec. elapsed\n"
     ]
    },
    {
     "data": {
      "text/plain": [
       "array([0.87521796, 0.47016823, 0.62784667, ..., 0.13415162, 0.56107656,\n",
       "       0.38131295])"
      ]
     },
     "execution_count": 4,
     "metadata": {},
     "output_type": "execute_result"
    }
   ],
   "source": [
    "@time_wrapper\n",
    "def generate_random2(n):\n",
    "    \"\"\"\n",
    "    return a random numpy vector\n",
    "    \"\"\"\n",
    "    return np.random.rand(n)\n",
    "\n",
    "generate_random2(100000)"
   ]
  },
  {
   "cell_type": "markdown",
   "metadata": {},
   "source": [
    "This is interpreted like what we did above, but is a bit easier to read.\n",
    "\n",
    "Another problem we may encounter is that we now can't access the docstring we wrote"
   ]
  },
  {
   "cell_type": "code",
   "execution_count": 5,
   "metadata": {},
   "outputs": [
    {
     "name": "stdout",
     "output_type": "stream",
     "text": [
      "Help on function inner_wrapper in module __main__:\n",
      "\n",
      "inner_wrapper(*args, **kwargs)\n",
      "\n"
     ]
    }
   ],
   "source": [
    "help(generate_random2)"
   ]
  },
  {
   "cell_type": "markdown",
   "metadata": {},
   "source": [
    "One way to solve this is to use the `wraps` decorator from the [functools](https://docs.python.org/3/library/functools.html) package."
   ]
  },
  {
   "cell_type": "code",
   "execution_count": 6,
   "metadata": {},
   "outputs": [
    {
     "name": "stdout",
     "output_type": "stream",
     "text": [
      "0.0010859966278076172 sec. elapsed\n"
     ]
    },
    {
     "data": {
      "text/plain": [
       "array([0.99595756, 0.02890335, 0.88528414, ..., 0.36966219, 0.17925142,\n",
       "       0.77181316])"
      ]
     },
     "execution_count": 6,
     "metadata": {},
     "output_type": "execute_result"
    }
   ],
   "source": [
    "from functools import wraps\n",
    "\n",
    "def time_wrapper2(f):\n",
    "    \n",
    "    @wraps(f)\n",
    "    def inner_wrapper(*args, **kwargs):\n",
    "        t0 = time()\n",
    "        ret = f(*args, **kwargs)\n",
    "        t1 = time()\n",
    "        print(\"{} sec. elapsed\".format(t1 - t0))\n",
    "        return ret\n",
    "    \n",
    "    return inner_wrapper\n",
    "\n",
    "@time_wrapper2\n",
    "def generate_random3(n):\n",
    "    \"\"\"\n",
    "    return a random numpy vector\n",
    "    \"\"\"\n",
    "    return np.random.rand(n)\n",
    "\n",
    "generate_random3(100000)"
   ]
  },
  {
   "cell_type": "markdown",
   "metadata": {},
   "source": [
    "now, we can access the metadata from `generate_random3`, such as the docstring"
   ]
  },
  {
   "cell_type": "code",
   "execution_count": 7,
   "metadata": {},
   "outputs": [
    {
     "name": "stdout",
     "output_type": "stream",
     "text": [
      "Help on function generate_random3 in module __main__:\n",
      "\n",
      "generate_random3(n)\n",
      "    return a random numpy vector\n",
      "\n"
     ]
    }
   ],
   "source": [
    "help(generate_random3)"
   ]
  },
  {
   "cell_type": "markdown",
   "metadata": {},
   "source": [
    "As you might guess, the `@wraps` decorator copies the class metadata from `f` to the `inner_wrapper` function."
   ]
  },
  {
   "cell_type": "code",
   "execution_count": null,
   "metadata": {},
   "outputs": [],
   "source": []
  }
 ],
 "metadata": {
  "kernelspec": {
   "display_name": "Python (pycourse)",
   "language": "python",
   "name": "pycourse"
  },
  "language_info": {
   "codemirror_mode": {
    "name": "ipython",
    "version": 3
   },
   "file_extension": ".py",
   "mimetype": "text/x-python",
   "name": "python",
   "nbconvert_exporter": "python",
   "pygments_lexer": "ipython3",
   "version": "3.8.11"
  }
 },
 "nbformat": 4,
 "nbformat_minor": 4
}
