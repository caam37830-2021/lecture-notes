{
 "cells": [
  {
   "cell_type": "markdown",
   "metadata": {},
   "source": [
    "# Convolutions and Fourier Transforms\n",
    "\n",
    "A [convolution](https://en.wikipedia.org/wiki/Convolution) is a linear operator of the form\n",
    "\\begin{equation}\n",
    "(f \\ast g)(t) = \\int f(\\tau) g(t - \\tau ) d\\tau\n",
    "\\end{equation}\n",
    "In a discrete space, this turns into a sum\n",
    "\\begin{equation}\n",
    "\\sum_\\tau f(\\tau) g(t - \\tau)\n",
    "\\end{equation}\n",
    "\n",
    "Convolutions are *shift invariant*, or *time invariant*.  They frequently appear in temporal and spatial image processing, as well as in probability.\n",
    "\n",
    "If we want to represent the discrete convolution operator as a matrix, we get a *toeplitz matrix* $G$\n",
    "\\begin{equation}\n",
    "G = \\begin{bmatrix}\n",
    "g(0) & g(1) & g(2) & \\dots\\\\\n",
    "g(-1) & g(0) & g(1) &\\dots\\\\\n",
    "g(-2) & g(-1) & g(0) & \\dots\\\\\n",
    "\\vdots & & &\\ddots\n",
    "\\end{bmatrix}\n",
    "\\end{equation}\n",
    "\n",
    "A circulant matrix acting on a discrete signal of length $N$ is a toeplitz matrix where $g(-i) = g(N-i)$."
   ]
  },
  {
   "cell_type": "code",
   "execution_count": 1,
   "metadata": {},
   "outputs": [],
   "source": [
    "import numpy as np\n",
    "import scipy as sp\n",
    "import scipy.linalg as la\n",
    "import matplotlib.pyplot as plt"
   ]
  },
  {
   "cell_type": "code",
   "execution_count": 2,
   "metadata": {},
   "outputs": [
    {
     "data": {
      "text/plain": [
       "array([[ 0,  1,  2,  3],\n",
       "       [-1,  0,  1,  2],\n",
       "       [-2, -1,  0,  1],\n",
       "       [-3, -2, -1,  0]])"
      ]
     },
     "execution_count": 2,
     "metadata": {},
     "output_type": "execute_result"
    }
   ],
   "source": [
    "c = np.arange(0,-4, -1) # first column\n",
    "r = np.arange(4) # first row\n",
    "la.toeplitz(c, r)"
   ]
  },
  {
   "cell_type": "code",
   "execution_count": 3,
   "metadata": {},
   "outputs": [
    {
     "data": {
      "text/plain": [
       "array([[0, 3, 2, 1],\n",
       "       [1, 0, 3, 2],\n",
       "       [2, 1, 0, 3],\n",
       "       [3, 2, 1, 0]])"
      ]
     },
     "execution_count": 3,
     "metadata": {},
     "output_type": "execute_result"
    }
   ],
   "source": [
    "c = np.arange(4)\n",
    "la.circulant(c)"
   ]
  },
  {
   "cell_type": "markdown",
   "metadata": {},
   "source": [
    "both toeplitz and circulant matrices have special `solve` function in `scipy.linalg`"
   ]
  },
  {
   "cell_type": "code",
   "execution_count": 4,
   "metadata": {},
   "outputs": [
    {
     "name": "stdout",
     "output_type": "stream",
     "text": [
      "standard solve\n",
      "CPU times: user 2.19 ms, sys: 392 µs, total: 2.58 ms\n",
      "Wall time: 2.35 ms\n",
      "\n",
      "toeplitz solve\n",
      "CPU times: user 172 µs, sys: 219 µs, total: 391 µs\n",
      "Wall time: 961 µs\n",
      "2.8129944173099464e-10\n"
     ]
    }
   ],
   "source": [
    "N = 100\n",
    "c = np.random.randn(N)\n",
    "r = np.random.randn(N)\n",
    "A = la.toeplitz(c, r)\n",
    "\n",
    "x = np.random.rand(N)\n",
    "\n",
    "print(\"standard solve\")\n",
    "%time y1 = la.solve(A, x)\n",
    "\n",
    "print(\"\\ntoeplitz solve\")\n",
    "%time y2 = la.solve_toeplitz((c,r), x)\n",
    "\n",
    "print(la.norm(y1- y2))"
   ]
  },
  {
   "cell_type": "code",
   "execution_count": 5,
   "metadata": {},
   "outputs": [
    {
     "name": "stdout",
     "output_type": "stream",
     "text": [
      "standard solve\n",
      "CPU times: user 765 µs, sys: 535 µs, total: 1.3 ms\n",
      "Wall time: 765 µs\n",
      "\n",
      "circulant solve\n",
      "CPU times: user 457 µs, sys: 130 µs, total: 587 µs\n",
      "Wall time: 502 µs\n",
      "7.512298939617311e-15\n"
     ]
    }
   ],
   "source": [
    "N = 100\n",
    "c = np.random.randn(N)\n",
    "A = la.circulant(c)\n",
    "\n",
    "x = np.random.randn(N)\n",
    "\n",
    "print(\"standard solve\")\n",
    "%time y1 = la.solve(A, x)\n",
    "\n",
    "print(\"\\ncirculant solve\")\n",
    "%time y2 = la.solve_circulant(c, x)\n",
    "\n",
    "print(la.norm(y1- y2))"
   ]
  },
  {
   "cell_type": "markdown",
   "metadata": {},
   "source": [
    "### Example\n",
    "\n",
    "One place where convolutions appear is in combining probability distributions.  For instance, if we take a sample $x \\sim y + z$ where $y \\sim f$ and $z \\sim g$ and $f, g$ are probability density functions, then the probability density function that describes the random variable $x$ is $f\\ast g$."
   ]
  },
  {
   "cell_type": "markdown",
   "metadata": {},
   "source": [
    "## Fourier Transforms\n",
    "\n",
    "A [Fourier transform](https://en.wikipedia.org/wiki/Fourier_transform) takes functions back and forth between time and frequency domains.\n",
    "\\begin{equation}\n",
    "\\hat{f}(\\omega) = \\int_{-\\infty}^\\infty f(x) e^{-2\\pi i x \\omega} dx\n",
    "\\end{equation}\n",
    "\n",
    "A discrete Fourier transform (DFT) operates on a signal represented as a finite dimensional vector.  On a signal of length $N$, we have\n",
    "\n",
    "\\begin{equation}\n",
    "\\hat{f}_k = \\sum_{n=0}^{N-1} f_n e^{2\\pi i k n / N}\n",
    "\\end{equation}\n",
    "\n",
    "In practice, discrete Fourier transforms are often computed using the Fast Fourier Transform (FFT) algorithm, which runs in $O(N\\log N)$ time for a signal of length $N$.  Scipy provides funcitons for FFT as well as the inverse iFFT.\n"
   ]
  },
  {
   "cell_type": "code",
   "execution_count": 6,
   "metadata": {},
   "outputs": [
    {
     "data": {
      "image/png": "[encoded data removed]",
      "text/plain": [
       "<Figure size 432x288 with 1 Axes>"
      ]
     },
     "metadata": {
      "needs_background": "light"
     },
     "output_type": "display_data"
    }
   ],
   "source": [
    "from scipy.fft import fft, ifft\n",
    "\n",
    "x = np.linspace(0, 2*np.pi, 100)\n",
    "f = np.sin(4*x) + np.sin(8*x)\n",
    "plt.plot(x, f)\n",
    "plt.show()"
   ]
  },
  {
   "cell_type": "markdown",
   "metadata": {},
   "source": [
    "the function in frequency space typically has real and imaginary components."
   ]
  },
  {
   "cell_type": "code",
   "execution_count": 7,
   "metadata": {},
   "outputs": [
    {
     "data": {
      "image/png": "[encoded data removed]",
      "text/plain": [
       "<Figure size 864x288 with 3 Axes>"
      ]
     },
     "metadata": {
      "needs_background": "light"
     },
     "output_type": "display_data"
    }
   ],
   "source": [
    "fhat = fft(f)\n",
    "fig, ax = plt.subplots(1,3, figsize=(12,4))\n",
    "ax[0].plot(np.abs(fhat))\n",
    "ax[0].set_title(\"abs\")\n",
    "\n",
    "ax[1].plot(np.real(fhat))\n",
    "ax[1].set_title(\"real\")\n",
    "\n",
    "ax[2].plot(np.imag(fhat))\n",
    "ax[2].set_title(\"complex\")\n",
    "plt.show()"
   ]
  },
  {
   "cell_type": "markdown",
   "metadata": {},
   "source": [
    "real-valued signals should have anti-symmetric complex components and symmetric real components."
   ]
  },
  {
   "cell_type": "code",
   "execution_count": 8,
   "metadata": {},
   "outputs": [
    {
     "data": {
      "image/png": "[encoded data removed]",
      "text/plain": [
       "<Figure size 432x288 with 1 Axes>"
      ]
     },
     "metadata": {
      "needs_background": "light"
     },
     "output_type": "display_data"
    }
   ],
   "source": [
    "f2 = ifft(fhat)\n",
    "plt.plot(np.real(f2))\n",
    "plt.show()"
   ]
  },
  {
   "cell_type": "markdown",
   "metadata": {},
   "source": [
    "Fourier transforms can reveal a variety of useful information and have many useful properties.  One of which is that convolutions in the time/spatial domain become pointwise multiplication in the frequency domain.\n",
    "\n",
    "\\begin{equation}\n",
    "h = f \\ast g \\Leftrightarrow \\hat{h} = \\hat{f} \\hat{g}\n",
    "\\end{equation}\n",
    "\n",
    "This means that circulant matrices and their inverses can be applied in $O(N \\log N)$ time using the FFT."
   ]
  },
  {
   "cell_type": "code",
   "execution_count": 9,
   "metadata": {},
   "outputs": [],
   "source": [
    "def apply_circulant(c, x):\n",
    "    \"\"\"\n",
    "    apply circulant matrix with first row c to a vector x\n",
    "    \n",
    "    y = C x\n",
    "    \"\"\"\n",
    "    c_hat = fft(c)\n",
    "    x_hat = fft(x)\n",
    "    y_hat = c_hat * x_hat\n",
    "    return ifft(y_hat)"
   ]
  },
  {
   "cell_type": "code",
   "execution_count": 36,
   "metadata": {},
   "outputs": [
    {
     "name": "stdout",
     "output_type": "stream",
     "text": [
      "CPU times: user 37 µs, sys: 36 µs, total: 73 µs\n",
      "Wall time: 76.1 µs\n",
      "CPU times: user 103 µs, sys: 145 µs, total: 248 µs\n",
      "Wall time: 223 µs\n"
     ]
    },
    {
     "data": {
      "text/plain": [
       "2.913466608195783e-14"
      ]
     },
     "execution_count": 36,
     "metadata": {},
     "output_type": "execute_result"
    }
   ],
   "source": [
    "N = 100\n",
    "c = np.random.randn(N)\n",
    "A = la.circulant(c)\n",
    "\n",
    "x = np.random.randn(N)\n",
    "\n",
    "%time y1 = A @ x\n",
    "%time y2 = apply_circulant(c, x)\n",
    "\n",
    "la.norm(y1 - y2)"
   ]
  },
  {
   "cell_type": "code",
   "execution_count": 38,
   "metadata": {},
   "outputs": [],
   "source": [
    "def apply_circulant_inv(c, x):\n",
    "    \"\"\"\n",
    "    apply inverse of circulant matrix with first row c to a vector x\n",
    "    \n",
    "    y = C^{-1} x\n",
    "    \"\"\"\n",
    "    c_hat = fft(c)\n",
    "    x_hat = fft(x)\n",
    "    y_hat = x_hat / c_hat\n",
    "    return ifft(y_hat)"
   ]
  },
  {
   "cell_type": "code",
   "execution_count": 40,
   "metadata": {},
   "outputs": [
    {
     "name": "stdout",
     "output_type": "stream",
     "text": [
      "CPU times: user 393 µs, sys: 175 µs, total: 568 µs\n",
      "Wall time: 428 µs\n",
      "CPU times: user 501 µs, sys: 488 µs, total: 989 µs\n",
      "Wall time: 598 µs\n"
     ]
    },
    {
     "data": {
      "text/plain": [
       "2.4455289326681906e-15"
      ]
     },
     "execution_count": 40,
     "metadata": {},
     "output_type": "execute_result"
    }
   ],
   "source": [
    "N = 100\n",
    "c = np.random.randn(N)\n",
    "A = la.circulant(c)\n",
    "\n",
    "x = np.random.randn(N)\n",
    "b = A @ x\n",
    "\n",
    "%time y1 = la.solve_circulant(c, x)\n",
    "%time y2 = apply_circulant_inv(c, x)\n",
    "\n",
    "la.norm(y1 - y2)"
   ]
  },
  {
   "cell_type": "markdown",
   "metadata": {},
   "source": [
    "### Exercise 1\n",
    "\n",
    "Create a plot that demonstrates the asymptotic scaling of the FFT is $O(N \\log N)$"
   ]
  },
  {
   "cell_type": "code",
   "execution_count": 13,
   "metadata": {},
   "outputs": [],
   "source": [
    "## Your code here"
   ]
  },
  {
   "cell_type": "markdown",
   "metadata": {},
   "source": [
    "### Exercise 2\n",
    "\n",
    "Let $C$ be a circulant matrix.\n",
    "\n",
    "Given that the inverse of a circulant matrix can also be applied using a Fourier transform, is $C^{-1}$ also a circulant matrix?\n",
    "\n",
    "Write a function to compute the inverse of $C$.\n",
    "\n"
   ]
  },
  {
   "cell_type": "code",
   "execution_count": 41,
   "metadata": {},
   "outputs": [],
   "source": [
    "## Your code here"
   ]
  },
  {
   "cell_type": "markdown",
   "metadata": {},
   "source": [
    "### Exercise 3\n",
    "We can solve the PDE $\\frac{\\partial f(x,t)}{\\partial t} = \\frac{\\sigma^2}{2}\\frac{\\partial^2 f(x,t)}{\\partial x^2}, f(x,0) = f_0(x)$ for denoising purpose. The solution in (Fourier transform) at time $t$ is $\\hat f(k,t) = \\exp(-\\frac{k^2\\sigma^2 t}{2})\\hat f_0(k)$. This kills high frequencies signal in $\\hat f_0(k)$."
   ]
  },
  {
   "cell_type": "code",
   "execution_count": 101,
   "metadata": {},
   "outputs": [
    {
     "name": "stderr",
     "output_type": "stream",
     "text": [
      "/opt/anaconda3/envs/pycourse/lib/python3.8/site-packages/numpy/core/_asarray.py:102: ComplexWarning: Casting complex values to real discards the imaginary part\n",
      "  return array(a, dtype, copy=False, order=order)\n"
     ]
    },
    {
     "data": {
      "text/plain": [
       "[<matplotlib.lines.Line2D at 0x12719abe0>]"
      ]
     },
     "execution_count": 101,
     "metadata": {},
     "output_type": "execute_result"
    },
    {
     "data": {
      "image/png": "[encoded data removed]",
      "text/plain": [
       "<Figure size 432x288 with 1 Axes>"
      ]
     },
     "metadata": {
      "needs_background": "light"
     },
     "output_type": "display_data"
    }
   ],
   "source": [
    "x = np.linspace(0, 2*np.pi, 100)\n",
    "f = np.sin(2*x) \n",
    "fnoise = f + 0.3*np.random.randn(f.size)\n",
    "chat   = np.exp(-10*(np.arange(f.size//2)/(f.size/2))**2)\n",
    "chat   = np.hstack((chat, np.flip(chat)))\n",
    "plt.plot(fnoise)\n",
    "plt.plot(ifft(fft(fnoise) * chat))"
   ]
  },
  {
   "cell_type": "markdown",
   "metadata": {},
   "source": [
    "## Higher Dimensions\n",
    "\n",
    "In 2 dimensions, you can use scipy's [`fft2` and `ifft2`](https://docs.scipy.org/doc/scipy/reference/tutorial/fft.html#and-n-d-discrete-fourier-transforms) for 2-dimensional signals such as images.  For an $m \\times n$ image, the time complexity is $O(mn \\log(mn))$\n",
    "\n",
    "For general image processing, you may find it useful to install `scikit-image`\n",
    "\n",
    "```\n",
    "(pycourse) conda install scikit-image\n",
    "```\n"
   ]
  },
  {
   "cell_type": "markdown",
   "metadata": {},
   "source": [
    "### Sparse Convolutions\n",
    "\n",
    "In image processing, you may often encounter sparse convolutions, particularly convolutions that are very localized (e.g. only the first few entries of the firs row `c` are nonzero).  One example is that many camera lenses cause a slight blur which mixes light from nearby sources.  In deep learning, these sparse convolutions have been very effective in image processing tasks. Perhaps the simplest explanation of why learning parameters for a convolution is a good idea in this situation is that convolutions are *translation invariant* allowing the neural net to learn regardless of where a target appears on an image.\n",
    "\n",
    "In this case, we typically think of convolutions as $k\\times k$ patches which slide over a 2-dimensional image.  \n",
    "\n",
    "The time complexity of applying this convolution using standard for-loops to a $m\\times n$ image is $O(k^2 mn)$, which is typically faster than using a Fourier transform.  GPUs are also very good at this sort of operation."
   ]
  },
  {
   "cell_type": "code",
   "execution_count": 15,
   "metadata": {},
   "outputs": [
    {
     "ename": "ModuleNotFoundError",
     "evalue": "No module named 'skimage'",
     "output_type": "error",
     "traceback": [
      "\u001b[0;31m---------------------------------------------------------------------------\u001b[0m",
      "\u001b[0;31mModuleNotFoundError\u001b[0m                       Traceback (most recent call last)",
      "\u001b[0;32m/var/folders/6w/3k9kdsgn2mz6rkmvhbzm3snm0000gn/T/ipykernel_6959/1521622411.py\u001b[0m in \u001b[0;36m<module>\u001b[0;34m\u001b[0m\n\u001b[0;32m----> 1\u001b[0;31m \u001b[0;32mimport\u001b[0m \u001b[0mskimage\u001b[0m\u001b[0;34m\u001b[0m\u001b[0;34m\u001b[0m\u001b[0m\n\u001b[0m\u001b[1;32m      2\u001b[0m \u001b[0;34m\u001b[0m\u001b[0m\n\u001b[1;32m      3\u001b[0m \u001b[0mimg\u001b[0m \u001b[0;34m=\u001b[0m \u001b[0mskimage\u001b[0m\u001b[0;34m.\u001b[0m\u001b[0mdata\u001b[0m\u001b[0;34m.\u001b[0m\u001b[0mcamera\u001b[0m\u001b[0;34m(\u001b[0m\u001b[0;34m)\u001b[0m\u001b[0;34m\u001b[0m\u001b[0;34m\u001b[0m\u001b[0m\n\u001b[1;32m      4\u001b[0m \u001b[0mplt\u001b[0m\u001b[0;34m.\u001b[0m\u001b[0mimshow\u001b[0m\u001b[0;34m(\u001b[0m\u001b[0mimg\u001b[0m\u001b[0;34m,\u001b[0m \u001b[0mcmap\u001b[0m\u001b[0;34m=\u001b[0m\u001b[0mplt\u001b[0m\u001b[0;34m.\u001b[0m\u001b[0mcm\u001b[0m\u001b[0;34m.\u001b[0m\u001b[0mgray\u001b[0m\u001b[0;34m)\u001b[0m\u001b[0;34m\u001b[0m\u001b[0;34m\u001b[0m\u001b[0m\n\u001b[1;32m      5\u001b[0m \u001b[0mplt\u001b[0m\u001b[0;34m.\u001b[0m\u001b[0mshow\u001b[0m\u001b[0;34m(\u001b[0m\u001b[0;34m)\u001b[0m\u001b[0;34m\u001b[0m\u001b[0;34m\u001b[0m\u001b[0m\n",
      "\u001b[0;31mModuleNotFoundError\u001b[0m: No module named 'skimage'"
     ]
    }
   ],
   "source": [
    "import skimage\n",
    "\n",
    "img = skimage.data.camera()\n",
    "plt.imshow(img, cmap=plt.cm.gray)\n",
    "plt.show()"
   ]
  },
  {
   "cell_type": "code",
   "execution_count": null,
   "metadata": {},
   "outputs": [],
   "source": [
    "from numba import njit\n",
    "\n",
    "@njit\n",
    "def apply_convolution_2d(img, c):\n",
    "    m, n = img.shape\n",
    "    k1, k2 = c.shape\n",
    "    img2 = np.zeros((m-k1, n-k2))\n",
    "    for i in range(m-k1):\n",
    "        for j in range(n-k2):\n",
    "            for i1 in range(k1):\n",
    "                for j1 in range(k2):\n",
    "                    img2[i,j] = img2[i,j] + img[i+i1, j+j1] * c[i1, j1]\n",
    "    return img2"
   ]
  },
  {
   "cell_type": "code",
   "execution_count": null,
   "metadata": {},
   "outputs": [],
   "source": [
    "c = np.ones((10,10)) / 100 # local averageing operator\n",
    "%time img2 = apply_convolution_2d(img, c)\n",
    "\n",
    "plt.imshow(img2, cmap=plt.cm.gray)\n",
    "plt.show()"
   ]
  },
  {
   "cell_type": "markdown",
   "metadata": {},
   "source": [
    "If you're using this sort of convolution in PyTorch, you can use [`torch.nn.Conv2d`](https://pytorch.org/docs/stable/generated/torch.nn.Conv2d.html) or `torch.conv2d`"
   ]
  },
  {
   "cell_type": "code",
   "execution_count": null,
   "metadata": {},
   "outputs": [],
   "source": [
    "import torch\n",
    "\n",
    "conv = torch.nn.Conv2d(1, 1, (3,3)) # 3 x 3 convolution"
   ]
  },
  {
   "cell_type": "code",
   "execution_count": null,
   "metadata": {},
   "outputs": [],
   "source": [
    "c = torch.Tensor(np.ones((1,1,10,10)) / 100)\n",
    "imgt = torch.Tensor(img).reshape(1,1,*img.shape) # add batch and channel dimension"
   ]
  },
  {
   "cell_type": "code",
   "execution_count": null,
   "metadata": {},
   "outputs": [],
   "source": [
    "%time imgt2 = torch.conv2d(imgt, c)"
   ]
  },
  {
   "cell_type": "code",
   "execution_count": null,
   "metadata": {},
   "outputs": [],
   "source": [
    "img2 = imgt2.numpy()\n",
    "img2 = img2[0,0,:,:]\n",
    "\n",
    "plt.imshow(img2, cmap=plt.cm.gray)\n",
    "plt.show()"
   ]
  },
  {
   "cell_type": "markdown",
   "metadata": {},
   "source": [
    "## Discrete Cosine Transform (DCT)\n",
    "\n",
    "One of the potential annoyances with Fourier transforms is that even with real-valued signals they produce complex output.  If you want to stick to real output with a similar interpretation, you can use the Discrete Cosine Transform (DCT) or Discrete Sine Transform (DST).  Both are implemented in Scipy.\n",
    "\n",
    "[Scipy DCT](https://docs.scipy.org/doc/scipy/reference/tutorial/fft.html#discrete-cosine-transforms)"
   ]
  },
  {
   "cell_type": "code",
   "execution_count": null,
   "metadata": {},
   "outputs": [],
   "source": [
    "from scipy.fft import dct, idct\n",
    "\n",
    "x = np.linspace(0, 2*np.pi, 100)\n",
    "f = np.sin(4*x) + np.sin(8*x)\n",
    "\n",
    "fig, ax = plt.subplots(1, 2, figsize=(10, 5))\n",
    "ax[0].plot(x, f)\n",
    "ax[0].set_title(\"signal\")\n",
    "\n",
    "fhat = dct(f)\n",
    "ax[1].plot(fhat)\n",
    "ax[1].set_title(\"dct\")\n",
    "plt.show()"
   ]
  },
  {
   "cell_type": "code",
   "execution_count": null,
   "metadata": {},
   "outputs": [],
   "source": [
    "x = np.linspace(0, 2*np.pi, 100, endpoint=False)\n",
    "f = np.cos(4*x) + np.cos(8*x)\n",
    "\n",
    "fig, ax = plt.subplots(1, 2, figsize=(10, 5))\n",
    "ax[0].plot(x, f)\n",
    "ax[0].set_title(\"signal\")\n",
    "\n",
    "fhat = dct(f)\n",
    "ax[1].plot(fhat)\n",
    "ax[1].set_title(\"dct\")\n",
    "plt.show()"
   ]
  },
  {
   "cell_type": "markdown",
   "metadata": {},
   "source": [
    "The DCT can also be used for a simple method of image compression - you can simply remove the high frequency componenents of an image and retain most of the large structure while losing some detail."
   ]
  },
  {
   "cell_type": "code",
   "execution_count": null,
   "metadata": {},
   "outputs": [],
   "source": [
    "from scipy import ndimage\n",
    "from scipy.fft import dctn, idctn\n",
    "import skimage"
   ]
  },
  {
   "cell_type": "code",
   "execution_count": null,
   "metadata": {},
   "outputs": [],
   "source": [
    "img = skimage.data.camera()\n",
    "plt.imshow(img, cmap=plt.cm.gray)\n",
    "plt.show()"
   ]
  },
  {
   "cell_type": "code",
   "execution_count": null,
   "metadata": {},
   "outputs": [],
   "source": [
    "ihat = dctn(img)\n",
    "plt.imshow(np.log(np.abs(ihat)))\n",
    "plt.show()"
   ]
  },
  {
   "cell_type": "markdown",
   "metadata": {},
   "source": [
    "Now, we'll cut out the highest-frequency DCT coefficients."
   ]
  },
  {
   "cell_type": "code",
   "execution_count": null,
   "metadata": {},
   "outputs": [],
   "source": [
    "m, n = ihat.shape\n",
    "ihat2 = ihat[:m//2, :n//2]\n",
    "img2 = idctn(ihat2)\n",
    "plt.imshow(img2, cmap=plt.cm.gray)\n",
    "plt.show()"
   ]
  },
  {
   "cell_type": "markdown",
   "metadata": {},
   "source": [
    "alternatively, we can make the image the original size by just setting the high-frequency DCT coefficients to 0. "
   ]
  },
  {
   "cell_type": "code",
   "execution_count": null,
   "metadata": {},
   "outputs": [],
   "source": [
    "ihat2 = np.zeros_like(ihat)\n",
    "ihat2[:m//2, :n//2] = ihat[:m//2, :n//2]\n",
    "img2 = idctn(ihat2)\n",
    "plt.imshow(img2, cmap=plt.cm.gray)\n",
    "plt.show()"
   ]
  },
  {
   "cell_type": "markdown",
   "metadata": {},
   "source": [
    "Now, let's really compress the image..."
   ]
  },
  {
   "cell_type": "code",
   "execution_count": null,
   "metadata": {},
   "outputs": [],
   "source": [
    "ihat2 = np.zeros_like(ihat)\n",
    "ihat2[:m//10, :n//10] = ihat[:m//10, :n//10]\n",
    "img2 = idctn(ihat2)\n",
    "plt.imshow(img2, cmap=plt.cm.gray)\n",
    "plt.show()"
   ]
  },
  {
   "cell_type": "code",
   "execution_count": null,
   "metadata": {},
   "outputs": [],
   "source": []
  }
 ],
 "metadata": {
  "kernelspec": {
   "display_name": "Python (pycourse)",
   "language": "python",
   "name": "pycourse"
  },
  "language_info": {
   "codemirror_mode": {
    "name": "ipython",
    "version": 3
   },
   "file_extension": ".py",
   "mimetype": "text/x-python",
   "name": "python",
   "nbconvert_exporter": "python",
   "pygments_lexer": "ipython3",
   "version": "3.8.11"
  }
 },
 "nbformat": 4,
 "nbformat_minor": 4
}
