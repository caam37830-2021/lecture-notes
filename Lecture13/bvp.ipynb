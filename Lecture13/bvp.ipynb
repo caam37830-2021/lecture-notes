{
 "cells": [
  {
   "cell_type": "markdown",
   "metadata": {},
   "source": [
    "# Boundary Value Problems\n",
    "\n",
    "In [initial value problems](ode_initial.ipynb), we find a unique solution to an ODE by specifying initial conditions.  Another way to obtain a unique solution to an ODE (or PDE) is to specify boundary values.\n"
   ]
  },
  {
   "cell_type": "markdown",
   "metadata": {},
   "source": [
    "## The Heat Equation\n",
    "\n",
    "The [Heat Equation](https://en.wikipedia.org/wiki/Heat_equation) is a second-order PDE obeying\n",
    "\n",
    "\\begin{equation}\n",
    "\\Delta u(x, t) = \\partial_t u(x, t)\n",
    "\\end{equation}\n",
    "where $\\Delta$ is the Laplacian operator\n",
    "\\begin{equation}\n",
    "\\Delta = \\sum_i \\partial_i^2\n",
    "\\end{equation}\n",
    "\n",
    "This equation is in a steady state if $\\partial_t u = 0$ (i.e. the solution is not changing with time).  \n",
    "\n",
    "We'll consider the steady state of the heat equation on a 1-dimensional domain $[0,1]$, where we have the ends of the domain set to fixed temperatures.  In this case, we can write the solution as a boundary value problem for a second-order ODE:\n",
    "\\begin{equation}\n",
    "\\frac{d^2 u}{dx^2} = 0 \\qquad u\\in (0,1)\\\\\n",
    "u(0) = a\\\\\n",
    "u(1) = b\n",
    "\\end{equation}\n",
    "\n",
    "You might think of this as describing the temperature of a metal bar which is placed between two objects of differing temperatures."
   ]
  },
  {
   "cell_type": "code",
   "execution_count": 1,
   "metadata": {},
   "outputs": [],
   "source": [
    "import numpy as np\n",
    "import scipy.linalg as la\n",
    "import matplotlib.pyplot as plt\n",
    "from scipy.integrate import solve_bvp"
   ]
  },
  {
   "cell_type": "markdown",
   "metadata": {},
   "source": [
    "we'll introduce the variable $p = du / dx$ to obtain a system of first-order ODEs:\n",
    "\\begin{equation}\n",
    "\\frac{du}{dx} = p \\\\\n",
    "\\frac{dp}{dx} = 0\n",
    "\\end{equation}\n",
    "\n",
    "with the same boundary conditions.  The variable `y = [u, p]` will be a 2-vector containing the state.\n",
    "\n",
    "We'll use boundary conditions $y(0)[0] = u(0) = 5 = a$ and $y(1)[0] = u(1) = 1 = b$\n",
    "\n",
    "Finally, we use [`solve_bvp`](https://docs.scipy.org/doc/scipy/reference/generated/scipy.integrate.solve_bvp.html) from `scipy.integrate` to solve the boundary value problem:"
   ]
  },
  {
   "cell_type": "code",
   "execution_count": 5,
   "metadata": {},
   "outputs": [],
   "source": [
    "a = 5\n",
    "b = 1\n",
    "\n",
    "def f(x, y):\n",
    "    \"right hand side of ODE\"\n",
    "    return np.vstack([y[1,:], np.zeros(y.shape[1])])\n",
    "    \n",
    "def bc(ya, yb):\n",
    "    \"boundary condition residual\"\n",
    "    return np.array([ya[0] - a, yb[0] - b])\n",
    "\n",
    "n = 100 # number of points\n",
    "x = np.linspace(0,1,n)\n",
    "y0 = np.zeros((2,n))\n",
    "\n",
    "# solve bvp\n",
    "sol = solve_bvp(f, bc, x, y0)"
   ]
  },
  {
   "cell_type": "markdown",
   "metadata": {},
   "source": [
    "we can plot the solution value"
   ]
  },
  {
   "cell_type": "code",
   "execution_count": 3,
   "metadata": {},
   "outputs": [
    {
     "data": {
      "image/png": "[encoded data removed]",
      "text/plain": [
       "<Figure size 432x288 with 1 Axes>"
      ]
     },
     "metadata": {
      "needs_background": "light"
     },
     "output_type": "display_data"
    }
   ],
   "source": [
    "plt.plot(sol.x, sol.y[0,:])\n",
    "plt.xlabel('x')\n",
    "plt.ylabel('y')\n",
    "plt.show()"
   ]
  },
  {
   "cell_type": "markdown",
   "metadata": {},
   "source": [
    "we see the solution is a linear function from (0,5) to (1,1).  You can check that such a linear function solves the BVP mathematically."
   ]
  },
  {
   "cell_type": "markdown",
   "metadata": {},
   "source": [
    "We also provide a non-zero right hand side: $\\partial_t u(x,t) = f(x)$."
   ]
  },
  {
   "cell_type": "code",
   "execution_count": 4,
   "metadata": {},
   "outputs": [
    {
     "name": "stderr",
     "output_type": "stream",
     "text": [
      "/opt/anaconda3/envs/pycourse/lib/python3.8/site-packages/scipy/integrate/_bvp.py:1092: RuntimeWarning: invalid value encountered in true_divide\n",
      "  r_middle = 1.5 * col_res / h\n",
      "/opt/anaconda3/envs/pycourse/lib/python3.8/site-packages/scipy/integrate/_bvp.py:591: RuntimeWarning: invalid value encountered in true_divide\n",
      "  slope = (y[:, 1:] - y[:, :-1]) / h\n"
     ]
    },
    {
     "data": {
      "image/png": "[encoded data removed]",
      "text/plain": [
       "<Figure size 432x288 with 1 Axes>"
      ]
     },
     "metadata": {
      "needs_background": "light"
     },
     "output_type": "display_data"
    }
   ],
   "source": [
    "def f(x, y):\n",
    "    \"right hand side of ODE\"\n",
    "    src = -1*np.logical_and(x < 0.6, x > 0.4)\n",
    "    return np.vstack([y[1,:], src])\n",
    "\n",
    "def bc(ya, yb):\n",
    "    \"boundary condition residual\"\n",
    "    return np.array([ya[0], yb[0]])\n",
    "\n",
    "n = 100 # number of points\n",
    "x = np.linspace(0,1,n)\n",
    "y0 = np.zeros((2,n))\n",
    "\n",
    "# solve bvp\n",
    "sol = solve_bvp(f, bc, x, y0)\n",
    "\n",
    "plt.plot(sol.x, sol.y[0,:])\n",
    "plt.xlabel('x')\n",
    "plt.ylabel('y')\n",
    "plt.show()"
   ]
  },
  {
   "cell_type": "markdown",
   "metadata": {},
   "source": [
    "## The Wave Equation\n",
    "\n",
    "The [Wave Equation](https://en.wikipedia.org/wiki/Wave_equation) is another second order PDE obeying\n",
    "\\begin{equation}\n",
    "\\Delta u(x, t) = \\partial_t^2 u(x, t)\n",
    "\\end{equation}\n",
    "\n",
    "One way to solve the Wave equaiton is to use separation of variables.  This gives solutions of the form\n",
    "\\begin{equation}\n",
    "u(x,t) = v(x) e^{i\\omega t}\n",
    "\\end{equation}\n",
    "\n",
    "Where $v(x)$ satisfies the [Helmholtz equation](https://en.wikipedia.org/wiki/Helmholtz_equation)\n",
    "\\begin{equation}\n",
    "\\Delta v(x) = -\\omega^2 v(x)\n",
    "\\end{equation}\n",
    "\n",
    "In other words, $v(x)$ is an eigenvector of the Laplacian operator with eigenvalue $-\\omega^2$.  The time dependent portion of the solution $e^{i\\omega t}$ is simply a sinusoidal oscillation.\n",
    "\n",
    "In a bounded domain, there is a discrete set of eigenvalues for the Laplacian.  We'll use the the construction $\\Delta = -\\partial^T \\partial$"
   ]
  },
  {
   "cell_type": "code",
   "execution_count": 6,
   "metadata": {},
   "outputs": [],
   "source": [
    "import scipy.sparse as sparse\n",
    "\n",
    "# create matrix A to apply forward difference scheme\n",
    "def forward_diff_matrix(n):\n",
    "    data = []\n",
    "    i = []\n",
    "    j = []\n",
    "    for k in range(n - 1):\n",
    "        i.append(k)\n",
    "        j.append(k)\n",
    "        data.append(-1)\n",
    "\n",
    "        i.append(k)\n",
    "        j.append(k+1)\n",
    "        data.append(1)\n",
    "        \n",
    "    # incidence matrix of the 1-d mesh\n",
    "    return sparse.coo_matrix((data, (i,j)), shape=(n-1, n)).tocsr()\n",
    "\n",
    "def Laplacian(n):\n",
    "    \"\"\"\n",
    "    Create Laplacian on 1-dimensional grid with n nodes\n",
    "    \"\"\"\n",
    "    B = forward_diff_matrix(n)\n",
    "    return -B.T @ B"
   ]
  },
  {
   "cell_type": "markdown",
   "metadata": {},
   "source": [
    "One has to be cautious with using $\\Delta = -\\partial^T \\partial$. This comes from integration by part, for any two twice differentiable functions $f,g: \\Omega\\rightarrow \\mathbb{R}$: $$\\langle f, \\Delta g \\rangle := \\int_\\Omega f(x) \\Delta g(x) dx = \\int_\\Omega \\partial \\left(f(x) \\partial g(x)\\right) dx - \\int_\\Omega\\partial f(x)  \\partial g(x) dx = f(x) \\partial g(x)\\vert_{\\partial \\Omega}- \\langle \\partial f, \\partial g \\rangle = 0 - \\langle \\partial f, \\partial g \\rangle$$\n",
    "The last equality only holds under certain boundary conditions (if $f,g$ belongs to the class of $\\{u\\ \\vert \\ u(a) = 0, u(b) = 0\\}$ when $\\Omega = [a,b]$). We can also use such approximation when $\\Omega = [a,b]$, and $u(a) = u_0, u(b) = u_1$."
   ]
  },
  {
   "cell_type": "code",
   "execution_count": 7,
   "metadata": {},
   "outputs": [
    {
     "data": {
      "text/plain": [
       "matrix([[-1,  1,  0,  0],\n",
       "        [ 1, -2,  1,  0],\n",
       "        [ 0,  1, -2,  1],\n",
       "        [ 0,  0,  1, -2]])"
      ]
     },
     "execution_count": 7,
     "metadata": {},
     "output_type": "execute_result"
    }
   ],
   "source": [
    "n = 100\n",
    "\n",
    "x = np.linspace(0,1,n)\n",
    "L = Laplacian(n)\n",
    "\n",
    "L[:4,:4].todense()"
   ]
  },
  {
   "cell_type": "markdown",
   "metadata": {},
   "source": [
    "We can use the [Gershgorin disk theorem](https://en.wikipedia.org/wiki/Gershgorin_circle_theorem) to bound the eigenvalues in the range $[-4,0]$, or plot them experimentally:"
   ]
  },
  {
   "cell_type": "code",
   "execution_count": 9,
   "metadata": {},
   "outputs": [
    {
     "data": {
      "image/png": "[encoded data removed]",
      "text/plain": [
       "<Figure size 432x288 with 1 Axes>"
      ]
     },
     "metadata": {
      "needs_background": "light"
     },
     "output_type": "display_data"
    }
   ],
   "source": [
    "lam, V = la.eigh(L.todense())\n",
    "plt.plot(lam)\n",
    "plt.show()"
   ]
  },
  {
   "cell_type": "markdown",
   "metadata": {},
   "source": [
    "Let's plot the eigenvectors with the 4 smallest-magnitude eigenvalues:"
   ]
  },
  {
   "cell_type": "code",
   "execution_count": 11,
   "metadata": {
    "scrolled": true
   },
   "outputs": [
    {
     "data": {
      "image/png": "[encoded data removed]",
      "text/plain": [
       "<Figure size 432x288 with 1 Axes>"
      ]
     },
     "metadata": {
      "needs_background": "light"
     },
     "output_type": "display_data"
    }
   ],
   "source": [
    "for i in range(1,5):\n",
    "    plt.plot(x, V[:,-i], label=r\"$v_{}$\".format(i))\n",
    "    \n",
    "plt.legend()\n",
    "plt.show()"
   ]
  },
  {
   "cell_type": "markdown",
   "metadata": {},
   "source": [
    "the eigenvectors are of the form $v(x) = \\cos(k \\pi x)$ for $k= 0,1,2,\\dots$"
   ]
  },
  {
   "cell_type": "markdown",
   "metadata": {},
   "source": [
    "Now, let's say we want to solve the boundary value problem\n",
    "\\begin{equation}\n",
    "\\Delta v = -\\omega^2 v\\\\\n",
    "v[0] = a\\qquad v[-1] = b\n",
    "\\end{equation}\n",
    "\n",
    "Again, we can use `solve_bvp`"
   ]
  },
  {
   "cell_type": "code",
   "execution_count": 12,
   "metadata": {},
   "outputs": [],
   "source": [
    "a = 5\n",
    "b = 1\n",
    "omega = 0.1\n",
    "\n",
    "def f(x, y):\n",
    "    \"right hand side of ODE\"\n",
    "    return np.vstack([y[1,:], -omega**2 * y[0,:]])\n",
    "    \n",
    "def bc(ya, yb):\n",
    "    \"boundary condition residual\"\n",
    "    return np.array([ya[0] - a, yb[0] - b])\n",
    "\n",
    "n = 100 # number of points\n",
    "x = np.linspace(0,n,n)\n",
    "y0 = np.zeros((2,n))\n",
    "\n",
    "# solve bvp\n",
    "sol = solve_bvp(f, bc, x, y0)"
   ]
  },
  {
   "cell_type": "code",
   "execution_count": 10,
   "metadata": {},
   "outputs": [
    {
     "data": {
      "image/png": "[encoded data removed]",
      "text/plain": [
       "<Figure size 432x288 with 1 Axes>"
      ]
     },
     "metadata": {
      "needs_background": "light"
     },
     "output_type": "display_data"
    }
   ],
   "source": [
    "plt.plot(sol.x, sol.y[0,:])\n",
    "plt.xlabel('x')\n",
    "plt.ylabel('y')\n",
    "plt.show()"
   ]
  },
  {
   "cell_type": "markdown",
   "metadata": {},
   "source": [
    "## Boundary Value Problems in SymPy\n",
    "\n",
    "SymPy offers functionality that can be used to solve BVPs in its [`sym.solvers.ode.dsolve`](https://docs.sympy.org/latest/modules/solvers/ode.html) function"
   ]
  },
  {
   "cell_type": "code",
   "execution_count": 11,
   "metadata": {},
   "outputs": [],
   "source": [
    "import sympy as sym\n",
    "from sympy.solvers import ode"
   ]
  },
  {
   "cell_type": "code",
   "execution_count": 12,
   "metadata": {},
   "outputs": [
    {
     "data": {
      "text/latex": [
       "$\\displaystyle \\frac{d^{2}}{d x^{2}} u{\\left(x \\right)}$"
      ],
      "text/plain": [
       "Derivative(u(x), (x, 2))"
      ]
     },
     "execution_count": 12,
     "metadata": {},
     "output_type": "execute_result"
    }
   ],
   "source": [
    "x = sym.symbols('x') # symbol\n",
    "u = sym.Function('u') # symbolic function\n",
    "eqn = u(x).diff(x).diff(x) # = 0\n",
    "eqn"
   ]
  },
  {
   "cell_type": "code",
   "execution_count": 13,
   "metadata": {},
   "outputs": [
    {
     "data": {
      "text/plain": [
       "('nth_algebraic',\n",
       " 'nth_linear_constant_coeff_homogeneous',\n",
       " 'nth_linear_euler_eq_homogeneous',\n",
       " 'Liouville',\n",
       " '2nd_power_series_ordinary',\n",
       " 'nth_algebraic_Integral',\n",
       " 'Liouville_Integral')"
      ]
     },
     "execution_count": 13,
     "metadata": {},
     "output_type": "execute_result"
    }
   ],
   "source": [
    "ode.classify_ode(eqn)"
   ]
  },
  {
   "cell_type": "code",
   "execution_count": 14,
   "metadata": {},
   "outputs": [
    {
     "data": {
      "text/latex": [
       "$\\displaystyle u{\\left(x \\right)} = C_{1} + C_{2} x$"
      ],
      "text/plain": [
       "Eq(u(x), C1 + C2*x)"
      ]
     },
     "execution_count": 14,
     "metadata": {},
     "output_type": "execute_result"
    }
   ],
   "source": [
    "ode.dsolve(eqn, hint='nth_linear_constant_coeff_homogeneous')"
   ]
  },
  {
   "cell_type": "markdown",
   "metadata": {},
   "source": [
    "in order to pass in boundary conditions, you can use the `ics` parameter"
   ]
  },
  {
   "cell_type": "code",
   "execution_count": 15,
   "metadata": {},
   "outputs": [
    {
     "data": {
      "text/latex": [
       "$\\displaystyle u{\\left(x \\right)} = 5 - 4 x$"
      ],
      "text/plain": [
       "Eq(u(x), 5 - 4*x)"
      ]
     },
     "execution_count": 15,
     "metadata": {},
     "output_type": "execute_result"
    }
   ],
   "source": [
    "f = ode.dsolve(eqn, hint='nth_linear_constant_coeff_homogeneous', ics={u(0): 5, u(1): 1})\n",
    "f"
   ]
  },
  {
   "cell_type": "code",
   "execution_count": 16,
   "metadata": {},
   "outputs": [
    {
     "data": {
      "image/png": "[encoded data removed]",
      "text/plain": [
       "<Figure size 432x288 with 1 Axes>"
      ]
     },
     "metadata": {
      "needs_background": "light"
     },
     "output_type": "display_data"
    },
    {
     "data": {
      "text/plain": [
       "<sympy.plotting.plot.Plot at 0x7fda6a5237c0>"
      ]
     },
     "execution_count": 16,
     "metadata": {},
     "output_type": "execute_result"
    }
   ],
   "source": [
    "sym.plot(f.rhs, (x, 0, 1))"
   ]
  },
  {
   "cell_type": "markdown",
   "metadata": {},
   "source": [
    "Let's try the Helmholtz equation now"
   ]
  },
  {
   "cell_type": "code",
   "execution_count": 17,
   "metadata": {},
   "outputs": [
    {
     "data": {
      "text/latex": [
       "$\\displaystyle \\omega^{2} u{\\left(x \\right)} + \\frac{d^{2}}{d x^{2}} u{\\left(x \\right)}$"
      ],
      "text/plain": [
       "\\omega**2*u(x) + Derivative(u(x), (x, 2))"
      ]
     },
     "execution_count": 17,
     "metadata": {},
     "output_type": "execute_result"
    }
   ],
   "source": [
    "omega = sym.Symbol('\\omega')\n",
    "eqn = u(x).diff(x).diff(x) + omega**2*u(x) # = 0\n",
    "eqn"
   ]
  },
  {
   "cell_type": "code",
   "execution_count": 18,
   "metadata": {},
   "outputs": [
    {
     "data": {
      "text/plain": [
       "('nth_linear_constant_coeff_homogeneous', '2nd_power_series_ordinary')"
      ]
     },
     "execution_count": 18,
     "metadata": {},
     "output_type": "execute_result"
    }
   ],
   "source": [
    "ode.classify_ode(eqn)"
   ]
  },
  {
   "cell_type": "code",
   "execution_count": 19,
   "metadata": {},
   "outputs": [
    {
     "data": {
      "text/latex": [
       "$\\displaystyle u{\\left(x \\right)} = C_{1} e^{- i \\omega x} + C_{2} e^{i \\omega x}$"
      ],
      "text/plain": [
       "Eq(u(x), C1*exp(-I*\\omega*x) + C2*exp(I*\\omega*x))"
      ]
     },
     "execution_count": 19,
     "metadata": {},
     "output_type": "execute_result"
    }
   ],
   "source": [
    "ode.dsolve(eqn, hint='nth_linear_constant_coeff_homogeneous')"
   ]
  },
  {
   "cell_type": "markdown",
   "metadata": {},
   "source": [
    "we see that the solution to the Helmholtz equation consists of sinusoidal waves.  Let's try putting in some boundary conditions"
   ]
  },
  {
   "cell_type": "code",
   "execution_count": 20,
   "metadata": {},
   "outputs": [
    {
     "data": {
      "text/latex": [
       "$\\displaystyle u{\\left(x \\right)} = \\frac{\\left(e^{i \\omega} - 5\\right) e^{i \\omega x}}{e^{2 i \\omega} - 1} - \\frac{i \\left(5 e^{i \\omega} - 1\\right) e^{- i \\omega x}}{2 \\sin{\\left(\\omega \\right)}}$"
      ],
      "text/plain": [
       "Eq(u(x), (exp(I*\\omega) - 5)*exp(I*\\omega*x)/(exp(2*I*\\omega) - 1) - I*(5*exp(I*\\omega) - 1)*exp(-I*\\omega*x)/(2*sin(\\omega)))"
      ]
     },
     "execution_count": 20,
     "metadata": {},
     "output_type": "execute_result"
    }
   ],
   "source": [
    "f = ode.dsolve(eqn, hint='nth_linear_constant_coeff_homogeneous', ics={u(0): 5, u(1): 1})\n",
    "f"
   ]
  },
  {
   "cell_type": "code",
   "execution_count": 21,
   "metadata": {},
   "outputs": [
    {
     "data": {
      "image/png": "[encoded data removed]",
      "text/plain": [
       "<Figure size 432x288 with 1 Axes>"
      ]
     },
     "metadata": {
      "needs_background": "light"
     },
     "output_type": "display_data"
    },
    {
     "data": {
      "text/plain": [
       "<sympy.plotting.plot.Plot at 0x7fda6a453130>"
      ]
     },
     "execution_count": 21,
     "metadata": {},
     "output_type": "execute_result"
    }
   ],
   "source": [
    "sym.plot(f.rhs.subs(omega, 10), (x, 0, 1))"
   ]
  },
  {
   "cell_type": "markdown",
   "metadata": {},
   "source": [
    "## Solving BVPs using Optimization\n",
    "\n",
    "You might also consider finding numerical solutions to BVPs using `scipy.optimize`.  Let's say we have a non-linear wave equation with boundary conditions\n",
    "\\begin{equation}\n",
    "\\Delta u = -f(u)\\\\\n",
    "u(x) = 0 \\qquad x\\in \\partial \\Omega\n",
    "\\end{equation}\n",
    "where $\\partial \\Omega$ is the boundary of the domain.  We can seek to solve the optimization problem\n",
    "\\begin{equation}\n",
    "\\mathop{\\mathsf{minimize}}_u \\|\\Delta u + f(u)\\|\\\\\n",
    "\\text{subject to } u(x) = 0 \\qquad x \\in \\partial \\Omega\n",
    "\\end{equation}\n",
    "\n",
    "we'll use $f(u) = u^3$, modifying the example from the [SciPy Cookbook](https://scipy-cookbook.readthedocs.io/items/discrete_bvp.html)"
   ]
  },
  {
   "cell_type": "code",
   "execution_count": 24,
   "metadata": {},
   "outputs": [],
   "source": [
    "def interior_laplacian(n):\n",
    "    \"\"\"\n",
    "    Laplacian defined on the interior a length n grid\n",
    "    \"\"\"\n",
    "    L = Laplacian(n).todok()\n",
    "    L[0,0] = 0\n",
    "    L[1,0] = 0\n",
    "    L[-1,-1] = 0\n",
    "    L[-2,-1] = 0\n",
    "    return L.tocsr()\n",
    "\n",
    "def interior_eye(n):\n",
    "    diag = np.ones(n)\n",
    "    diag[0] = 0\n",
    "    diag[-1] = 0\n",
    "    In = sparse.dia_matrix((diag, 0), shape=(n,n))\n",
    "    return In\n",
    "    \n",
    "    \n",
    "def interior_laplacian_2d(m, n):\n",
    "    \"\"\"\n",
    "    Laplacian defined on the interior of a m x n grid\n",
    "    \"\"\"\n",
    "    Lm = interior_laplacian(m)\n",
    "    Im = interior_eye(m)\n",
    "    Ln = interior_laplacian(n)\n",
    "    In = interior_eye(n)\n",
    "    return sparse.kron(Lm, In) + sparse.kron(Im, Ln)\n"
   ]
  },
  {
   "cell_type": "code",
   "execution_count": 25,
   "metadata": {},
   "outputs": [],
   "source": [
    "m = 100\n",
    "n = 100\n",
    "L = interior_laplacian_2d(m,n)\n",
    "\n",
    "def rhs(u):\n",
    "    return u**3\n",
    "\n",
    "def f(u, *args, **kwargs):\n",
    "    # return vector of residuals\n",
    "    Lu = L @ u\n",
    "    return Lu + rhs(u)"
   ]
  },
  {
   "cell_type": "markdown",
   "metadata": {},
   "source": [
    "We'll also define the jacobian"
   ]
  },
  {
   "cell_type": "code",
   "execution_count": 26,
   "metadata": {},
   "outputs": [],
   "source": [
    "def compute_jac_indices(n):\n",
    "    \"\"\"\n",
    "    compute indices for the Jacobian.  These are fixed for all iterations\n",
    "    \"\"\"\n",
    "    i = np.arange(n)\n",
    "    jj, ii = np.meshgrid(i, i)\n",
    "\n",
    "    ii = ii.ravel()\n",
    "    jj = jj.ravel()\n",
    "\n",
    "    ij = np.arange(n**2)\n",
    "\n",
    "    jac_rows = [ij]\n",
    "    jac_cols = [ij]\n",
    "\n",
    "    mask = ii > 0\n",
    "    ij_mask = ij[mask]\n",
    "    jac_rows.append(ij_mask)\n",
    "    jac_cols.append(ij_mask - n)\n",
    "\n",
    "    mask = ii < n - 1\n",
    "    ij_mask = ij[mask]\n",
    "    jac_rows.append(ij_mask)\n",
    "    jac_cols.append(ij_mask + n)\n",
    "\n",
    "    mask = jj > 0\n",
    "    ij_mask = ij[mask]\n",
    "    jac_rows.append(ij_mask)\n",
    "    jac_cols.append(ij_mask - 1)\n",
    "\n",
    "    mask = jj < n - 1\n",
    "    ij_mask = ij[mask]\n",
    "    jac_rows.append(ij_mask)\n",
    "    jac_cols.append(ij_mask + 1)\n",
    "\n",
    "    return np.hstack(jac_rows), np.hstack(jac_cols)\n",
    "\n",
    "\n",
    "\n",
    "jac_rows, jac_cols = compute_jac_indices(100)\n",
    "\n",
    "\n",
    "def jac(u, jac_rows=None, jac_cols=None):\n",
    "    n = len(u)\n",
    "    jac_values = np.ones_like(jac_cols, dtype=float)\n",
    "    jac_values[:n] = -4 + 3*u**2\n",
    "    return sparse.coo_matrix((jac_values, (jac_rows, jac_cols)), shape=(n, n))"
   ]
  },
  {
   "cell_type": "code",
   "execution_count": 31,
   "metadata": {},
   "outputs": [
    {
     "name": "stdout",
     "output_type": "stream",
     "text": [
      "`xtol` termination condition is satisfied.\n",
      "Function evaluations 27, initial cost 5.3960e+03, final cost 5.3860e+01, first-order optimality 1.15e+00.\n"
     ]
    }
   ],
   "source": [
    "import scipy.optimize as opt\n",
    "\n",
    "\n",
    "res = opt.least_squares(\n",
    "    f, \n",
    "    # np.random.rand(m*n), \n",
    "    np.ones(m*n),\n",
    "    jac=jac, \n",
    "    kwargs={'jac_rows': jac_rows, 'jac_cols': jac_cols},\n",
    "    verbose=1)"
   ]
  },
  {
   "cell_type": "code",
   "execution_count": 32,
   "metadata": {},
   "outputs": [
    {
     "data": {
      "image/png": "[encoded data removed]",
      "text/plain": [
       "<Figure size 432x288 with 2 Axes>"
      ]
     },
     "metadata": {
      "needs_background": "light"
     },
     "output_type": "display_data"
    }
   ],
   "source": [
    "xsol = np.reshape(res.x, (100,100))\n",
    "\n",
    "plt.imshow(xsol)\n",
    "plt.colorbar()\n",
    "plt.show()"
   ]
  },
  {
   "cell_type": "code",
   "execution_count": null,
   "metadata": {},
   "outputs": [],
   "source": []
  },
  {
   "cell_type": "code",
   "execution_count": null,
   "metadata": {},
   "outputs": [],
   "source": []
  }
 ],
 "metadata": {
  "kernelspec": {
   "display_name": "Python (pycourse)",
   "language": "python",
   "name": "pycourse"
  },
  "language_info": {
   "codemirror_mode": {
    "name": "ipython",
    "version": 3
   },
   "file_extension": ".py",
   "mimetype": "text/x-python",
   "name": "python",
   "nbconvert_exporter": "python",
   "pygments_lexer": "ipython3",
   "version": "3.8.11"
  }
 },
 "nbformat": 4,
 "nbformat_minor": 4
}
