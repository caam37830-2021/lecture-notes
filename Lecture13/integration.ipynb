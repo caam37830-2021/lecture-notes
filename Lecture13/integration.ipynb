{
 "cells": [
  {
   "cell_type": "markdown",
   "metadata": {},
   "source": [
    "# Integration & Quadrature\n",
    "\n",
    "First, let's recall a few definitions.  An indefinite integral is an integral without bounds, and is defined up to a constant\n",
    "\\begin{equation}\n",
    "\\int x\\, dx = \\frac{x^2}{2} + C\n",
    "\\end{equation}\n",
    "A definite integral has bounds, which are sometimes symbolic\n",
    "\\begin{equation}\n",
    "\\int_0^y 1\\, dx = y\n",
    "\\end{equation}"
   ]
  },
  {
   "cell_type": "markdown",
   "metadata": {},
   "source": [
    "## Symbolic Integration\n",
    "\n",
    "`sympy` includes a variety of functionality for integration."
   ]
  },
  {
   "cell_type": "code",
   "execution_count": 1,
   "metadata": {},
   "outputs": [],
   "source": [
    "import sympy as sym\n",
    "x, y = sym.symbols('x y')"
   ]
  },
  {
   "cell_type": "markdown",
   "metadata": {},
   "source": [
    "You can compute indefinite integrals"
   ]
  },
  {
   "cell_type": "code",
   "execution_count": 2,
   "metadata": {},
   "outputs": [
    {
     "data": {
      "text/latex": [
       "$\\displaystyle x$"
      ],
      "text/plain": [
       "x"
      ]
     },
     "execution_count": 2,
     "metadata": {},
     "output_type": "execute_result"
    }
   ],
   "source": [
    "sym.integrate(1, x) "
   ]
  },
  {
   "cell_type": "code",
   "execution_count": 3,
   "metadata": {},
   "outputs": [
    {
     "data": {
      "text/latex": [
       "$\\displaystyle \\frac{x^{3}}{3} + \\frac{x^{2}}{2} - x$"
      ],
      "text/plain": [
       "x**3/3 + x**2/2 - x"
      ]
     },
     "execution_count": 3,
     "metadata": {},
     "output_type": "execute_result"
    }
   ],
   "source": [
    "sym.integrate(x**2 + x - 1)"
   ]
  },
  {
   "cell_type": "code",
   "execution_count": 4,
   "metadata": {},
   "outputs": [
    {
     "data": {
      "text/latex": [
       "$\\displaystyle \\frac{x y^{2}}{2}$"
      ],
      "text/plain": [
       "x*y**2/2"
      ]
     },
     "execution_count": 4,
     "metadata": {},
     "output_type": "execute_result"
    }
   ],
   "source": [
    "sym.integrate(x*y, y)"
   ]
  },
  {
   "cell_type": "markdown",
   "metadata": {},
   "source": [
    "If you want to compute definite integrals, you can pass in the bounds"
   ]
  },
  {
   "cell_type": "code",
   "execution_count": 5,
   "metadata": {},
   "outputs": [
    {
     "data": {
      "text/latex": [
       "$\\displaystyle 2$"
      ],
      "text/plain": [
       "2"
      ]
     },
     "execution_count": 5,
     "metadata": {},
     "output_type": "execute_result"
    }
   ],
   "source": [
    "sym.integrate(1, (x, 0, 2))"
   ]
  },
  {
   "cell_type": "code",
   "execution_count": 6,
   "metadata": {},
   "outputs": [
    {
     "data": {
      "text/latex": [
       "$\\displaystyle 2$"
      ],
      "text/plain": [
       "2"
      ]
     },
     "execution_count": 6,
     "metadata": {},
     "output_type": "execute_result"
    }
   ],
   "source": [
    "sym.integrate(sym.sin(x), (x, 0, sym.pi))"
   ]
  },
  {
   "cell_type": "code",
   "execution_count": 7,
   "metadata": {},
   "outputs": [
    {
     "data": {
      "text/latex": [
       "$\\displaystyle \\frac{x}{2}$"
      ],
      "text/plain": [
       "x/2"
      ]
     },
     "execution_count": 7,
     "metadata": {},
     "output_type": "execute_result"
    }
   ],
   "source": [
    "sym.integrate(x*y, (y, 0, 1))"
   ]
  },
  {
   "cell_type": "code",
   "execution_count": 8,
   "metadata": {},
   "outputs": [
    {
     "data": {
      "text/latex": [
       "$\\displaystyle \\frac{y^{2}}{2}$"
      ],
      "text/plain": [
       "y**2/2"
      ]
     },
     "execution_count": 8,
     "metadata": {},
     "output_type": "execute_result"
    }
   ],
   "source": [
    "sym.integrate(x, (x, 0, y))"
   ]
  },
  {
   "cell_type": "markdown",
   "metadata": {},
   "source": [
    "SymPy also provides integral transforms such as the Fourier transform"
   ]
  },
  {
   "cell_type": "code",
   "execution_count": 9,
   "metadata": {},
   "outputs": [
    {
     "data": {
      "text/latex": [
       "$\\displaystyle \\sqrt{\\pi} e^{- \\pi^{2} k^{2}}$"
      ],
      "text/plain": [
       "sqrt(pi)*exp(-pi**2*k**2)"
      ]
     },
     "execution_count": 9,
     "metadata": {},
     "output_type": "execute_result"
    }
   ],
   "source": [
    "k = sym.Symbol('k')\n",
    "sym.fourier_transform(sym.exp(-x**2), x, k)"
   ]
  },
  {
   "cell_type": "markdown",
   "metadata": {},
   "source": [
    "You can find more complete information in the [sympy documentation](https://docs.sympy.org/latest/modules/integrals/integrals.html)"
   ]
  },
  {
   "cell_type": "markdown",
   "metadata": {},
   "source": [
    "## Numerical Integration (Quadrature)\n",
    "\n",
    "Numerical integration is used to obtain definite integrals.\n",
    "\n",
    "First, we should recall the definition of the Riemannian integral:\n",
    "\\begin{equation}\n",
    "\\int_a^b f(x)\\, dx = \\lim_{n\\to \\infty} \\frac{b-a}{n}\\sum_{i=1}^n f(x_i) (x_{i+1} - x_i)\n",
    "\\end{equation}\n",
    "where the sequence $\\{x_i\\}$ is built for each $n$ so that $x_{i+1} - x_{i} = (b-a)/n$.  It is useful to think of how integrals compute area under a curve.  In this case, we are (approximately) computing this area as the sum of rectangles with height $f(x_i)$ and width $x_{i+1}-x_i$.  More generally, we can think of this as a weighted sum of function values\n",
    "\\begin{equation}\n",
    "\\sum_{i=1}^n f(x_i) w_i\n",
    "\\end{equation}\n",
    "Which looks more like Lesbegue integration, where $w_i$ is the measure assigned to the point $x_i$.\n",
    "\n",
    "In order to numerically integrate functions, we will take a finite sum of weighted function values, where the weights and function evaluation points are designed to give a good approximation to the integral.  This is known as [quadrature](https://en.wikipedia.org/wiki/Quadrature_(mathematics)) (instead of inegration).\n",
    "\n",
    "### Trapezoidal Rule\n",
    "\n",
    "One of the simplest quadrature rules is trapezoid rule, which approximates an area under a curve by trapezoids defined by the four points $(x_i,0), (x_{i+1},0), (x_i, f(x_i)), (x_{i+1}, f(x_{i+1}))$.  The area of this trapezoid is \n",
    "\\begin{equation}\n",
    "\\frac{1}{2}\\bigg(f(x_{i+1}) + f(x_i)\\bigg)(x_{i+1} - x_i)\n",
    "\\end{equation}\n",
    "If we have $a = x_0 \\le x_1 \\le ... \\le x_{n} = b$ equally spaced, then the quadrature weights for $x_i$ are $w_i = (b-a)/n$ if $i\\notin \\{0,n\\}$, and $w_i= (b-a)/(2n)$ if $i \\in \\{0,n\\}$\n",
    "\n",
    "You can use trapezoid rule in `scipy` using [`scipy.integrate.trapz`](https://docs.scipy.org/doc/scipy/reference/generated/scipy.integrate.trapz.html#scipy.integrate.trapz)"
   ]
  },
  {
   "cell_type": "code",
   "execution_count": 10,
   "metadata": {},
   "outputs": [
    {
     "data": {
      "text/plain": [
       "0.33335033840084355"
      ]
     },
     "execution_count": 10,
     "metadata": {},
     "output_type": "execute_result"
    }
   ],
   "source": [
    "import numpy as np\n",
    "from scipy.integrate import trapz\n",
    "\n",
    "x = np.linspace(0,1,100)\n",
    "y = x**2\n",
    "trapz(y, x) # actual answer is 1/3"
   ]
  },
  {
   "cell_type": "markdown",
   "metadata": {},
   "source": [
    "Other quadrature rules that you can use easily are Simpson's rule (`simps`) and Romberg's rule (`romb`)"
   ]
  },
  {
   "cell_type": "code",
   "execution_count": 11,
   "metadata": {},
   "outputs": [
    {
     "data": {
      "text/plain": [
       "0.333333505101692"
      ]
     },
     "execution_count": 11,
     "metadata": {},
     "output_type": "execute_result"
    }
   ],
   "source": [
    "from scipy.integrate import simps\n",
    "\n",
    "simps(y,x) # again, answer is 1/3"
   ]
  },
  {
   "cell_type": "markdown",
   "metadata": {},
   "source": [
    "### Gaussian Quadrature\n",
    "\n",
    "Gaussian quadrature computes points `x_i` and weights `w_i` to optimally integrate polynomials up to some fixed order.  This is all wrapped up in `fixed_quad` or `quadrature` functions"
   ]
  },
  {
   "cell_type": "code",
   "execution_count": 12,
   "metadata": {},
   "outputs": [],
   "source": [
    "from scipy.integrate import fixed_quad, quadrature\n",
    "\n",
    "f = lambda x: x**2"
   ]
  },
  {
   "cell_type": "markdown",
   "metadata": {},
   "source": [
    "`fixed_quad` integrates up to fixed polynomial order"
   ]
  },
  {
   "cell_type": "code",
   "execution_count": 13,
   "metadata": {},
   "outputs": [
    {
     "data": {
      "text/plain": [
       "(0.33333333333333326, None)"
      ]
     },
     "execution_count": 13,
     "metadata": {},
     "output_type": "execute_result"
    }
   ],
   "source": [
    "fixed_quad(f, 0, 1)"
   ]
  },
  {
   "cell_type": "markdown",
   "metadata": {},
   "source": [
    "The return tuple is the computed result and `None`."
   ]
  },
  {
   "cell_type": "markdown",
   "metadata": {},
   "source": [
    "`quadrature` integrates up to a fixed tolerance"
   ]
  },
  {
   "cell_type": "code",
   "execution_count": 14,
   "metadata": {},
   "outputs": [
    {
     "data": {
      "text/plain": [
       "(0.3333333333333333, 5.551115123125783e-17)"
      ]
     },
     "execution_count": 14,
     "metadata": {},
     "output_type": "execute_result"
    }
   ],
   "source": [
    "quadrature(f, 0, 1)"
   ]
  },
  {
   "cell_type": "markdown",
   "metadata": {},
   "source": [
    "The return tuple is the computed result and the error, measured as the difference between the last two estimates."
   ]
  },
  {
   "cell_type": "markdown",
   "metadata": {},
   "source": [
    "### General Quadrature\n",
    "\n",
    "The function [`quad`](https://docs.scipy.org/doc/scipy/reference/generated/scipy.integrate.quad.html#scipy.integrate.quad) wraps a varitety of functionality.  Basic use is just like above"
   ]
  },
  {
   "cell_type": "code",
   "execution_count": 15,
   "metadata": {},
   "outputs": [
    {
     "data": {
      "text/plain": [
       "(0.33333333333333337, 3.700743415417189e-15)"
      ]
     },
     "execution_count": 15,
     "metadata": {},
     "output_type": "execute_result"
    }
   ],
   "source": [
    "from scipy.integrate import quad\n",
    "\n",
    "f = lambda x: x**2\n",
    "\n",
    "quad(f, 0, 1)"
   ]
  },
  {
   "cell_type": "markdown",
   "metadata": {},
   "source": [
    "Again, the function returns the computed result, and an estimate of the absolute error.\n",
    "\n",
    "You can also compute integrals on unbounded domains"
   ]
  },
  {
   "cell_type": "code",
   "execution_count": 16,
   "metadata": {},
   "outputs": [
    {
     "data": {
      "text/plain": [
       "(0.8862269254527579, 7.101318390472462e-09)"
      ]
     },
     "execution_count": 16,
     "metadata": {},
     "output_type": "execute_result"
    }
   ],
   "source": [
    "f = lambda x: np.exp(-x**2)\n",
    "\n",
    "quad(f, 0, np.inf)"
   ]
  },
  {
   "cell_type": "markdown",
   "metadata": {},
   "source": [
    "### Functions with Discontinuities\n",
    "\n",
    "Discontinuities can cause problems with any sort of quadrature scheme that assumes functions are continuous.  You can specify problematics points with `points`"
   ]
  },
  {
   "cell_type": "code",
   "execution_count": 17,
   "metadata": {},
   "outputs": [
    {
     "data": {
      "image/png": "[encoded data removed]",
      "text/plain": [
       "<Figure size 432x288 with 1 Axes>"
      ]
     },
     "metadata": {
      "needs_background": "light"
     },
     "output_type": "display_data"
    }
   ],
   "source": [
    "import matplotlib.pyplot as plt\n",
    "\n",
    "f = lambda x : np.floor(x**2)\n",
    "\n",
    "x = np.linspace(0,2,100)\n",
    "plt.plot(x, f(x))\n",
    "plt.show()"
   ]
  },
  {
   "cell_type": "code",
   "execution_count": 18,
   "metadata": {},
   "outputs": [
    {
     "data": {
      "text/plain": [
       "(1.8537356322944702, 9.277312917888025e-09)"
      ]
     },
     "execution_count": 18,
     "metadata": {},
     "output_type": "execute_result"
    }
   ],
   "source": [
    "quad(f, 0, 2)"
   ]
  },
  {
   "cell_type": "code",
   "execution_count": 19,
   "metadata": {},
   "outputs": [
    {
     "data": {
      "text/plain": [
       "(1.8537356300580277, 2.0580599780584437e-14)"
      ]
     },
     "execution_count": 19,
     "metadata": {},
     "output_type": "execute_result"
    }
   ],
   "source": [
    "quad(f, 0, 2, points=np.sqrt(np.arange(5)))"
   ]
  },
  {
   "cell_type": "markdown",
   "metadata": {},
   "source": [
    "### Functions with Singularities\n",
    "\n",
    "Depending on the type of singularity, you can pass in different arguments into the `weight` and `wvar` parameters of `quad`.  See [the documentation](https://docs.scipy.org/doc/scipy/reference/generated/scipy.integrate.quad.html#scipy.integrate.quad) for details.\n",
    "\n",
    "Here is an example "
   ]
  },
  {
   "cell_type": "code",
   "execution_count": 20,
   "metadata": {},
   "outputs": [
    {
     "name": "stderr",
     "output_type": "stream",
     "text": [
      "<ipython-input-20-74bd56e45931>:1: RuntimeWarning: divide by zero encountered in true_divide\n",
      "  f = lambda x : 1 / x\n"
     ]
    },
    {
     "data": {
      "image/png": "[encoded data removed]",
      "text/plain": [
       "<Figure size 432x288 with 1 Axes>"
      ]
     },
     "metadata": {
      "needs_background": "light"
     },
     "output_type": "display_data"
    }
   ],
   "source": [
    "f = lambda x : 1 / x\n",
    "\n",
    "x = np.linspace(-1,2,100)\n",
    "plt.plot(x, f(x))\n",
    "plt.show()"
   ]
  },
  {
   "cell_type": "code",
   "execution_count": 21,
   "metadata": {},
   "outputs": [
    {
     "data": {
      "text/plain": [
       "(0.6931471805599452, 0.0)"
      ]
     },
     "execution_count": 21,
     "metadata": {},
     "output_type": "execute_result"
    }
   ],
   "source": [
    "quad(lambda x : 1, -1, 2, weight='cauchy', wvar=0)"
   ]
  },
  {
   "cell_type": "code",
   "execution_count": 22,
   "metadata": {},
   "outputs": [
    {
     "data": {
      "text/plain": [
       "0.6931471805599453"
      ]
     },
     "execution_count": 22,
     "metadata": {},
     "output_type": "execute_result"
    }
   ],
   "source": [
    "np.log(2)"
   ]
  },
  {
   "cell_type": "markdown",
   "metadata": {},
   "source": [
    "## Multivariate Integration\n",
    "\n",
    "You can integrate over functions of multiple variables using\n",
    "* [`dblquad`](https://docs.scipy.org/doc/scipy/reference/generated/scipy.integrate.dblquad.html#scipy.integrate.dblquad) for 2 variables\n",
    "* [`tplquad`](https://docs.scipy.org/doc/scipy/reference/generated/scipy.integrate.tplquad.html#scipy.integrate.tplquad) for 3 variables\n",
    "* [`nquad`](https://docs.scipy.org/doc/scipy/reference/generated/scipy.integrate.nquad.html#scipy.integrate.nquad) for `n` variables\n",
    "\n",
    "`nquad` integrates over a hyper cube defined by ranges in the second argument. `dblquad` and `tplquad` can allow you to integrate over more complicated domains."
   ]
  },
  {
   "cell_type": "code",
   "execution_count": 23,
   "metadata": {},
   "outputs": [
    {
     "data": {
      "text/plain": [
       "(5.56795898358481, 1.4605401208842099e-08)"
      ]
     },
     "execution_count": 23,
     "metadata": {},
     "output_type": "execute_result"
    }
   ],
   "source": [
    "from scipy.integrate import nquad\n",
    "\n",
    "f = lambda x, y, z : np.exp( -x**2 - y**2 - z**2)\n",
    "\n",
    "nquad(f, ((-3,3), (-3,3), (-3,3)))"
   ]
  },
  {
   "cell_type": "markdown",
   "metadata": {},
   "source": [
    "## Monte Carlo Integration\n",
    "\n",
    "[Monte Carlo integration](https://en.wikipedia.org/wiki/Monte_Carlo_integration) is a method which computes integrals by taking a sum over random samples. \n",
    "\n",
    "\\begin{equation}\n",
    "\\int_{a}^b f(x) = \\mathbb{E}_{U(a,b)} [f]\n",
    "\\end{equation}\n",
    "\n",
    "Where $U(a,b)$ is the uniform distribution over the interval $[a,b]$. We can estimate this expected value by drawing samples from the distribution, and computing\n",
    "\n",
    "\\begin{equation}\n",
    "\\mathbb{E}_{U(a,b)} [f] \\approx \\frac{1}{N} \\sum_{i=1}^N f(x_i), x_i \\sim U(a,b)\n",
    "\\end{equation}\n",
    "\n",
    "Or, more generally, we might define an integral over a probability measure $\\mu$\n",
    "\n",
    "\\begin{equation}\n",
    "\\int f(x)\\, d\\mu(x) = \\mathbb{E}_{\\mu} [f] = \\frac{1}{N} \\sum_{i=1}^N f(x_i), x_i \\sim \\mu(x)\n",
    "\\end{equation}\n",
    "\n",
    "The expected error can be derived from the law of large numbers, and is typically $\\frac{1}{\\sqrt{N}}$.  In high dimensions, this is typically the most effictive way to integrate functions, as quadrature requires a number of samples that is exponential in terms of the dimension.\n",
    "\n",
    "### Example\n",
    "\n",
    "The classic example of Monte Carlo integration is computing $\\pi$ using random samples.  Recall the area of the unit circle is $\\pi$, and the area of the square $[-1,1]^2$ is $4$.  We sample points uniformly from this square, and compute how many fall in the unit circle - the expected ratio of points inside the circle to the total number of points is $\\pi/4$."
   ]
  },
  {
   "cell_type": "code",
   "execution_count": 24,
   "metadata": {},
   "outputs": [],
   "source": [
    "def compute_pi_mc(n=1000):\n",
    "    x = np.random.rand(n,2)*2 - 1\n",
    "    r = np.linalg.norm(x, axis=1)\n",
    "    return 4 * np.sum(r < 1.) / n"
   ]
  },
  {
   "cell_type": "code",
   "execution_count": 25,
   "metadata": {},
   "outputs": [
    {
     "name": "stdout",
     "output_type": "stream",
     "text": [
      "CPU times: user 469 ms, sys: 59.4 ms, total: 528 ms\n",
      "Wall time: 535 ms\n"
     ]
    },
    {
     "data": {
      "text/plain": [
       "3.141"
      ]
     },
     "execution_count": 25,
     "metadata": {},
     "output_type": "execute_result"
    }
   ],
   "source": [
    "%time compute_pi_mc(10_000_000)"
   ]
  },
  {
   "cell_type": "markdown",
   "metadata": {},
   "source": [
    "We can use numba to parallelize this"
   ]
  },
  {
   "cell_type": "code",
   "execution_count": 26,
   "metadata": {},
   "outputs": [],
   "source": [
    "from numba import njit\n",
    "\n",
    "@njit\n",
    "def compute_pi_mc_numba(n=1000):\n",
    "    x = np.random.rand(n,2)*2 - 1\n",
    "    ct = 0\n",
    "    for i in range(n):\n",
    "        ct += x[i,0]**2 + x[i,1]**2 < 1\n",
    "    return 4 * ct / n"
   ]
  },
  {
   "cell_type": "code",
   "execution_count": 28,
   "metadata": {},
   "outputs": [
    {
     "name": "stdout",
     "output_type": "stream",
     "text": [
      "CPU times: user 257 ms, sys: 107 ms, total: 364 ms\n",
      "Wall time: 366 ms\n"
     ]
    },
    {
     "data": {
      "text/plain": [
       "3.141374"
      ]
     },
     "execution_count": 28,
     "metadata": {},
     "output_type": "execute_result"
    }
   ],
   "source": [
    "%time compute_pi_mc_numba(10_000_000)"
   ]
  },
  {
   "cell_type": "code",
   "execution_count": 29,
   "metadata": {},
   "outputs": [],
   "source": [
    "from numba import njit, prange\n",
    "\n",
    "@njit(parallel=True)\n",
    "def compute_pi_mc_numba_parallel(n=1000):\n",
    "    x = np.random.rand(n,2)*2 - 1\n",
    "    ct = 0\n",
    "    for i in prange(n):\n",
    "        ct += x[i,0]**2 + x[i,1]**2 < 1\n",
    "    return 4 * ct / n"
   ]
  },
  {
   "cell_type": "code",
   "execution_count": 31,
   "metadata": {},
   "outputs": [
    {
     "name": "stdout",
     "output_type": "stream",
     "text": [
      "CPU times: user 492 ms, sys: 170 ms, total: 662 ms\n",
      "Wall time: 136 ms\n"
     ]
    },
    {
     "data": {
      "text/plain": [
       "3.1422112"
      ]
     },
     "execution_count": 31,
     "metadata": {},
     "output_type": "execute_result"
    }
   ],
   "source": [
    "%time compute_pi_mc_numba_parallel(10_000_000)"
   ]
  },
  {
   "cell_type": "markdown",
   "metadata": {},
   "source": [
    "if we look at the wall time, we see this runs faster than any of the other options"
   ]
  },
  {
   "cell_type": "code",
   "execution_count": null,
   "metadata": {},
   "outputs": [],
   "source": []
  }
 ],
 "metadata": {
  "kernelspec": {
   "display_name": "Python (pycourse)",
   "language": "python",
   "name": "pycourse"
  },
  "language_info": {
   "codemirror_mode": {
    "name": "ipython",
    "version": 3
   },
   "file_extension": ".py",
   "mimetype": "text/x-python",
   "name": "python",
   "nbconvert_exporter": "python",
   "pygments_lexer": "ipython3",
   "version": "3.8.3"
  }
 },
 "nbformat": 4,
 "nbformat_minor": 4
}
